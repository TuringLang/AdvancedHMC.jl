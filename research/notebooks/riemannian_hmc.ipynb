{
 "cells": [
  {
   "cell_type": "code",
   "execution_count": 4,
   "id": "0b189f71-e0a4-4ac3-ba2d-ac2e33d24abe",
   "metadata": {},
   "outputs": [
    {
     "name": "stderr",
     "output_type": "stream",
     "text": [
      "\u001b[36m\u001b[1m[ \u001b[22m\u001b[39m\u001b[36m\u001b[1mInfo: \u001b[22m\u001b[39mPrecompiling AdvancedHMC [0bf59076-c3b1-5ca4-86bd-e02cd72cde3d]\n",
      "\u001b[91m\u001b[1mERROR: \u001b[22m\u001b[39mLoadError: ArgumentError: Package AdvancedHMC does not have SimpleUnPack in its dependencies:\n",
      "- You may have a partially installed environment. Try `Pkg.instantiate()`\n",
      "  to ensure all packages in the environment are installed.\n",
      "- Or, if you have AdvancedHMC checked out for development and have\n",
      "  added SimpleUnPack as a dependency but haven't updated your primary\n",
      "  environment's manifest file, try `Pkg.resolve()`.\n",
      "- Otherwise you may need to report an issue with AdvancedHMC\n",
      "Stacktrace:\n",
      " [1] \u001b[0m\u001b[1mmacro expansion\u001b[22m\n",
      "\u001b[90m   @\u001b[39m \u001b[90m./\u001b[39m\u001b[90m\u001b[4mloading.jl:1597\u001b[24m\u001b[39m\u001b[90m [inlined]\u001b[39m\n",
      " [2] \u001b[0m\u001b[1mmacro expansion\u001b[22m\n",
      "\u001b[90m   @\u001b[39m \u001b[90m./\u001b[39m\u001b[90m\u001b[4mlock.jl:267\u001b[24m\u001b[39m\u001b[90m [inlined]\u001b[39m\n",
      " [3] \u001b[0m\u001b[1mrequire\u001b[22m\u001b[0m\u001b[1m(\u001b[22m\u001b[90minto\u001b[39m::\u001b[0mModule, \u001b[90mmod\u001b[39m::\u001b[0mSymbol\u001b[0m\u001b[1m)\u001b[22m\n",
      "\u001b[90m   @\u001b[39m \u001b[90mBase\u001b[39m \u001b[90m./\u001b[39m\u001b[90m\u001b[4mloading.jl:1574\u001b[24m\u001b[39m\n",
      " [4] \u001b[0m\u001b[1minclude\u001b[22m\n",
      "\u001b[90m   @\u001b[39m \u001b[90m./\u001b[39m\u001b[90m\u001b[4mBase.jl:457\u001b[24m\u001b[39m\u001b[90m [inlined]\u001b[39m\n",
      " [5] \u001b[0m\u001b[1minclude_package_for_output\u001b[22m\u001b[0m\u001b[1m(\u001b[22m\u001b[90mpkg\u001b[39m::\u001b[0mBase.PkgId, \u001b[90minput\u001b[39m::\u001b[0mString, \u001b[90mdepot_path\u001b[39m::\u001b[0mVector\u001b[90m{String}\u001b[39m, \u001b[90mdl_load_path\u001b[39m::\u001b[0mVector\u001b[90m{String}\u001b[39m, \u001b[90mload_path\u001b[39m::\u001b[0mVector\u001b[90m{String}\u001b[39m, \u001b[90mconcrete_deps\u001b[39m::\u001b[0mVector\u001b[90m{Pair{Base.PkgId, UInt128}}\u001b[39m, \u001b[90msource\u001b[39m::\u001b[0mNothing\u001b[0m\u001b[1m)\u001b[22m\n",
      "\u001b[90m   @\u001b[39m \u001b[90mBase\u001b[39m \u001b[90m./\u001b[39m\u001b[90m\u001b[4mloading.jl:2012\u001b[24m\u001b[39m\n",
      " [6] top-level scope\n",
      "\u001b[90m   @\u001b[39m \u001b[90m\u001b[4mstdin:2\u001b[24m\u001b[39m\n",
      "in expression starting at /Users/hg344/.julia/dev/AdvancedHMC/src/AdvancedHMC.jl:1\n",
      "in expression starting at stdin:2\n"
     ]
    },
    {
     "ename": "LoadError",
     "evalue": "Failed to precompile AdvancedHMC [0bf59076-c3b1-5ca4-86bd-e02cd72cde3d] to \"/Users/hg344/.julia/compiled/v1.9/AdvancedHMC/jl_xsuus6\".",
     "output_type": "error",
     "traceback": [
      "Failed to precompile AdvancedHMC [0bf59076-c3b1-5ca4-86bd-e02cd72cde3d] to \"/Users/hg344/.julia/compiled/v1.9/AdvancedHMC/jl_xsuus6\".",
      "",
      "Stacktrace:",
      " [1] error(s::String)",
      "   @ Base ./error.jl:35",
      " [2] compilecache(pkg::Base.PkgId, path::String, internal_stderr::IO, internal_stdout::IO, keep_loaded_modules::Bool)",
      "   @ Base ./loading.jl:2262",
      " [3] compilecache",
      "   @ ./loading.jl:2129 [inlined]",
      " [4] _require(pkg::Base.PkgId, env::String)",
      "   @ Base ./loading.jl:1772",
      " [5] _require_prelocked(uuidkey::Base.PkgId, env::String)",
      "   @ Base ./loading.jl:1623",
      " [6] macro expansion",
      "   @ ./loading.jl:1611 [inlined]",
      " [7] macro expansion",
      "   @ ./lock.jl:267 [inlined]",
      " [8] require(into::Module, mod::Symbol)",
      "   @ Base ./loading.jl:1574"
     ]
    }
   ],
   "source": [
    "using InteractiveUtils, Pkg, Revise\n",
    "using AdvancedHMC; Pkg.activate(pkgdir(AdvancedHMC) * \"/research/tests\"); Pkg.instantiate()\n",
    "versioninfo(); Pkg.status()"
   ]
  },
  {
   "cell_type": "code",
   "execution_count": null,
   "id": "c4eade28-5025-4c60-9337-3cdfcbd2def1",
   "metadata": {},
   "outputs": [],
   "source": [
    "using PyPlot: PyPlot; const plt = PyPlot\n",
    "using Statistics, AdvancedHMC\n",
    "includet(\"../src/riemannian_hmc.jl\")\n",
    "includet(\"../src/riemannian_hmc_utility.jl\")"
   ]
  },
  {
   "cell_type": "markdown",
   "id": "9108fc17-9f52-451e-8813-7ad3687ab44e",
   "metadata": {},
   "source": [
    "Baseline: HMC with dense but identity Euclidean metric"
   ]
  },
  {
   "cell_type": "code",
   "execution_count": null,
   "id": "7532a03d-015b-4cb6-a5cc-f9182bd7e583",
   "metadata": {},
   "outputs": [],
   "source": [
    "hps = (; target=:gaussian, n_samples=2_000, metric=:dense_euclidean, λ=1e-2, α=20.0, integrator=:lf, ϵ=0.1, n=6, L=8)\n",
    "retval = sample_target((; hps...))\n",
    "\n",
    "@info \"Samples\" mean(retval.samples) var(retval.samples)"
   ]
  },
  {
   "cell_type": "markdown",
   "id": "230a7fff-5453-43a7-b442-9c5075ecf569",
   "metadata": {},
   "source": [
    "Check if generalized leapfrog works fine"
   ]
  },
  {
   "cell_type": "code",
   "execution_count": null,
   "id": "ce7bb278-45cc-4a9a-b0cc-ca476a36a60a",
   "metadata": {},
   "outputs": [],
   "source": [
    "retval = sample_target((; hps..., integrator=:glf))\n",
    "\n",
    "@info \"Samples\" mean(retval.samples) var(retval.samples)"
   ]
  },
  {
   "cell_type": "markdown",
   "id": "cba6957c-94e4-438e-be4f-e225e036b812",
   "metadata": {},
   "source": [
    "Check if RHMC (with Fisher metric) works (on Gaussian)"
   ]
  },
  {
   "cell_type": "code",
   "execution_count": null,
   "id": "ea864f92-7028-43e9-99de-1ae5149fa3dd",
   "metadata": {},
   "outputs": [],
   "source": [
    "@time retval = sample_target((; hps..., metric=:dense_riemannian, integrator=:glf))\n",
    "\n",
    "@info \"Samples\" mean(retval.samples) var(retval.samples)"
   ]
  },
  {
   "cell_type": "markdown",
   "id": "42e85c7e-a20f-48b4-88fa-c82c594c419f",
   "metadata": {},
   "source": [
    "Check if RHMC (with Fisher metric) works for Neal's funnel"
   ]
  },
  {
   "cell_type": "code",
   "execution_count": null,
   "id": "598b3310-5f2b-49ae-8371-60cf914d9af4",
   "metadata": {},
   "outputs": [],
   "source": [
    "using Logging: NullLogger, with_logger\n",
    "\n",
    "@time retval = with_logger(NullLogger()) do \n",
    "    sample_target((; hps..., target=:funnel, metric=:dense_riemannian, integrator=:glf))\n",
    "end\n",
    "\n",
    "@info \"Average acceptance ratio\" mean(map(s -> s.is_accept, retval.stats))\n",
    "\n",
    "let (fig, ax) = plt.subplots()\n",
    "    plt.close(fig)\n",
    "    \n",
    "    ax.scatter(map(s -> s[1], retval.samples), map(s -> s[2], retval.samples))\n",
    "    \n",
    "    fig\n",
    "end"
   ]
  },
  {
   "cell_type": "markdown",
   "id": "e185e260-724a-4189-8ddd-dd2f265f0c11",
   "metadata": {},
   "source": [
    "Check if RHMC with SoftAbs works for Gaussian"
   ]
  },
  {
   "cell_type": "code",
   "execution_count": null,
   "id": "d3f07163-1855-41e3-8423-3abbc8306c95",
   "metadata": {},
   "outputs": [],
   "source": [
    "@time retval = sample_target((; hps..., metric=:dense_riemannian_softabs, integrator=:glf))\n",
    "\n",
    "@info \"Samples\" mean(retval.samples) var(retval.samples)"
   ]
  },
  {
   "cell_type": "markdown",
   "id": "b7479887-fca7-4102-b626-665cc97cf545",
   "metadata": {},
   "source": [
    "Check if RHMC with SoftAbs works for Neal's funnel"
   ]
  },
  {
   "cell_type": "code",
   "execution_count": null,
   "id": "8a30d4de-62e0-4aa9-9886-2fd9b012bd61",
   "metadata": {
    "tags": []
   },
   "outputs": [],
   "source": [
    "@time retval = with_logger(NullLogger()) do \n",
    "    sample_target((; hps..., target=:funnel, metric=:dense_riemannian_softabs, integrator=:glf, ϵ=0.2))\n",
    "end\n",
    "\n",
    "@info \"Average acceptance ratio\" mean(map(s -> s.is_accept, retval.stats))\n",
    "\n",
    "let (fig, ax) = plt.subplots()\n",
    "    plt.close(fig)\n",
    "    \n",
    "    ax.scatter(map(s -> s[1], retval.samples), map(s -> s[2], retval.samples))\n",
    "    \n",
    "    fig\n",
    "end"
   ]
  },
  {
   "cell_type": "markdown",
   "id": "d1c69ba1-e22b-4a51-bd7a-04220e879b09",
   "metadata": {},
   "source": [
    "speed through optimization\n",
    "- unoptimized: 200s\n",
    "- +cache 1st loop: 82s\n",
    "- +cache 2nd loop: 77s\n",
    "- -copy in ad: 75s\n",
    "- -rev +fwd: 11s"
   ]
  },
  {
   "cell_type": "markdown",
   "id": "f2b0ef6d-3905-41bc-ac98-c2fd31ee6818",
   "metadata": {},
   "source": [
    "Check if the Hessian is (semi)-PD for Neal's funnel"
   ]
  },
  {
   "cell_type": "code",
   "execution_count": null,
   "id": "6eab0723-d777-4b10-a59d-0de1f9ad6536",
   "metadata": {},
   "outputs": [],
   "source": [
    "using PyCall: pyimport\n",
    "using LinearAlgebra: issuccess, cond\n",
    "using Printf: @sprintf\n",
    "const axes_grid1 = pyimport(\"mpl_toolkits.axes_grid1\")\n",
    "\n",
    "isposdef_pivot(A) = issuccess(cholesky(A, Val(true), check=false))\n",
    "\n",
    "function make_Z(Gfunc, f, λ=0.0)\n",
    "    is = -6:0.1:+2\n",
    "    js = -4:0.1:+4\n",
    "    X = Matrix{Float64}(undef, length(is), length(js))\n",
    "    Y = Matrix{Float64}(undef, length(is), length(js))\n",
    "    logdensity = Matrix{Float64}(undef, length(is), length(js))\n",
    "    Z = Matrix(undef, length(is), length(js))\n",
    "    for (i, iv) in enumerate(is), (j, jv) in enumerate(js)\n",
    "        v, _, G = Gfunc([iv, jv])\n",
    "        X[i,j] = iv\n",
    "        Y[i,j] = jv\n",
    "        logdensity[i,j] = exp(-v)\n",
    "        # PD[i,j] = isposdef(H + λ * I)\n",
    "        Z[i,j] = f(G + λ * I)\n",
    "    end\n",
    "    return logdensity, X, Y, Z\n",
    "end\n",
    "\n",
    "function plot_contour!(ax, X, Y, Z, label=nothing; kwargs...)\n",
    "    contour = ax.contour(X, Y, Z, alpha=0.7; kwargs...)\n",
    "    divider = axes_grid1.make_axes_locatable(ax)\n",
    "    cax = divider.append_axes(\"right\", size=\"5%\", pad=0.05)\n",
    "    cbar = plt.colorbar(contour, cax=cax, ax=ax, orientation=\"vertical\")\n",
    "    isnothing(label) || cbar.set_label(label)\n",
    "    ax.axis(\"equal\")\n",
    "end\n",
    "\n",
    "# Check which region gives non-positive definite for Neal's funnel\n",
    "let target = Funnel(), \n",
    "    rng = MersenneTwister(1110), \n",
    "    \n",
    "    D = dim(target)\n",
    "    initial_θ = rand(rng, D)\n",
    "    Vfunc = x -> -logpdf(target, x)\n",
    "    Gfunc = VecTargets.gen_hess(Vfunc, initial_θ)\n",
    "    \n",
    "    logdensity, X, Y, PD = make_Z(Gfunc, isposdef_pivot)\n",
    "    _, _, _, C = make_Z(Gfunc, cond)\n",
    "    \n",
    "    fig, (ax1, ax2, ax3, ax4) = plt.subplots(1, 4; figsize=(4 * 4, 4), tight_layout=true); plt.close(fig)\n",
    "    \n",
    "    plot_contour!(ax1, X, Y, logdensity, \"density\")\n",
    "    \n",
    "    ax2.imshow(PD', cmap=plt.cm.gray; interpolation=\"nearest\", extent=[extrema(X)..., extrema(Y)...]) \n",
    "    ax2.set_title(\"is PD? black=0, white=1\")\n",
    "    \n",
    "    Cvec = vec(C)\n",
    "    Cv95 = quantile(Cvec, 0.95) # ignoring outliers\n",
    "    \n",
    "    plot_contour!(ax3, X, Y, C; levels=[1:9..., 10:10:50...])\n",
    "    ax2.set_title(\"cond. number\")\n",
    "    \n",
    "    ax4.hist(Cvec[Cvec .< Cv95]; bins=30, density=true)\n",
    "    minstr = @sprintf(\"%.3f\", minimum(Cvec))\n",
    "    maxstr = @sprintf(\"%.3f\", maximum(Cvec))\n",
    "    ax4.set_title(\"min=$minstr, max=$maxstr\")\n",
    "    \n",
    "    fig\n",
    "end"
   ]
  },
  {
   "cell_type": "code",
   "execution_count": null,
   "id": "588af105-4137-4981-81c3-88a5b28c056c",
   "metadata": {},
   "outputs": [],
   "source": []
  }
 ],
 "metadata": {
  "kernelspec": {
   "display_name": "julia 1.9.0-rc2",
   "language": "julia",
   "name": "julia-1.9"
  },
  "language_info": {
   "file_extension": ".jl",
   "mimetype": "application/julia",
   "name": "julia",
   "version": "1.9.0"
  }
 },
 "nbformat": 4,
 "nbformat_minor": 5
}
