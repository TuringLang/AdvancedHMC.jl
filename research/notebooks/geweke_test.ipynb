{
 "cells": [
  {
   "cell_type": "code",
   "execution_count": null,
   "id": "7e531e7a-d6db-4ab2-9fc4-f36c6d275426",
   "metadata": {},
   "outputs": [],
   "source": [
    "using InteractiveUtils, Pkg, Revise\n",
    "using AdvancedHMC; Pkg.activate(pkgdir(AdvancedHMC) * \"/research/tests\"); Pkg.instantiate()\n",
    "versioninfo(); Pkg.status()\n"
   ]
  },
  {
   "cell_type": "code",
   "execution_count": null,
   "id": "ffcf9948-d150-4147-84f4-ea18c59b3bc9",
   "metadata": {},
   "outputs": [],
   "source": [
    "using Statistics, AdvancedHMC\n",
    "\n",
    "includet(\"../src/riemannian_hmc.jl\")\n",
    "includet(\"../src/riemannian_hmc_utility.jl\")"
   ]
  },
  {
   "cell_type": "markdown",
   "id": "c1282722-a525-4613-923f-ff951def304a",
   "metadata": {},
   "source": [
    "Neal's funnel"
   ]
  },
  {
   "cell_type": "code",
   "execution_count": 3,
   "id": "6bc99d6f-98da-46b6-9c2d-6c5823560770",
   "metadata": {},
   "outputs": [
    {
     "name": "stderr",
     "output_type": "stream",
     "text": [
      "\u001b[32mProgress:   5%|██                                       |  ETA: 0:08:22\u001b[39m"
     ]
    }
   ],
   "source": [
    "using Distributions, DynamicPPL\n",
    "\n",
    "# Treating the first 2 dimensions as latent and the third as data.\n",
    "@model function TuringFunnel(θ=missing, x=missing)\n",
    "    if ismissing(θ)\n",
    "        θ = Vector(undef, 2)\n",
    "    end\n",
    "    θ[1] ~ Normal(0, 3)\n",
    "    s = exp(θ[1] / 2)\n",
    "    θ[2] ~ Normal(0, s)\n",
    "    x ~ Normal(0, s)\n",
    "    return θ, x\n",
    "end\n",
    "\n",
    "# Sanity check for normal HMC\n",
    "function rand_θ_given_hmc(target, hps, x_data; seed=rand(UInt32))\n",
    "    rng = MersenneTwister(seed)\n",
    "    \n",
    "    D = dim(target) - 1\n",
    "    θ₀ = rand(rng, D)\n",
    "    \n",
    "    ℓπ = x -> logpdf(target, vcat(x, x_data))\n",
    "    ∂ℓπ∂θ = VecTargets.gen_grad(ℓπ, θ₀)\n",
    "\n",
    "    metric = DenseEuclideanMetric(D)\n",
    "    kinetic = GaussianKinetic()\n",
    "    hamiltonian = Hamiltonian(metric, kinetic, ℓπ, ∂ℓπ∂θ)\n",
    "\n",
    "    TS = EndPointTS\n",
    "    \n",
    "    integrator = GeneralizedLeapfrog(hps.ϵ, hps.n)\n",
    "\n",
    "    tc = FixedNSteps(hps.L)\n",
    "    \n",
    "    proposal = HMCKernel(Trajectory{TS}(integrator, tc))\n",
    "\n",
    "    samples, stats = sample(\n",
    "        rng, hamiltonian, proposal, θ₀, hps.n_samples; progress=false, verbose=true\n",
    "    )\n",
    "    \n",
    "    return samples[end]\n",
    "end\n",
    "\n",
    "make_rand_θ_given_hmc(hps, target) = x -> rand_θ_given_hmc(hps, target, x)\n",
    "\n",
    "g(θ, x) = cat(θ, x; dims=1)\n",
    "\n",
    "using MCMCDebugging\n",
    "using Logging: NullLogger, with_logger\n",
    "\n",
    "hps_geweke = (; n_samples=100, λ=1e-2, α=20.0, ϵ=0.1, n=6, L=8)\n",
    "\n",
    "@time res = with_logger(NullLogger()) do\n",
    "    perform(GewekeTest(1000), TuringFunnel, make_rand_θ_given_hmc(Funnel(3), hps_geweke); g=g)\n",
    "end\n",
    "\n",
    "using Plots: Plots\n",
    "\n",
    "Plots.plot(res, TuringFunnel(); size=(300, 300), title=\"HMC sampler\")"
   ]
  },
  {
   "cell_type": "code",
   "execution_count": null,
   "id": "05aafddb-4f6e-40fc-85b0-d0d731acd9bc",
   "metadata": {
    "tags": []
   },
   "outputs": [],
   "source": [
    "# I still need to use the hand-written one because of AD\n",
    "function rand_θ_given(hps, target, x_data; seed=rand(UInt32))\n",
    "    rng = MersenneTwister(seed)\n",
    "    \n",
    "    D = dim(target) - 1\n",
    "    θ₀ = rand(rng, D)\n",
    "    \n",
    "    ℓπ = x -> logpdf(target, vcat(x, x_data))\n",
    "    ∂ℓπ∂θ = VecTargets.gen_grad(ℓπ, θ₀)\n",
    "    \n",
    "    _, _, Gfunc, ∂G∂θfunc = prepare_sample_target(hps, θ₀, ℓπ)\n",
    "\n",
    "    metric = DenseRiemannianMetric((D,), Gfunc, ∂G∂θfunc, SoftAbsMap(hps.α))\n",
    "    kinetic = GaussianKinetic()\n",
    "    hamiltonian = Hamiltonian(metric, kinetic, ℓπ, ∂ℓπ∂θ)\n",
    "\n",
    "    TS = EndPointTS\n",
    "    \n",
    "    integrator = GeneralizedLeapfrog(hps.ϵ, hps.n)\n",
    "\n",
    "    tc = FixedNSteps(hps.L)\n",
    "    \n",
    "    proposal = HMCKernel(Trajectory{TS}(integrator, tc))\n",
    "\n",
    "    samples, stats = sample(\n",
    "        rng, hamiltonian, proposal, θ₀, hps.n_samples; progress=false, verbose=true\n",
    "    )\n",
    "    \n",
    "    return samples[end]\n",
    "end\n",
    "\n",
    "make_rand_θ_given(hps, target) = x -> rand_θ_given(hps, target, x)\n",
    "\n",
    "hps_geweke = (; n_samples=100, λ=1e-2, α=20.0, ϵ=0.1, n=6, L=8)\n",
    "\n",
    "@time res_1 = with_logger(NullLogger()) do \n",
    "    perform(GewekeTest(1000), TuringFunnel, make_rand_θ_given(hps_geweke, Funnel(3)); g=g)\n",
    "end"
   ]
  },
  {
   "cell_type": "code",
   "execution_count": null,
   "id": "b02e5b72-7073-4ec8-90c5-301ef5e181de",
   "metadata": {},
   "outputs": [],
   "source": [
    "Plots.plot(res_1, TuringFunnel(); size=(300, 300), title=\"RHMC sampler\")"
   ]
  },
  {
   "cell_type": "code",
   "execution_count": null,
   "id": "5be90067-8901-4b88-80fe-8bb901af718c",
   "metadata": {
    "tags": []
   },
   "outputs": [],
   "source": [
    "hps_geweke = (; hps_geweke..., n=12)\n",
    "\n",
    "@time res_2 = with_logger(NullLogger()) do \n",
    "    perform(GewekeTest(1000), TuringFunnel, make_rand_θ_given(hps_geweke, Funnel(3)); g=g)\n",
    "end"
   ]
  },
  {
   "cell_type": "code",
   "execution_count": null,
   "id": "4c9706ed-3c77-47a4-9cd1-0b882bae7b53",
   "metadata": {},
   "outputs": [],
   "source": [
    "Plots.plot(res_2, TuringFunnel(); size=(300, 300), title=\"RHMC sampler (n=12)\")"
   ]
  },
  {
   "cell_type": "markdown",
   "id": "d4abf34b-b998-427f-a949-d72f0a10de17",
   "metadata": {},
   "source": [
    "A simpler target"
   ]
  },
  {
   "cell_type": "code",
   "execution_count": null,
   "id": "36f37dc3-bf35-4c94-842f-fd48ec5c0006",
   "metadata": {},
   "outputs": [],
   "source": [
    "using VecTargets: ContinuousMultivariateDistribution, _logpdf_normal\n",
    "import VecTargets: dim, logpdf\n",
    "\n",
    "struct SimpleTarget <: ContinuousMultivariateDistribution end\n",
    "\n",
    "dim(st::SimpleTarget) = 3\n",
    "\n",
    "function _logpdf_st(θx::AbstractVecOrMat)\n",
    "    θ1, θ2, x = θx[1,:], θx[2,:], θx[3,:]\n",
    "    s = 1\n",
    "\n",
    "    lp11 = _logpdf_normal(θ1, 0, s) # _logpdf_normal(x, m, s)\n",
    "    lp12 = _logpdf_normal(θ2, 0, s)\n",
    "    lp2 = _logpdf_normal(x, θ1, s)\n",
    "    \n",
    "    return lp11 + lp12 + lp2\n",
    "end\n",
    "\n",
    "logpdf(::SimpleTarget, θ::AbstractVector) = only(_logpdf_st(θ))\n",
    "\n",
    "logpdf(::SimpleTarget, θ::AbstractMatrix) = _logpdf_st(θ)\n",
    "\n",
    "# Treating the first 2 dimensions as latent and the third as data.\n",
    "@model function TuringSimple(θ=missing, x=missing)\n",
    "    if ismissing(θ)\n",
    "        θ = Vector(undef, 2)\n",
    "    end\n",
    "    θ[1] ~ Normal(0, 1)\n",
    "    θ[2] ~ Normal(0, 1)\n",
    "    x ~ Normal(θ[1], 1)\n",
    "    return θ, x\n",
    "end\n",
    "\n",
    "hps_geweke = (; n_samples=100, λ=1e-2, α=20.0, ϵ=0.1, n=6, L=8)\n",
    "\n",
    "@time res = with_logger(NullLogger()) do\n",
    "    perform(GewekeTest(1000), TuringSimple, make_rand_θ_given_hmc(SimpleTarget(), hps_geweke); g=g)\n",
    "end\n",
    "\n",
    "Plots.plot(res, TuringSimple(); size=(300, 300), title=\"HMC sampler\")"
   ]
  },
  {
   "cell_type": "code",
   "execution_count": null,
   "id": "0f29a91f-fbc3-4b0e-ab1d-0a46d893ec6b",
   "metadata": {},
   "outputs": [],
   "source": [
    "hps_geweke = (; n_samples=100, λ=1e-2, α=20.0, ϵ=0.1, n=6, L=8)\n",
    "\n",
    "@time res_3 = with_logger(NullLogger()) do \n",
    "    perform(GewekeTest(1000), TuringSimple, make_rand_θ_given(hps_geweke, SimpleTarget()); g=g)\n",
    "end"
   ]
  },
  {
   "cell_type": "code",
   "execution_count": null,
   "id": "3e3d8fed-ccf5-4e13-9e11-639b0f353e62",
   "metadata": {},
   "outputs": [],
   "source": [
    "Plots.plot(res_3, TuringSimple(); size=(300, 300), title=\"RHMC sampler\")"
   ]
  },
  {
   "cell_type": "code",
   "execution_count": null,
   "id": "221841b1-abe5-4adf-9f97-00d0dd4d92c1",
   "metadata": {},
   "outputs": [],
   "source": [
    "hps_geweke = (; hps_geweke..., n=12)\n",
    "\n",
    "@time res_4 = with_logger(NullLogger()) do \n",
    "    perform(GewekeTest(1000), TuringSimple, make_rand_θ_given(hps_geweke, SimpleTarget()); g=g)\n",
    "end"
   ]
  },
  {
   "cell_type": "code",
   "execution_count": null,
   "id": "a0e6355a-2fa0-4e40-aea1-740a8638ae50",
   "metadata": {},
   "outputs": [],
   "source": [
    "Plots.plot(res_4, TuringFunnel(); size=(300, 300), title=\"RHMC sampler (n=12)\")"
   ]
  },
  {
   "cell_type": "code",
   "execution_count": null,
   "id": "5e774cc5-736c-49bd-af84-52142b612ac1",
   "metadata": {},
   "outputs": [],
   "source": []
  }
 ],
 "metadata": {
  "kernelspec": {
   "display_name": "julia 1.9.0-rc2",
   "language": "julia",
   "name": "julia-1.9"
  },
  "language_info": {
   "file_extension": ".jl",
   "mimetype": "application/julia",
   "name": "julia",
   "version": "1.9.0"
  }
 },
 "nbformat": 4,
 "nbformat_minor": 5
}
