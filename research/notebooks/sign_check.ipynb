{
 "cells": [
  {
   "cell_type": "code",
   "execution_count": 1,
   "id": "1d21a625-bc05-4cf9-80a4-04debf3ee038",
   "metadata": {},
   "outputs": [
    {
     "name": "stderr",
     "output_type": "stream",
     "text": [
      "\u001b[32m\u001b[1m  Activating\u001b[22m\u001b[39m project at `~/.julia/dev/AdvancedHMC/research/tests`\n"
     ]
    },
    {
     "name": "stdout",
     "output_type": "stream",
     "text": [
      "Julia Version 1.9.0-rc2\n",
      "Commit 72aec423c2a (2023-04-01 10:41 UTC)\n",
      "Platform Info:\n",
      "  OS: macOS (x86_64-apple-darwin21.4.0)\n",
      "  CPU: 20 × Apple M1 Ultra\n",
      "  WORD_SIZE: 64\n",
      "  LIBM: libopenlibm\n",
      "  LLVM: libLLVM-14.0.6 (ORCJIT, westmere)\n",
      "  Threads: 2 on 20 virtual cores\n",
      "\u001b[32m\u001b[1mStatus\u001b[22m\u001b[39m `~/.julia/dev/AdvancedHMC/research/tests/Project.toml`\n",
      "  \u001b[90m[c75e803d] \u001b[39mAdaptiveRejectionSampling v0.1.1\n",
      "  \u001b[90m[0bf59076] \u001b[39mAdvancedHMC v0.4.5\n",
      "  \u001b[90m[6e4b80f9] \u001b[39mBenchmarkTools v1.3.2\n",
      "  \u001b[90m[863f3e99] \u001b[39mComonicon v1.0.4\n",
      "  \u001b[90m[163ba53b] \u001b[39mDiffResults v1.1.0\n",
      "  \u001b[90m[31c24e10] \u001b[39mDistributions v0.25.87\n",
      "  \u001b[90m[366bfd00] \u001b[39mDynamicPPL v0.22.2\n",
      "  \u001b[90m[6a86dc24] \u001b[39mFiniteDiff v2.19.0\n",
      "  \u001b[90m[f6369f11] \u001b[39mForwardDiff v0.10.35\n",
      "  \u001b[90m[6d524b87] \u001b[39mMCMCDebugging v0.2.1 `https://github.com/TuringLang/MCMCDebugging.jl#master`\n",
      "  \u001b[90m[91a5bcdd] \u001b[39mPlots v1.38.9\n",
      "  \u001b[90m[d330b81b] \u001b[39mPyPlot v2.11.1\n",
      "  \u001b[90m[e0db7c4e] \u001b[39mReTest v0.3.2\n",
      "  \u001b[90m[37e2e3b7] \u001b[39mReverseDiff v1.14.4\n",
      "  \u001b[90m[a8a75453] \u001b[39mStatProfilerHTML v1.5.0\n",
      "  \u001b[90m[8a639fad] \u001b[39mVecTargets v0.2.0 `https://github.com/xukai92/VecTargets.jl#main`\n"
     ]
    }
   ],
   "source": [
    "using InteractiveUtils, Pkg\n",
    "using AdvancedHMC; Pkg.activate(pkgdir(AdvancedHMC) * \"/research/tests\"); Pkg.instantiate()\n",
    "versioninfo(); Pkg.status()"
   ]
  },
  {
   "cell_type": "code",
   "execution_count": 2,
   "id": "3d0c7de5-8dc2-477a-bde7-57ebc7bcb671",
   "metadata": {},
   "outputs": [],
   "source": [
    "using LinearAlgebra, FiniteDiff, VecTargets"
   ]
  },
  {
   "cell_type": "code",
   "execution_count": 3,
   "id": "017c5260-fc75-41b5-b886-f8ab3ad52432",
   "metadata": {},
   "outputs": [
    {
     "data": {
      "text/plain": [
       "#9 (generic function with 1 method)"
      ]
     },
     "execution_count": 3,
     "metadata": {},
     "output_type": "execute_result"
    }
   ],
   "source": [
    "target = Funnel()\n",
    "\n",
    "ℓπ = x -> logpdf(target, x)\n",
    "neg_ℓπ = x -> -logpdf(target, x)\n",
    "\n",
    "H = x -> VecTargets.gen_hess(ℓπ, x)(x)[3]\n",
    "G = x -> VecTargets.gen_hess(neg_ℓπ, x)(x)[3]"
   ]
  },
  {
   "cell_type": "code",
   "execution_count": 4,
   "id": "2f694d5b-54e8-4793-8999-a0ffec9eae0b",
   "metadata": {},
   "outputs": [
    {
     "name": "stdout",
     "output_type": "stream",
     "text": [
      "H(xt) = [-0.1111111111111111 0.0; 0.0 -1.0]\n",
      "G(xt) = [0.1111111111111111 0.0; 0.0 1.0]\n",
      "FiniteDiff.finite_difference_gradient(Hamiltonian_partial, xt) = [-0.9999999999502168, 0.0]\n",
      "[tr(inv(G(xt)) * Jt[1:2, 1:2]), tr(inv(G(xt)) * Jt[3:4, 1:2])] = [-0.9999999664723873, 0.0]\n"
     ]
    },
    {
     "data": {
      "text/plain": [
       "2-element Vector{Float64}:\n",
       " -0.9999999664723873\n",
       "  0.0"
      ]
     },
     "execution_count": 4,
     "metadata": {},
     "output_type": "execute_result"
    }
   ],
   "source": [
    "xt = [0.0, 0.0] # x test\n",
    "\n",
    "@show H(xt) G(xt)\n",
    "\n",
    "# Hamiltonian_partial(x) = begin x\n",
    "#     lad, s = logabsdet(G(x))\n",
    "#     lad * s\n",
    "# end # WRONG implementation of the second term of (13)\n",
    "      # `s` returned is the sign of `det(G)`, not the whole thing\n",
    "Hamiltonian_partial(x) = begin x\n",
    "    logdet(G(x))\n",
    "end # second term of (13)\n",
    "\n",
    "@show FiniteDiff.finite_difference_gradient(Hamiltonian_partial, xt)\n",
    "\n",
    "Jt = FiniteDiff.finite_difference_jacobian(G, xt)\n",
    "@show [tr(inv(G(xt)) * Jt[1:2,1:2]), tr(inv(G(xt)) * Jt[3:4,1:2])]"
   ]
  },
  {
   "cell_type": "code",
   "execution_count": null,
   "id": "c5ec162e-0114-44a7-b23f-3366286c5414",
   "metadata": {},
   "outputs": [],
   "source": []
  }
 ],
 "metadata": {
  "kernelspec": {
   "display_name": "julia 1.9.0-rc2",
   "language": "julia",
   "name": "julia-1.9"
  },
  "language_info": {
   "file_extension": ".jl",
   "mimetype": "application/julia",
   "name": "julia",
   "version": "1.9.0"
  }
 },
 "nbformat": 4,
 "nbformat_minor": 5
}
