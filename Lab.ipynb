{
 "cells": [
  {
   "attachments": {},
   "cell_type": "markdown",
   "id": "91129cb1",
   "metadata": {},
   "source": [
    "# No-glue-code"
   ]
  },
  {
   "cell_type": "code",
   "execution_count": 1,
   "id": "896323ee",
   "metadata": {},
   "outputs": [
    {
     "name": "stderr",
     "output_type": "stream",
     "text": [
      "\u001b[32m\u001b[1m  Activating\u001b[22m\u001b[39m project at `~/Cambdrige`\n"
     ]
    }
   ],
   "source": [
    "using Pkg\n",
    "Pkg.activate(\"..\")"
   ]
  },
  {
   "cell_type": "code",
   "execution_count": 2,
   "id": "baed58e3",
   "metadata": {},
   "outputs": [
    {
     "name": "stderr",
     "output_type": "stream",
     "text": [
      "\u001b[36m\u001b[1m[ \u001b[22m\u001b[39m\u001b[36m\u001b[1mInfo: \u001b[22m\u001b[39mPrecompiling PyPlot [d330b81b-6aea-500a-939a-2ce795aea3ee]\n",
      "\u001b[36m\u001b[1m[ \u001b[22m\u001b[39m\u001b[36m\u001b[1mInfo: \u001b[22m\u001b[39mPrecompiling AdvancedHMC [0bf59076-c3b1-5ca4-86bd-e02cd72cde3d]\n",
      "\u001b[36m\u001b[1m[ \u001b[22m\u001b[39m\u001b[36m\u001b[1mInfo: \u001b[22m\u001b[39mPrecompiling Turing [fce5fe82-541a-59a6-adf8-730c64b5f9a0]\n"
     ]
    }
   ],
   "source": [
    "# The statistical inference frame-work we will use\n",
    "using LogDensityProblems\n",
    "using LogDensityProblemsAD\n",
    "using DynamicPPL\n",
    "using ForwardDiff\n",
    "using Random\n",
    "using LinearAlgebra\n",
    "\n",
    "#Plotting\n",
    "using PyPlot\n",
    "\n",
    "#What we are tweaking\n",
    "using Revise\n",
    "using AdvancedHMC\n",
    "using Turing"
   ]
  },
  {
   "attachments": {},
   "cell_type": "markdown",
   "id": "3d76390f",
   "metadata": {},
   "source": [
    "## Model"
   ]
  },
  {
   "cell_type": "code",
   "execution_count": 3,
   "id": "a7d6f81c",
   "metadata": {},
   "outputs": [
    {
     "data": {
      "text/plain": [
       "funnel (generic function with 2 methods)"
      ]
     },
     "execution_count": 3,
     "metadata": {},
     "output_type": "execute_result"
    }
   ],
   "source": [
    "# Just a simple Neal Funnel\n",
    "d = 21\n",
    "@model function funnel()\n",
    "    θ ~ Normal(0, 3)\n",
    "    z ~ MvNormal(zeros(d-1), exp(θ)*I)\n",
    "    x ~ MvNormal(z, I)\n",
    "end"
   ]
  },
  {
   "cell_type": "code",
   "execution_count": 4,
   "id": "5f408f2b",
   "metadata": {},
   "outputs": [
    {
     "data": {
      "text/plain": [
       "Model{typeof(funnel), (), (), (), Tuple{}, Tuple{}, ConditionContext{NamedTuple{(:x,), Tuple{Vector{Float64}}}, DefaultContext}}(funnel, NamedTuple(), NamedTuple(), ConditionContext((x = [1.2142074831535152, 1.23371919965455, -0.8480146960461767, 0.1600994648479841, 1.9180385508479283, -3.401523464506408, -0.0957684186471088, 0.6734622629464286, -3.2749467689509633, -1.6760091758453226, 1.9567202902549736, 0.1136169088905351, 0.11117896909388916, -0.5373922347882832, -0.12436857036298687, -1.2901071061088532, 1.702584517514787, -0.44460133117954226, 1.0818722439221686, 1.2208011493237483],), DefaultContext()))"
      ]
     },
     "execution_count": 4,
     "metadata": {},
     "output_type": "execute_result"
    }
   ],
   "source": [
    "Random.seed!(1)\n",
    "(;x) = rand(funnel() | (θ=0,))\n",
    "funnel_model = funnel() | (;x)"
   ]
  },
  {
   "attachments": {},
   "cell_type": "markdown",
   "id": "10dfa4cc",
   "metadata": {},
   "source": [
    "## Turing interface"
   ]
  },
  {
   "cell_type": "code",
   "execution_count": 5,
   "id": "be8a75dd",
   "metadata": {},
   "outputs": [
    {
     "data": {
      "text/plain": [
       "Sampler"
      ]
     },
     "execution_count": 5,
     "metadata": {},
     "output_type": "execute_result"
    }
   ],
   "source": [
    "struct Sampler\n",
    "    metric\n",
    "    integrator\n",
    "    adaptor\n",
    "    proposal\n",
    "end\n",
    "\n",
    "Sampler(ϵ::Number, TAP::Number) = begin\n",
    "    metric =  DiagEuclideanMetric(d)\n",
    "    integrator = Leapfrog(ϵ)\n",
    "    proposal = AdvancedHMC.NUTS{MultinomialTS, GeneralisedNoUTurn}(integrator)\n",
    "    adaptor = StanHMCAdaptor(MassMatrixAdaptor(metric), StepSizeAdaptor(TAP, integrator))\n",
    "    \n",
    "    Sampler(\n",
    "        metric,\n",
    "        integrator,\n",
    "        adaptor,\n",
    "        proposal)\n",
    "end"
   ]
  },
  {
   "cell_type": "code",
   "execution_count": 6,
   "id": "baaf795f",
   "metadata": {},
   "outputs": [
    {
     "data": {
      "text/plain": [
       "Sampler(DiagEuclideanMetric([1.0, 1.0, 1.0, 1.0, 1.0, 1 ...]), Leapfrog(ϵ=0.1), StanHMCAdaptor(\n",
       "    pc=WelfordVar,\n",
       "    ssa=NesterovDualAveraging(γ=0.05, t_0=10.0, κ=0.75, δ=0.95, state.ϵ=0.1),\n",
       "    init_buffer=75, term_buffer=50, window_size=25,\n",
       "    state=window(0, 0), window_splits()\n",
       "), HMCKernel{AdvancedHMC.FullMomentumRefreshment, Trajectory{MultinomialTS, Leapfrog{Float64}, GeneralisedNoUTurn{Float64}}}(AdvancedHMC.FullMomentumRefreshment(), Trajectory{MultinomialTS}(integrator=Leapfrog(ϵ=0.1), tc=GeneralisedNoUTurn{Float64}(10, 1000.0))))"
      ]
     },
     "execution_count": 6,
     "metadata": {},
     "output_type": "execute_result"
    }
   ],
   "source": [
    "initial_θ = randn(21)\n",
    "initial_ϵ = 0.1 #find_good_stepsize(hamiltonian, initial_θ)\n",
    "spl = Sampler(initial_ϵ, 0.95)"
   ]
  },
  {
   "attachments": {},
   "cell_type": "markdown",
   "id": "3ac319cb",
   "metadata": {},
   "source": [
    "## Sampling"
   ]
  },
  {
   "cell_type": "code",
   "execution_count": 7,
   "id": "c516fd54",
   "metadata": {},
   "outputs": [
    {
     "name": "stderr",
     "output_type": "stream",
     "text": [
      "\u001b[33m\u001b[1m┌ \u001b[22m\u001b[39m\u001b[33m\u001b[1mWarning: \u001b[22m\u001b[39mProgressMeter by default refresh meters with additional information in IJulia via `IJulia.clear_output`, which clears all outputs in the cell. \n",
      "\u001b[33m\u001b[1m│ \u001b[22m\u001b[39m - To prevent this behaviour, do `ProgressMeter.ijulia_behavior(:append)`. \n",
      "\u001b[33m\u001b[1m│ \u001b[22m\u001b[39m - To disable this warning message, do `ProgressMeter.ijulia_behavior(:clear)`.\n",
      "\u001b[33m\u001b[1m└ \u001b[22m\u001b[39m\u001b[90m@ ProgressMeter ~/.julia/packages/ProgressMeter/sN2xr/src/ProgressMeter.jl:618\u001b[39m\n",
      "\u001b[32mSampling 100%|███████████████████████████████| Time: 0:00:04\u001b[39m\n",
      "\u001b[34m  iterations:                                   10000\u001b[39m\n",
      "\u001b[34m  ratio_divergent_transitions:                  0.0\u001b[39m\n",
      "\u001b[34m  ratio_divergent_transitions_during_adaption:  0.0\u001b[39m\n",
      "\u001b[34m  n_steps:                                      31\u001b[39m\n",
      "\u001b[34m  is_accept:                                    true\u001b[39m\n",
      "\u001b[34m  acceptance_rate:                              0.9977556019563564\u001b[39m\n",
      "\u001b[34m  log_density:                                  -55.59669800049129\u001b[39m\n",
      "\u001b[34m  hamiltonian_energy:                           76.99245786344844\u001b[39m\n",
      "\u001b[34m  hamiltonian_energy_error:                     -0.037907257288452456\u001b[39m\n",
      "\u001b[34m  max_hamiltonian_energy_error:                 -0.08384075689365034\u001b[39m\n",
      "\u001b[34m  tree_depth:                                   4\u001b[39m\n",
      "\u001b[34m  numerical_error:                              false\u001b[39m\n",
      "\u001b[34m  step_size:                                    0.11952907411701275\u001b[39m\n",
      "\u001b[34m  nom_step_size:                                0.11952907411701275\u001b[39m\n",
      "\u001b[34m  is_adapt:                                     false\u001b[39m\n",
      "\u001b[34m  mass_matrix:                                  DiagEuclideanMetric([1.8273790343807308, 0.4706 ...])\u001b[39m\n",
      "\u001b[36m\u001b[1m┌ \u001b[22m\u001b[39m\u001b[36m\u001b[1mInfo: \u001b[22m\u001b[39mFinished 10000 sampling steps for 1 chains in 5.014627706 (s)\n",
      "\u001b[36m\u001b[1m│ \u001b[22m\u001b[39m  h = Hamiltonian(metric=DiagEuclideanMetric([1.8273790343807308, 0.4706 ...]), kinetic=GaussianKinetic())\n",
      "\u001b[36m\u001b[1m│ \u001b[22m\u001b[39m  κ = HMCKernel{AdvancedHMC.FullMomentumRefreshment, Trajectory{MultinomialTS, Leapfrog{Float64}, GeneralisedNoUTurn{Float64}}}(AdvancedHMC.FullMomentumRefreshment(), Trajectory{MultinomialTS}(integrator=Leapfrog(ϵ=0.12), tc=GeneralisedNoUTurn{Float64}(10, 1000.0)))\n",
      "\u001b[36m\u001b[1m│ \u001b[22m\u001b[39m  EBFMI_est = 0.5110910368914205\n",
      "\u001b[36m\u001b[1m└ \u001b[22m\u001b[39m  average_acceptance_rate = 0.9774544772681191\n"
     ]
    }
   ],
   "source": [
    "n_samples, n_adapts = 10_000, 1_000\n",
    "samples, stats = sample(funnel_model, 0.1, 0.95, n_samples, n_adapts; initial_θ=initial_θ);"
   ]
  },
  {
   "attachments": {},
   "cell_type": "markdown",
   "id": "7839a767",
   "metadata": {},
   "source": [
    "### Plotting"
   ]
  },
  {
   "cell_type": "code",
   "execution_count": 8,
   "id": "2a803eb8",
   "metadata": {},
   "outputs": [],
   "source": [
    "theta_mchmc = [sample[1] for sample in samples]\n",
    "x10_mchmc = [sample[10+1] for sample in samples];"
   ]
  },
  {
   "cell_type": "code",
   "execution_count": 9,
   "id": "00f17868",
   "metadata": {},
   "outputs": [
    {
     "data": {
      "image/png": "[encoded data removed]",
      "text/plain": [
       "Figure(PyObject <Figure size 800x800 with 3 Axes>)"
      ]
     },
     "metadata": {},
     "output_type": "display_data"
    }
   ],
   "source": [
    "fig, axis = plt.subplots(2, 2, figsize=(8,8))\n",
    "fig.suptitle(\"Neal's Funnel\", fontsize=16)\n",
    "\n",
    "fig.delaxes(axis[1,2])\n",
    "fig.subplots_adjust(hspace=0)\n",
    "fig.subplots_adjust(wspace=0)\n",
    "\n",
    "axis[1,1].hist(x10_mchmc, bins=100, range=[-6,2])\n",
    "axis[1,1].set_yticks([])\n",
    "\n",
    "axis[2,2].hist(theta_mchmc, bins=100, orientation=\"horizontal\", range=[-4, 2])\n",
    "axis[2,2].set_xticks([])\n",
    "axis[2,2].set_yticks([])\n",
    "\n",
    "axis[2,1].hist2d(x10_mchmc, theta_mchmc, bins=100, range=[[-6,2],[-4, 2]])\n",
    "axis[2,1].set_xlabel(\"x10\")\n",
    "axis[2,1].set_ylabel(\"theta\");"
   ]
  },
  {
   "attachments": {},
   "cell_type": "markdown",
   "id": "440a65f3",
   "metadata": {},
   "source": []
  },
  {
   "attachments": {},
   "cell_type": "markdown",
   "id": "d852c160",
   "metadata": {},
   "source": [
    "## Sampling w AbstractMCMC"
   ]
  },
  {
   "cell_type": "code",
   "execution_count": 10,
   "id": "486d475d",
   "metadata": {},
   "outputs": [
    {
     "name": "stderr",
     "output_type": "stream",
     "text": [
      "\u001b[33m\u001b[1m┌ \u001b[22m\u001b[39m\u001b[33m\u001b[1mWarning: \u001b[22m\u001b[39mProgressMeter by default refresh meters with additional information in IJulia via `IJulia.clear_output`, which clears all outputs in the cell. \n",
      "\u001b[33m\u001b[1m│ \u001b[22m\u001b[39m - To prevent this behaviour, do `ProgressMeter.ijulia_behavior(:append)`. \n",
      "\u001b[33m\u001b[1m│ \u001b[22m\u001b[39m - To disable this warning message, do `ProgressMeter.ijulia_behavior(:clear)`.\n",
      "\u001b[33m\u001b[1m└ \u001b[22m\u001b[39m\u001b[90m@ ProgressMeter ~/.julia/packages/ProgressMeter/sN2xr/src/ProgressMeter.jl:618\u001b[39m\n",
      "\r\u001b[32mSampling 100%|███████████████████████████████| Time: 0:00:03\u001b[39m\r\n",
      "\u001b[34m  iterations:                                   1000\u001b[39m\r\n",
      "\u001b[34m  ratio_divergent_transitions:                  0.0\u001b[39m\r\n",
      "\u001b[34m  ratio_divergent_transitions_during_adaption:  0.0\u001b[39m\r\n",
      "\u001b[34m  n_steps:                                      31\u001b[39m\r\n",
      "\u001b[34m  is_accept:                                    true\u001b[39m\r\n",
      "\u001b[34m  acceptance_rate:                              0.9816437550853788\u001b[39m\r\n",
      "\u001b[34m  log_density:                                  -56.98512987944265\u001b[39m\r\n",
      "\u001b[34m  hamiltonian_energy:                           69.16094619031233\u001b[39m\r\n",
      "\u001b[34m  hamiltonian_energy_error:                     0.0010654981857385337\u001b[39m\r\n",
      "\u001b[34m  max_hamiltonian_energy_error:                 0.05359781209639891\u001b[39m\r\n",
      "\u001b[34m  tree_depth:                                   5\u001b[39m\r\n",
      "\u001b[34m  numerical_error:                              false\u001b[39m\r\n",
      "\u001b[34m  step_size:                                    0.1\u001b[39m\r\n",
      "\u001b[34m  nom_step_size:                                0.1\u001b[39m\r\n",
      "\u001b[34m  is_adapt:                                     false\u001b[39m\r\n",
      "\u001b[34m  mass_matrix:                                  DiagEuclideanMetric([1.0, 1.0, 1.0, 1.0, 1.0, 1 ...])\u001b[39m\n"
     ]
    },
    {
     "data": {
      "text/plain": [
       "Chains MCMC chain (1000×34×1 Array{Real, 3}):\n",
       "\n",
       "Iterations        = 1:1:1000\n",
       "Number of chains  = 1\n",
       "Samples per chain = 1000\n",
       "parameters        = θ, z1, z2, z3, z4, z5, z6, z7, z8, z9, z10, z11, z12, z13, z14, z15, z16, z17, z18, z19, z20\n",
       "internals         = lp, n_steps, is_accept, acceptance_rate, log_density, hamiltonian_energy, hamiltonian_energy_error, max_hamiltonian_energy_error, tree_depth, numerical_error, step_size, nom_step_size, is_adapt\n",
       "\n",
       "Summary Statistics\n",
       " \u001b[1m parameters \u001b[0m \u001b[1m    mean \u001b[0m \u001b[1m     std \u001b[0m \u001b[1m    mcse \u001b[0m \u001b[1m  ess_bulk \u001b[0m \u001b[1m ess_tail \u001b[0m \u001b[1m    rhat \u001b[0m \u001b[1m \u001b[0m ⋯\n",
       " \u001b[90m     Symbol \u001b[0m \u001b[90m Float64 \u001b[0m \u001b[90m Float64 \u001b[0m \u001b[90m Float64 \u001b[0m \u001b[90m      Real \u001b[0m \u001b[90m  Float64 \u001b[0m \u001b[90m Float64 \u001b[0m \u001b[90m \u001b[0m ⋯\n",
       "\n",
       "           θ   -0.1701    0.8877    0.1015    107.2505    85.6230    1.0013    ⋯\n",
       "          z1    0.5637    0.7028    0.0306    533.5203   657.9208    0.9992    ⋯\n",
       "          z2    0.5754    0.7386    0.0267    795.9805   619.4501    0.9997    ⋯\n",
       "          z3   -0.4002    0.6910    0.0189   1374.0798   542.6676    0.9993    ⋯\n",
       "          z4    0.0920    0.7204    0.0168   1843.4205   550.3231    0.9994    ⋯\n",
       "          z5    0.9176    0.7863    0.0431    323.1787   573.1358    1.0028    ⋯\n",
       "          z6   -1.5815    0.8393    0.0611    180.5255   182.3534    1.0003    ⋯\n",
       "          z7   -0.0286    0.7397    0.0170   1941.1363   587.1951    1.0004    ⋯\n",
       "          z8    0.2741    0.6673    0.0186   1293.5382   541.9376    1.0004    ⋯\n",
       "          z9   -1.5285    0.9058    0.0649    187.6804   384.1253    1.0032    ⋯\n",
       "         z10   -0.7848    0.7642    0.0366    429.3253   502.0009    0.9992    ⋯\n",
       "         z11    0.8904    0.7467    0.0385    372.7358   666.3289    0.9994    ⋯\n",
       "         z12    0.0491    0.7138    0.0162   1883.7889   664.5997    1.0002    ⋯\n",
       "         z13    0.0662    0.6866    0.0164   1766.0242   670.8974    1.0020    ⋯\n",
       "         z14   -0.2357    0.6711    0.0158   1758.4453   697.9642    0.9997    ⋯\n",
       "         z15   -0.0844    0.6940    0.0165   1755.5485   646.8239    0.9995    ⋯\n",
       "         z16   -0.6014    0.7425    0.0232   1094.2363   664.4580    0.9991    ⋯\n",
       "         z17    0.7843    0.7355    0.0275    712.4447   727.2978    1.0005    ⋯\n",
       "         z18   -0.2111    0.6812    0.0162   1684.4507   759.9554    0.9999    ⋯\n",
       "         z19    0.4824    0.7345    0.0218   1159.5168   490.4477    1.0002    ⋯\n",
       "         z20    0.5763    0.6983    0.0246    773.4011   580.6981    1.0020    ⋯\n",
       "\u001b[36m                                                                1 column omitted\u001b[0m\n",
       "\n",
       "Quantiles\n",
       " \u001b[1m parameters \u001b[0m \u001b[1m    2.5% \u001b[0m \u001b[1m   25.0% \u001b[0m \u001b[1m   50.0% \u001b[0m \u001b[1m   75.0% \u001b[0m \u001b[1m   97.5% \u001b[0m\n",
       " \u001b[90m     Symbol \u001b[0m \u001b[90m Float64 \u001b[0m \u001b[90m Float64 \u001b[0m \u001b[90m Float64 \u001b[0m \u001b[90m Float64 \u001b[0m \u001b[90m Float64 \u001b[0m\n",
       "\n",
       "           θ   -2.5989   -0.4933    0.0009    0.3895    1.1431\n",
       "          z1   -0.7217    0.0839    0.5223    1.0107    1.9740\n",
       "          z2   -0.7759    0.0675    0.5078    1.0622    2.1982\n",
       "          z3   -1.7383   -0.8248   -0.3562    0.0761    0.8287\n",
       "          z4   -1.3976   -0.3373    0.0919    0.5566    1.5334\n",
       "          z5   -0.4609    0.3634    0.8315    1.4431    2.7049\n",
       "          z6   -3.2540   -2.1718   -1.5520   -0.9958   -0.0557\n",
       "          z7   -1.5612   -0.4782   -0.0007    0.4014    1.4314\n",
       "          z8   -0.9550   -0.1580    0.2422    0.6686    1.6978\n",
       "          z9   -3.3072   -2.1401   -1.5261   -0.8601    0.1242\n",
       "         z10   -2.3459   -1.2841   -0.7246   -0.2361    0.6525\n",
       "         z11   -0.4481    0.3820    0.8514    1.3697    2.5164\n",
       "         z12   -1.4653   -0.3635    0.0642    0.4844    1.4252\n",
       "         z13   -1.2855   -0.3572    0.0760    0.4913    1.4790\n",
       "         z14   -1.5725   -0.6669   -0.2090    0.1760    1.0970\n",
       "         z15   -1.4224   -0.5176   -0.0880    0.3558    1.2119\n",
       "         z16   -2.1895   -1.0814   -0.5403   -0.0635    0.6834\n",
       "         z17   -0.5683    0.2632    0.7212    1.2724    2.3639\n",
       "         z18   -1.5622   -0.6222   -0.1896    0.2423    1.0862\n",
       "         z19   -0.8552   -0.0154    0.4241    0.9518    2.0049\n",
       "         z20   -0.6794    0.0868    0.5229    1.0198    2.0579\n"
      ]
     },
     "execution_count": 10,
     "metadata": {},
     "output_type": "execute_result"
    }
   ],
   "source": [
    "using MCMCChains\n",
    "\n",
    "initial_ϵ=0.1 \n",
    "TAP=0.95\n",
    "nuts = AdvancedHMC.NUTSSampler(initial_ϵ, TAP, d)\n",
    "Asamples = sample(funnel_model, nuts, 1000; chain_type=MCMCChains.Chains)"
   ]
  },
  {
   "attachments": {},
   "cell_type": "markdown",
   "id": "bbf0131e",
   "metadata": {},
   "source": [
    "### Plotting"
   ]
  },
  {
   "cell_type": "code",
   "execution_count": 43,
   "id": "9c61e0ab",
   "metadata": {},
   "outputs": [
    {
     "ename": "LoadError",
     "evalue": "MethodError: no method matching getindex(::AdvancedHMC.Transition{AdvancedHMC.PhasePoint{Vector{Float64}, AdvancedHMC.DualValue{Float64, Vector{Float64}}}, NamedTuple{(:n_steps, :is_accept, :acceptance_rate, :log_density, :hamiltonian_energy, :hamiltonian_energy_error, :max_hamiltonian_energy_error, :tree_depth, :numerical_error, :step_size, :nom_step_size, :is_adapt), Tuple{Int64, Bool, Float64, Float64, Float64, Float64, Float64, Int64, Bool, Float64, Float64, Bool}}}, ::Int64)",
     "output_type": "error",
     "traceback": [
      "MethodError: no method matching getindex(::AdvancedHMC.Transition{AdvancedHMC.PhasePoint{Vector{Float64}, AdvancedHMC.DualValue{Float64, Vector{Float64}}}, NamedTuple{(:n_steps, :is_accept, :acceptance_rate, :log_density, :hamiltonian_energy, :hamiltonian_energy_error, :max_hamiltonian_energy_error, :tree_depth, :numerical_error, :step_size, :nom_step_size, :is_adapt), Tuple{Int64, Bool, Float64, Float64, Float64, Float64, Float64, Int64, Bool, Float64, Float64, Bool}}}, ::Int64)",
      "",
      "Stacktrace:",
      " [1] (::var\"#19#20\")(sample::AdvancedHMC.Transition{AdvancedHMC.PhasePoint{Vector{Float64}, AdvancedHMC.DualValue{Float64, Vector{Float64}}}, NamedTuple{(:n_steps, :is_accept, :acceptance_rate, :log_density, :hamiltonian_energy, :hamiltonian_energy_error, :max_hamiltonian_energy_error, :tree_depth, :numerical_error, :step_size, :nom_step_size, :is_adapt), Tuple{Int64, Bool, Float64, Float64, Float64, Float64, Float64, Int64, Bool, Float64, Float64, Bool}}})",
      "   @ Main ./none:0",
      " [2] iterate",
      "   @ ./generator.jl:47 [inlined]",
      " [3] collect(itr::Base.Generator{Vector{AdvancedHMC.Transition{AdvancedHMC.PhasePoint{Vector{Float64}, AdvancedHMC.DualValue{Float64, Vector{Float64}}}, NamedTuple{(:n_steps, :is_accept, :acceptance_rate, :log_density, :hamiltonian_energy, :hamiltonian_energy_error, :max_hamiltonian_energy_error, :tree_depth, :numerical_error, :step_size, :nom_step_size, :is_adapt), Tuple{Int64, Bool, Float64, Float64, Float64, Float64, Float64, Int64, Bool, Float64, Float64, Bool}}}}, var\"#19#20\"})",
      "   @ Base ./array.jl:782",
      " [4] top-level scope",
      "   @ In[43]:1"
     ]
    }
   ],
   "source": [
    "theta_mchmc = [sample[1] for sample in Asamples]\n",
    "x10_mchmc = [sample[10+1] for sample in Asamples];"
   ]
  },
  {
   "cell_type": "code",
   "execution_count": null,
   "id": "1eeabe94",
   "metadata": {},
   "outputs": [
    {
     "data": {
      "text/plain": [
       "AdvancedHMC.DualValue{Float64, Vector{Float64}}(-30.568913420248535, [-1.5177868234276293, -0.2642441573758009, 2.9006618798256305, -0.49020897941818103, 0.3653601765991165, 2.6312133214525577, 0.10168289161602831, -1.6963705076408426, -2.00635197071912, -3.0012398194776444  …  3.7892210136171354, 0.9123812954243244, 1.4411600118405576, -1.1218982417030496, 0.567170185325859, 0.4590465066334209, 0.6414203316649082, 0.9499263148164698, 2.500361124794014, 0.6248394066847915])"
      ]
     },
     "execution_count": 21,
     "metadata": {},
     "output_type": "execute_result"
    }
   ],
   "source": [
    "Asamples[1].z.ℓκ"
   ]
  },
  {
   "cell_type": "code",
   "execution_count": null,
   "id": "8869229b",
   "metadata": {},
   "outputs": [
    {
     "data": {
      "image/png": "[encoded data removed]",
      "text/plain": [
       "Figure(PyObject <Figure size 800x800 with 3 Axes>)"
      ]
     },
     "metadata": {},
     "output_type": "display_data"
    }
   ],
   "source": [
    "fig, axis = plt.subplots(2, 2, figsize=(8,8))\n",
    "fig.suptitle(\"Neal's Funnel\", fontsize=16)\n",
    "\n",
    "fig.delaxes(axis[1,2])\n",
    "fig.subplots_adjust(hspace=0)\n",
    "fig.subplots_adjust(wspace=0)\n",
    "\n",
    "axis[1,1].hist(x10_mchmc, bins=100, range=[-6,2])\n",
    "axis[1,1].set_yticks([])\n",
    "\n",
    "axis[2,2].hist(theta_mchmc, bins=100, orientation=\"horizontal\", range=[-4, 2])\n",
    "axis[2,2].set_xticks([])\n",
    "axis[2,2].set_yticks([])\n",
    "\n",
    "axis[2,1].hist2d(x10_mchmc, theta_mchmc, bins=100, range=[[-6,2],[-4, 2]])\n",
    "axis[2,1].set_xlabel(\"x10\")\n",
    "axis[2,1].set_ylabel(\"theta\");"
   ]
  },
  {
   "attachments": {},
   "cell_type": "markdown",
   "id": "e589a88e",
   "metadata": {},
   "source": [
    "## Sampling w Turing"
   ]
  },
  {
   "cell_type": "code",
   "execution_count": null,
   "id": "99c0baa6",
   "metadata": {},
   "outputs": [],
   "source": [
    "using Turing"
   ]
  },
  {
   "cell_type": "code",
   "execution_count": null,
   "id": "4b21a3c3",
   "metadata": {},
   "outputs": [],
   "source": [
    "TAP = 0.95\n",
    "nadapts = 300\n",
    "spl = Turing.NUTS(nadapts, TAP)"
   ]
  },
  {
   "cell_type": "code",
   "execution_count": null,
   "id": "74b110a2",
   "metadata": {},
   "outputs": [],
   "source": [
    "Turing.sample(funnel_model, spl, 50_000, progress=true; save_state=true)"
   ]
  }
 ],
 "metadata": {
  "kernelspec": {
   "display_name": "Julia 1.9.0",
   "language": "julia",
   "name": "julia-1.9"
  },
  "language_info": {
   "file_extension": ".jl",
   "mimetype": "application/julia",
   "name": "julia",
   "version": "1.9.0"
  }
 },
 "nbformat": 4,
 "nbformat_minor": 5
}
