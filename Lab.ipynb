{
 "cells": [
  {
   "attachments": {},
   "cell_type": "markdown",
   "id": "91129cb1",
   "metadata": {},
   "source": [
    "# No-glue-code"
   ]
  },
  {
   "cell_type": "code",
   "execution_count": 1,
   "id": "896323ee",
   "metadata": {},
   "outputs": [
    {
     "name": "stderr",
     "output_type": "stream",
     "text": [
      "\u001b[32m\u001b[1m  Activating\u001b[22m\u001b[39m project at `~/Cambdrige`\n"
     ]
    }
   ],
   "source": [
    "using Pkg\n",
    "Pkg.activate(\"..\")"
   ]
  },
  {
   "cell_type": "code",
   "execution_count": 2,
   "id": "baed58e3",
   "metadata": {},
   "outputs": [
    {
     "name": "stderr",
     "output_type": "stream",
     "text": [
      "\u001b[36m\u001b[1m[ \u001b[22m\u001b[39m\u001b[36m\u001b[1mInfo: \u001b[22m\u001b[39mPrecompiling Turing [fce5fe82-541a-59a6-adf8-730c64b5f9a0]\n",
      "WARNING: Method definition sample(DynamicPPL.Model{F, argnames, defaultnames, missings, Targs, Tdefaults, Ctx} where Ctx<:AbstractPPL.AbstractContext where Tdefaults where Targs where missings where defaultnames where argnames where F, AbstractMCMC.AbstractSampler, Integer) in module AdvancedHMC at /home/jaimerz/Cambdrige/AdvancedHMC.jl/src/abstractmcmc.jl:30 overwritten in module Inference at /home/jaimerz/Cambdrige/Turing.jl/src/inference/Inference.jl:249.\n",
      "  ** incremental compilation may be fatally broken for this module **\n",
      "\n",
      "WARNING: Method definition kwcall(Any, typeof(StatsBase.sample), DynamicPPL.Model{F, argnames, defaultnames, missings, Targs, Tdefaults, Ctx} where Ctx<:AbstractPPL.AbstractContext where Tdefaults where Targs where missings where defaultnames where argnames where F, AbstractMCMC.AbstractSampler, Integer) in module AdvancedHMC at /home/jaimerz/Cambdrige/AdvancedHMC.jl/src/abstractmcmc.jl:30 overwritten in module Inference at /home/jaimerz/Cambdrige/Turing.jl/src/inference/Inference.jl:249.\n",
      "  ** incremental compilation may be fatally broken for this module **\n",
      "\n",
      "WARNING: Method definition sample(Random.AbstractRNG, DynamicPPL.Model{F, argnames, defaultnames, missings, Targs, Tdefaults, Ctx} where Ctx<:AbstractPPL.AbstractContext where Tdefaults where Targs where missings where defaultnames where argnames where F, AbstractMCMC.AbstractSampler, Integer) in module AdvancedHMC at /home/jaimerz/Cambdrige/AdvancedHMC.jl/src/abstractmcmc.jl:51 overwritten in module Inference at /home/jaimerz/Cambdrige/Turing.jl/src/inference/Inference.jl:270.\n",
      "  ** incremental compilation may be fatally broken for this module **\n",
      "\n",
      "WARNING: Method definition kwcall(Any, typeof(StatsBase.sample), Random.AbstractRNG, DynamicPPL.Model{F, argnames, defaultnames, missings, Targs, Tdefaults, Ctx} where Ctx<:AbstractPPL.AbstractContext where Tdefaults where Targs where missings where defaultnames where argnames where F, AbstractMCMC.AbstractSampler, Integer) in module AdvancedHMC at /home/jaimerz/Cambdrige/AdvancedHMC.jl/src/abstractmcmc.jl:51 overwritten in module Inference at /home/jaimerz/Cambdrige/Turing.jl/src/inference/Inference.jl:270.\n",
      "  ** incremental compilation may be fatally broken for this module **\n",
      "\n"
     ]
    }
   ],
   "source": [
    "# The statistical inference frame-work we will use\n",
    "using LogDensityProblems\n",
    "using LogDensityProblemsAD\n",
    "using DynamicPPL\n",
    "using ForwardDiff\n",
    "using Random\n",
    "using LinearAlgebra\n",
    "\n",
    "#Plotting\n",
    "using PyPlot\n",
    "\n",
    "#What we are tweaking\n",
    "using Revise\n",
    "using AdvancedHMC\n",
    "using Turing"
   ]
  },
  {
   "attachments": {},
   "cell_type": "markdown",
   "id": "3d76390f",
   "metadata": {},
   "source": [
    "## Model"
   ]
  },
  {
   "cell_type": "code",
   "execution_count": 3,
   "id": "a7d6f81c",
   "metadata": {},
   "outputs": [
    {
     "data": {
      "text/plain": [
       "funnel (generic function with 2 methods)"
      ]
     },
     "execution_count": 3,
     "metadata": {},
     "output_type": "execute_result"
    }
   ],
   "source": [
    "# Just a simple Neal Funnel\n",
    "d = 21\n",
    "@model function funnel()\n",
    "    θ ~ Normal(0, 3)\n",
    "    z ~ MvNormal(zeros(d-1), exp(θ)*I)\n",
    "    x ~ MvNormal(z, I)\n",
    "end"
   ]
  },
  {
   "cell_type": "code",
   "execution_count": 4,
   "id": "5f408f2b",
   "metadata": {},
   "outputs": [
    {
     "data": {
      "text/plain": [
       "Model{typeof(funnel), (), (), (), Tuple{}, Tuple{}, ConditionContext{NamedTuple{(:x,), Tuple{Vector{Float64}}}, DefaultContext}}(funnel, NamedTuple(), NamedTuple(), ConditionContext((x = [1.2142074831535152, 1.23371919965455, -0.8480146960461767, 0.1600994648479841, 1.9180385508479283, -3.401523464506408, -0.0957684186471088, 0.6734622629464286, -3.2749467689509633, -1.6760091758453226, 1.9567202902549736, 0.1136169088905351, 0.11117896909388916, -0.5373922347882832, -0.12436857036298687, -1.2901071061088532, 1.702584517514787, -0.44460133117954226, 1.0818722439221686, 1.2208011493237483],), DefaultContext()))"
      ]
     },
     "execution_count": 4,
     "metadata": {},
     "output_type": "execute_result"
    }
   ],
   "source": [
    "Random.seed!(1)\n",
    "(;x) = rand(funnel() | (θ=0,))\n",
    "funnel_model = funnel() | (;x)"
   ]
  },
  {
   "attachments": {},
   "cell_type": "markdown",
   "id": "d852c160",
   "metadata": {},
   "source": [
    "## Sampling"
   ]
  },
  {
   "cell_type": "code",
   "execution_count": 11,
   "id": "486d475d",
   "metadata": {},
   "outputs": [
    {
     "data": {
      "text/plain": [
       "NUTS(500, 0.95, 10, 1000.0, 0.1, nothing, Leapfrog, AdvancedHMC.NUTS_kernel{MultinomialTS, GeneralisedNoUTurn}, AdvancedHMC.var\"#adaptor#38\"{Float64}(0.95))"
      ]
     },
     "execution_count": 11,
     "metadata": {},
     "output_type": "execute_result"
    }
   ],
   "source": [
    "using MCMCChains\n",
    "\n",
    "nadapts=500 \n",
    "TAP=0.95\n",
    "nuts = AdvancedHMC.NUTS(nadapts, TAP; init_ϵ=0.1)"
   ]
  },
  {
   "cell_type": "code",
   "execution_count": 12,
   "id": "b0193663",
   "metadata": {},
   "outputs": [
    {
     "name": "stderr",
     "output_type": "stream",
     "text": [
      "\u001b[32mSampling: 100%|█████████████████████████████████████████| Time: 0:00:03\u001b[39m\n"
     ]
    },
    {
     "data": {
      "text/plain": [
       "Chains MCMC chain (5000×34×1 Array{Real, 3}):\n",
       "\n",
       "Iterations        = 1:1:5000\n",
       "Number of chains  = 1\n",
       "Samples per chain = 5000\n",
       "parameters        = θ, z1, z2, z3, z4, z5, z6, z7, z8, z9, z10, z11, z12, z13, z14, z15, z16, z17, z18, z19, z20\n",
       "internals         = lp, n_steps, is_accept, acceptance_rate, log_density, hamiltonian_energy, hamiltonian_energy_error, max_hamiltonian_energy_error, tree_depth, numerical_error, step_size, nom_step_size, is_adapt\n",
       "\n",
       "Summary Statistics\n",
       " \u001b[1m parameters \u001b[0m \u001b[1m    mean \u001b[0m \u001b[1m     std \u001b[0m \u001b[1m    mcse \u001b[0m \u001b[1m  ess_bulk \u001b[0m \u001b[1m    rhat \u001b[0m \u001b[1m ess_per_sec\u001b[0m ⋯\n",
       " \u001b[90m     Symbol \u001b[0m \u001b[90m Float64 \u001b[0m \u001b[90m Float64 \u001b[0m \u001b[90m Float64 \u001b[0m \u001b[90m      Real \u001b[0m \u001b[90m Float64 \u001b[0m \u001b[90m     Missing\u001b[0m ⋯\n",
       "\n",
       "           θ   -0.1245    1.0501    0.1363    159.9420    1.0123       missing ⋯\n",
       "          z1    0.6028    0.7378    0.0177   1736.2126    1.0017       missing ⋯\n",
       "          z2    0.6061    0.7430    0.0174   1793.1890    1.0015       missing ⋯\n",
       "          z3   -0.4356    0.7286    0.0113   4746.5545    1.0012       missing ⋯\n",
       "          z4    0.0796    0.6841    0.0067   9836.9935    1.0023       missing ⋯\n",
       "          z5    0.9369    0.7826    0.0328    530.2843    1.0051       missing ⋯\n",
       "          z6   -1.6807    0.9300    0.0582    228.9274    1.0084       missing ⋯\n",
       "          z7   -0.0498    0.7094    0.0076   8877.0102    1.0035       missing ⋯\n",
       "          z8    0.3309    0.7145    0.0085   7189.7997    1.0000       missing ⋯\n",
       "          z9   -1.6002    0.9044    0.0540    261.9790    1.0070       missing ⋯\n",
       "         z10   -0.8282    0.7553    0.0249    906.6986    1.0033       missing ⋯\n",
       "         z11    0.9554    0.7815    0.0317    597.5777    1.0036       missing ⋯\n",
       "         z12    0.0578    0.6967    0.0075   8507.8578    1.0024       missing ⋯\n",
       "         z13    0.0516    0.7147    0.0078   8416.6638    1.0026       missing ⋯\n",
       "         z14   -0.2623    0.7044    0.0087   6737.3813    1.0007       missing ⋯\n",
       "         z15   -0.0670    0.6931    0.0075   8511.0613    1.0045       missing ⋯\n",
       "         z16   -0.6259    0.7454    0.0163   2211.5436    1.0016       missing ⋯\n",
       "         z17    0.8255    0.7503    0.0254    875.9028    1.0038       missing ⋯\n",
       "         z18   -0.2208    0.6699    0.0081   6823.9830    1.0050       missing ⋯\n",
       "         z19    0.5351    0.7360    0.0137   2951.7044    1.0014       missing ⋯\n",
       "         z20    0.6126    0.7359    0.0174   1771.7843    1.0001       missing ⋯\n",
       "\n",
       "Quantiles\n",
       " \u001b[1m parameters \u001b[0m \u001b[1m    2.5% \u001b[0m \u001b[1m   25.0% \u001b[0m \u001b[1m   50.0% \u001b[0m \u001b[1m   75.0% \u001b[0m \u001b[1m   97.5% \u001b[0m\n",
       " \u001b[90m     Symbol \u001b[0m \u001b[90m Float64 \u001b[0m \u001b[90m Float64 \u001b[0m \u001b[90m Float64 \u001b[0m \u001b[90m Float64 \u001b[0m \u001b[90m Float64 \u001b[0m\n",
       "\n",
       "           θ   -3.4951   -0.4026    0.0872    0.4837    1.1338\n",
       "          z1   -0.7462    0.0891    0.5548    1.0843    2.1593\n",
       "          z2   -0.7566    0.0868    0.5530    1.0948    2.1339\n",
       "          z3   -1.9759   -0.8944   -0.3959    0.0595    0.8991\n",
       "          z4   -1.2991   -0.3403    0.0688    0.5048    1.4345\n",
       "          z5   -0.4169    0.3524    0.9037    1.4556    2.5339\n",
       "          z6   -3.5930   -2.3300   -1.6655   -1.0109    0.0192\n",
       "          z7   -1.4794   -0.4880   -0.0334    0.3924    1.3136\n",
       "          z8   -0.9799   -0.1342    0.2952    0.7901    1.8262\n",
       "          z9   -3.4083   -2.2233   -1.5918   -0.9458    0.0267\n",
       "         z10   -2.4206   -1.3260   -0.7786   -0.2545    0.4690\n",
       "         z11   -0.3675    0.3674    0.9071    1.4885    2.5373\n",
       "         z12   -1.3281   -0.3874    0.0547    0.5148    1.4525\n",
       "         z13   -1.3551   -0.3883    0.0379    0.4945    1.5401\n",
       "         z14   -1.7416   -0.7128   -0.2161    0.1898    1.1052\n",
       "         z15   -1.4698   -0.5130   -0.0572    0.3674    1.3257\n",
       "         z16   -2.2292   -1.1115   -0.5676   -0.0968    0.7127\n",
       "         z17   -0.4812    0.2640    0.7886    1.3232    2.4005\n",
       "         z18   -1.6047   -0.6439   -0.1929    0.2034    1.1123\n",
       "         z19   -0.8135    0.0234    0.4921    1.0112    2.0545\n",
       "         z20   -0.7205    0.0985    0.5524    1.0887    2.1886\n"
      ]
     },
     "execution_count": 12,
     "metadata": {},
     "output_type": "execute_result"
    },
    {
     "name": "stderr",
     "output_type": "stream",
     "text": [
      "\u001b[33m\u001b[1m┌ \u001b[22m\u001b[39m\u001b[33m\u001b[1mWarning: \u001b[22m\u001b[39mTail ESS calculation failed: OverflowError(\"4750 * 4503599627370496 overflowed for type Int64\")\n",
      "\u001b[33m\u001b[1m└ \u001b[22m\u001b[39m\u001b[90m@ MCMCChains ~/.julia/packages/MCMCChains/OVsxE/src/stats.jl:319\u001b[39m\n"
     ]
    }
   ],
   "source": [
    "Asamples = sample(funnel_model, nuts, 5000; chain_type=MCMCChains.Chains)"
   ]
  },
  {
   "attachments": {},
   "cell_type": "markdown",
   "id": "bbf0131e",
   "metadata": {},
   "source": [
    "### Plotting"
   ]
  },
  {
   "cell_type": "code",
   "execution_count": 13,
   "id": "9c61e0ab",
   "metadata": {},
   "outputs": [],
   "source": [
    "theta_mchmc = Vector(Asamples[\"θ\"][:, 1])\n",
    "x10_mchmc =Vector(Asamples[\"z10\"][:, 1]);"
   ]
  },
  {
   "cell_type": "code",
   "execution_count": 14,
   "id": "8869229b",
   "metadata": {},
   "outputs": [
    {
     "data": {
      "image/png": "[encoded data removed]",
      "text/plain": [
       "Figure(PyObject <Figure size 800x800 with 3 Axes>)"
      ]
     },
     "metadata": {},
     "output_type": "display_data"
    }
   ],
   "source": [
    "fig, axis = plt.subplots(2, 2, figsize=(8,8))\n",
    "fig.suptitle(\"Neal's Funnel\", fontsize=16)\n",
    "\n",
    "fig.delaxes(axis[1,2])\n",
    "fig.subplots_adjust(hspace=0)\n",
    "fig.subplots_adjust(wspace=0)\n",
    "\n",
    "axis[1,1].hist(x10_mchmc, bins=100, range=[-6,2])\n",
    "axis[1,1].set_yticks([])\n",
    "\n",
    "axis[2,2].hist(theta_mchmc, bins=100, orientation=\"horizontal\", range=[-4, 2])\n",
    "axis[2,2].set_xticks([])\n",
    "axis[2,2].set_yticks([])\n",
    "\n",
    "axis[2,1].hist2d(x10_mchmc, theta_mchmc, bins=100, range=[[-6,2],[-4, 2]])\n",
    "axis[2,1].set_xlabel(\"x10\")\n",
    "axis[2,1].set_ylabel(\"theta\");"
   ]
  },
  {
   "attachments": {},
   "cell_type": "markdown",
   "id": "e589a88e",
   "metadata": {},
   "source": [
    "## Sampling w Turing"
   ]
  },
  {
   "cell_type": "code",
   "execution_count": null,
   "id": "99c0baa6",
   "metadata": {},
   "outputs": [],
   "source": [
    "using Turing"
   ]
  },
  {
   "cell_type": "code",
   "execution_count": null,
   "id": "4b21a3c3",
   "metadata": {},
   "outputs": [],
   "source": [
    "TAP = 0.95\n",
    "nadapts = 300\n",
    "spl = Turing.NUTS(nadapts, TAP)"
   ]
  },
  {
   "cell_type": "code",
   "execution_count": null,
   "id": "74b110a2",
   "metadata": {},
   "outputs": [],
   "source": [
    "Turing.sample(funnel_model, spl, 50_000, progress=true; save_state=true)"
   ]
  }
 ],
 "metadata": {
  "kernelspec": {
   "display_name": "Julia 1.9.0",
   "language": "julia",
   "name": "julia-1.9"
  },
  "language_info": {
   "file_extension": ".jl",
   "mimetype": "application/julia",
   "name": "julia",
   "version": "1.9.0"
  }
 },
 "nbformat": 4,
 "nbformat_minor": 5
}
