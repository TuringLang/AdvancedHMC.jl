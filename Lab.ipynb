{
 "cells": [
  {
   "attachments": {},
   "cell_type": "markdown",
   "id": "91129cb1",
   "metadata": {},
   "source": [
    "# No-glue-code"
   ]
  },
  {
   "cell_type": "code",
   "execution_count": 1,
   "id": "896323ee",
   "metadata": {},
   "outputs": [
    {
     "name": "stderr",
     "output_type": "stream",
     "text": [
      "\u001b[32m\u001b[1m  Activating\u001b[22m\u001b[39m project at `~/Cambdrige`\n"
     ]
    }
   ],
   "source": [
    "using Pkg\n",
    "Pkg.activate(\"..\")"
   ]
  },
  {
   "cell_type": "code",
   "execution_count": 2,
   "id": "baed58e3",
   "metadata": {},
   "outputs": [
    {
     "name": "stderr",
     "output_type": "stream",
     "text": [
      "\u001b[36m\u001b[1m[ \u001b[22m\u001b[39m\u001b[36m\u001b[1mInfo: \u001b[22m\u001b[39mPrecompiling AdvancedHMC [0bf59076-c3b1-5ca4-86bd-e02cd72cde3d]\n",
      "\u001b[36m\u001b[1m[ \u001b[22m\u001b[39m\u001b[36m\u001b[1mInfo: \u001b[22m\u001b[39mPrecompiling Turing [fce5fe82-541a-59a6-adf8-730c64b5f9a0]\n",
      "WARNING: Method definition sample(Random.AbstractRNG, AbstractMCMC.AbstractModel, AbstractMCMC.AbstractSampler, AbstractMCMC.AbstractMCMCEnsemble, Integer, Integer) in module AbstractMCMC at /home/jaimerz/.julia/packages/AbstractMCMC/bE6VB/src/sample.jl:81 overwritten in module Inference at /home/jaimerz/Cambdrige/Turing.jl/src/inference/Inference.jl:214.\n",
      "  ** incremental compilation may be fatally broken for this module **\n",
      "\n",
      "WARNING: Method definition kwcall(Any, typeof(StatsBase.sample), Random.AbstractRNG, AbstractMCMC.AbstractModel, AbstractMCMC.AbstractSampler, AbstractMCMC.AbstractMCMCEnsemble, Integer, Integer) in module AbstractMCMC at /home/jaimerz/.julia/packages/AbstractMCMC/bE6VB/src/sample.jl:81 overwritten in module Inference at /home/jaimerz/Cambdrige/Turing.jl/src/inference/Inference.jl:214.\n",
      "  ** incremental compilation may be fatally broken for this module **\n",
      "\n"
     ]
    }
   ],
   "source": [
    "using Random\n",
    "using LinearAlgebra\n",
    "using PyPlot\n",
    "\n",
    "#What we are tweaking\n",
    "using Revise\n",
    "using AdvancedHMC\n",
    "using Turing"
   ]
  },
  {
   "attachments": {},
   "cell_type": "markdown",
   "id": "3d76390f",
   "metadata": {},
   "source": [
    "## Model"
   ]
  },
  {
   "cell_type": "code",
   "execution_count": 3,
   "id": "a7d6f81c",
   "metadata": {},
   "outputs": [
    {
     "data": {
      "text/plain": [
       "funnel (generic function with 2 methods)"
      ]
     },
     "execution_count": 3,
     "metadata": {},
     "output_type": "execute_result"
    }
   ],
   "source": [
    "# Just a simple Neal Funnel\n",
    "d = 21\n",
    "@model function funnel()\n",
    "    θ ~ Normal(0, 3)\n",
    "    z ~ MvNormal(zeros(d-1), exp(θ)*I)\n",
    "    x ~ MvNormal(z, I)\n",
    "end"
   ]
  },
  {
   "cell_type": "code",
   "execution_count": 4,
   "id": "5f408f2b",
   "metadata": {},
   "outputs": [
    {
     "data": {
      "text/plain": [
       "DynamicPPL.Model{typeof(funnel), (), (), (), Tuple{}, Tuple{}, DynamicPPL.ConditionContext{NamedTuple{(:x,), Tuple{Vector{Float64}}}, DynamicPPL.DefaultContext}}(funnel, NamedTuple(), NamedTuple(), ConditionContext((x = [1.2142074831535152, 1.23371919965455, -0.8480146960461767, 0.1600994648479841, 1.9180385508479283, -3.401523464506408, -0.0957684186471088, 0.6734622629464286, -3.2749467689509633, -1.6760091758453226, 1.9567202902549736, 0.1136169088905351, 0.11117896909388916, -0.5373922347882832, -0.12436857036298687, -1.2901071061088532, 1.702584517514787, -0.44460133117954226, 1.0818722439221686, 1.2208011493237483],), DynamicPPL.DefaultContext()))"
      ]
     },
     "execution_count": 4,
     "metadata": {},
     "output_type": "execute_result"
    }
   ],
   "source": [
    "Random.seed!(1)\n",
    "(;x) = rand(funnel() | (θ=0,))\n",
    "funnel_model = funnel() | (;x)"
   ]
  },
  {
   "attachments": {},
   "cell_type": "markdown",
   "id": "d852c160",
   "metadata": {},
   "source": [
    "## Sampling"
   ]
  },
  {
   "cell_type": "code",
   "execution_count": 5,
   "id": "486d475d",
   "metadata": {},
   "outputs": [
    {
     "data": {
      "text/plain": [
       "AdvancedHMC.NUTS(500, 0.95, 10, 1000.0, 0.1, nothing, Leapfrog, AdvancedHMC.NUTS_kernel, AdvancedHMC.var\"#adaptor#32\"{Float64}(0.95))"
      ]
     },
     "execution_count": 5,
     "metadata": {},
     "output_type": "execute_result"
    }
   ],
   "source": [
    "nadapts=500 \n",
    "TAP=0.95\n",
    "nuts = AdvancedHMC.NUTS(nadapts, TAP; init_ϵ=0.1)"
   ]
  },
  {
   "cell_type": "code",
   "execution_count": 6,
   "id": "9e114ad8",
   "metadata": {},
   "outputs": [
    {
     "data": {
      "text/plain": [
       "AdvancedHMC.HMC(0.1, 20, nothing, Leapfrog, AdvancedHMC.var\"#kernel#33\"{Int64}(20), AdvancedHMC.Adaptation.NoAdaptation())"
      ]
     },
     "execution_count": 6,
     "metadata": {},
     "output_type": "execute_result"
    }
   ],
   "source": [
    "ϵ=0.1\n",
    "n_leapfrog=20\n",
    "hmc = AdvancedHMC.HMC(ϵ, n_leapfrog)"
   ]
  },
  {
   "cell_type": "code",
   "execution_count": 7,
   "id": "1f729dc6",
   "metadata": {},
   "outputs": [
    {
     "data": {
      "text/plain": [
       "AdvancedHMC.HMCDA(500, 0.95, 1.0, 0.1, nothing, Leapfrog, AdvancedHMC.var\"#kernel#35\"{Float64}(1.0), AdvancedHMC.var\"#adaptor#37\"{Float64}(0.95))"
      ]
     },
     "execution_count": 7,
     "metadata": {},
     "output_type": "execute_result"
    }
   ],
   "source": [
    "n_adapts = 500\n",
    "TAP = 0.95\n",
    "λ = 0.1 * 10\n",
    "#ϵ = 0.1\n",
    "hmcda = AdvancedHMC.HMCDA(n_adapts, TAP, λ; ϵ = 0.1)"
   ]
  },
  {
   "cell_type": "code",
   "execution_count": 12,
   "id": "b0193663",
   "metadata": {},
   "outputs": [
    {
     "name": "stdout",
     "output_type": "stream",
     "text": [
      "true\n"
     ]
    },
    {
     "name": "stderr",
     "output_type": "stream",
     "text": [
      "\u001b[32mSampling: 100%|█████████████████████████████████████████| Time: 0:00:01\u001b[39m\n"
     ]
    },
    {
     "data": {
      "text/plain": [
       "Chains MCMC chain (5000×34×1 Array{Real, 3}):\n",
       "\n",
       "Iterations        = 1:1:5000\n",
       "Number of chains  = 1\n",
       "Samples per chain = 5000\n",
       "parameters        = param_1, param_2, param_3, param_4, param_5, param_6, param_7, param_8, param_9, param_10, param_11, param_12, param_13, param_14, param_15, param_16, param_17, param_18, param_19, param_20, param_21\n",
       "internals         = lp, n_steps, is_accept, acceptance_rate, log_density, hamiltonian_energy, hamiltonian_energy_error, max_hamiltonian_energy_error, tree_depth, numerical_error, step_size, nom_step_size, is_adapt\n",
       "\n",
       "Summary Statistics\n",
       " \u001b[1m parameters \u001b[0m \u001b[1m    mean \u001b[0m \u001b[1m     std \u001b[0m \u001b[1m    mcse \u001b[0m \u001b[1m   ess_bulk \u001b[0m \u001b[1m    rhat \u001b[0m \u001b[1m ess_per_se\u001b[0m ⋯\n",
       " \u001b[90m     Symbol \u001b[0m \u001b[90m Float64 \u001b[0m \u001b[90m Float64 \u001b[0m \u001b[90m Float64 \u001b[0m \u001b[90m       Real \u001b[0m \u001b[90m Float64 \u001b[0m \u001b[90m     Missin\u001b[0m ⋯\n",
       "\n",
       "     param_1   -0.0174    0.7500    0.0350     730.0857    1.0004       missin ⋯\n",
       "     param_2    0.6148    0.7632    0.0113    4717.0640    0.9999       missin ⋯\n",
       "     param_3    0.6330    0.7287    0.0104    5085.7554    1.0002       missin ⋯\n",
       "     param_4   -0.4251    0.7090    0.0092    5955.7914    0.9999       missin ⋯\n",
       "     param_5    0.0785    0.6943    0.0069   10060.6359    1.0011       missin ⋯\n",
       "     param_6    0.9763    0.7883    0.0148    2783.3659    1.0000       missin ⋯\n",
       "     param_7   -1.7070    0.8929    0.0234    1386.4922    1.0003       missin ⋯\n",
       "     param_8   -0.0592    0.7182    0.0080    8050.8462    1.0003       missin ⋯\n",
       "     param_9    0.3400    0.7102    0.0078    8396.9475    0.9999       missin ⋯\n",
       "    param_10   -1.6307    0.8631    0.0220    1459.1123    1.0008       missin ⋯\n",
       "    param_11   -0.8527    0.7616    0.0121    4055.1172    1.0008       missin ⋯\n",
       "    param_12    0.9897    0.7565    0.0145    2731.9896    1.0004       missin ⋯\n",
       "    param_13    0.0393    0.7191    0.0076    9121.5795    1.0000       missin ⋯\n",
       "    param_14    0.0494    0.6942    0.0074    8791.7218    0.9999       missin ⋯\n",
       "    param_15   -0.2733    0.7141    0.0076    8812.5283    1.0000       missin ⋯\n",
       "    param_16   -0.0573    0.7148    0.0073    9500.3237    1.0000       missin ⋯\n",
       "    param_17   -0.6470    0.7472    0.0103    5434.1051    1.0012       missin ⋯\n",
       "    param_18    0.8703    0.7677    0.0132    3439.5268    0.9999       missin ⋯\n",
       "    param_19   -0.2340    0.7265    0.0082    7689.3257    1.0000       missin ⋯\n",
       "    param_20    0.5327    0.7314    0.0093    6332.7328    1.0002       missin ⋯\n",
       "    param_21    0.6139    0.7429    0.0106    4997.4199    1.0000       missin ⋯\n",
       "\u001b[36m                                                                1 column omitted\u001b[0m\n",
       "\n",
       "Quantiles\n",
       " \u001b[1m parameters \u001b[0m \u001b[1m    2.5% \u001b[0m \u001b[1m   25.0% \u001b[0m \u001b[1m   50.0% \u001b[0m \u001b[1m   75.0% \u001b[0m \u001b[1m   97.5% \u001b[0m\n",
       " \u001b[90m     Symbol \u001b[0m \u001b[90m Float64 \u001b[0m \u001b[90m Float64 \u001b[0m \u001b[90m Float64 \u001b[0m \u001b[90m Float64 \u001b[0m \u001b[90m Float64 \u001b[0m\n",
       "\n",
       "     param_1   -1.7713   -0.3872    0.0793    0.4723    1.1709\n",
       "     param_2   -0.8114    0.1038    0.5695    1.0997    2.2276\n",
       "     param_3   -0.6902    0.1206    0.5973    1.1164    2.1311\n",
       "     param_4   -1.8581   -0.8688   -0.4034    0.0324    0.9877\n",
       "     param_5   -1.2657   -0.3823    0.0609    0.5435    1.4433\n",
       "     param_6   -0.4298    0.4240    0.9355    1.4626    2.6768\n",
       "     param_7   -3.5151   -2.2903   -1.6749   -1.0749   -0.0668\n",
       "     param_8   -1.4734   -0.5202   -0.0467    0.4045    1.3604\n",
       "     param_9   -1.0429   -0.1228    0.3206    0.7800    1.8106\n",
       "    param_10   -3.4084   -2.2220   -1.6031   -1.0067   -0.0836\n",
       "    param_11   -2.4772   -1.3518   -0.7930   -0.3179    0.5413\n",
       "    param_12   -0.3563    0.4531    0.9460    1.4955    2.5399\n",
       "    param_13   -1.4161   -0.4123    0.0330    0.4998    1.4982\n",
       "    param_14   -1.2656   -0.4093    0.0408    0.4927    1.4230\n",
       "    param_15   -1.7088   -0.7418   -0.2609    0.2003    1.1286\n",
       "    param_16   -1.4604   -0.5194   -0.0537    0.4161    1.3682\n",
       "    param_17   -2.1648   -1.1385   -0.6149   -0.1260    0.7007\n",
       "    param_18   -0.5556    0.3307    0.8370    1.3768    2.4403\n",
       "    param_19   -1.7389   -0.6792   -0.2201    0.2328    1.1957\n",
       "    param_20   -0.8335    0.0358    0.4972    0.9939    2.0256\n",
       "    param_21   -0.7627    0.1034    0.5736    1.0991    2.1488\n"
      ]
     },
     "execution_count": 12,
     "metadata": {},
     "output_type": "execute_result"
    },
    {
     "name": "stderr",
     "output_type": "stream",
     "text": [
      "\u001b[33m\u001b[1m┌ \u001b[22m\u001b[39m\u001b[33m\u001b[1mWarning: \u001b[22m\u001b[39mTail ESS calculation failed: OverflowError(\"4750 * 4503599627370496 overflowed for type Int64\")\n",
      "\u001b[33m\u001b[1m└ \u001b[22m\u001b[39m\u001b[90m@ MCMCChains ~/.julia/packages/MCMCChains/OVsxE/src/stats.jl:319\u001b[39m\n"
     ]
    }
   ],
   "source": [
    "nuts_samples = sample(funnel_model, nuts, 5000)"
   ]
  },
  {
   "cell_type": "code",
   "execution_count": 13,
   "id": "f610b909",
   "metadata": {},
   "outputs": [
    {
     "name": "stdout",
     "output_type": "stream",
     "text": [
      "true\n"
     ]
    },
    {
     "name": "stderr",
     "output_type": "stream",
     "text": [
      "\u001b[32mSampling: 100%|█████████████████████████████████████████| Time: 0:00:02\u001b[39m\n"
     ]
    },
    {
     "data": {
      "text/plain": [
       "Chains MCMC chain (5000×32×1 Array{Real, 3}):\n",
       "\n",
       "Iterations        = 1:1:5000\n",
       "Number of chains  = 1\n",
       "Samples per chain = 5000\n",
       "parameters        = param_1, param_2, param_3, param_4, param_5, param_6, param_7, param_8, param_9, param_10, param_11, param_12, param_13, param_14, param_15, param_16, param_17, param_18, param_19, param_20, param_21\n",
       "internals         = lp, n_steps, is_accept, acceptance_rate, log_density, hamiltonian_energy, hamiltonian_energy_error, numerical_error, step_size, nom_step_size, is_adapt\n",
       "\n",
       "Summary Statistics\n",
       " \u001b[1m parameters \u001b[0m \u001b[1m    mean \u001b[0m \u001b[1m     std \u001b[0m \u001b[1m    mcse \u001b[0m \u001b[1m   ess_bulk \u001b[0m \u001b[1m    rhat \u001b[0m \u001b[1m ess_per_se\u001b[0m ⋯\n",
       " \u001b[90m     Symbol \u001b[0m \u001b[90m Float64 \u001b[0m \u001b[90m Float64 \u001b[0m \u001b[90m Float64 \u001b[0m \u001b[90m       Real \u001b[0m \u001b[90m Float64 \u001b[0m \u001b[90m     Missin\u001b[0m ⋯\n",
       "\n",
       "     param_1   -0.0511    0.7690    0.0307     760.5169    0.9998       missin ⋯\n",
       "     param_2    0.6008    0.7087    0.0081    7762.2759    0.9998       missin ⋯\n",
       "     param_3    0.6068    0.7257    0.0079    8943.3761    0.9999       missin ⋯\n",
       "     param_4   -0.4200    0.6873    0.0051   18494.8500    0.9998       missin ⋯\n",
       "     param_5    0.0860    0.6917    0.0051   18494.8500    0.9998       missin ⋯\n",
       "     param_6    0.9493    0.7641    0.0117    4343.7631    1.0014       missin ⋯\n",
       "     param_7   -1.6812    0.9169    0.0203    1943.5537    1.0002       missin ⋯\n",
       "     param_8   -0.0490    0.7376    0.0054   18494.8500    1.0005       missin ⋯\n",
       "     param_9    0.3295    0.6838    0.0051   17509.3435    1.0008       missin ⋯\n",
       "    param_10   -1.6175    0.8784    0.0192    2021.9588    1.0004       missin ⋯\n",
       "    param_11   -0.8305    0.7581    0.0102    5708.8237    0.9998       missin ⋯\n",
       "    param_12    0.9674    0.7370    0.0118    3910.1150    1.0013       missin ⋯\n",
       "    param_13    0.0526    0.7262    0.0053   18494.8500    1.0015       missin ⋯\n",
       "    param_14    0.0568    0.7011    0.0052   18494.8500    1.0046       missin ⋯\n",
       "    param_15   -0.2692    0.6908    0.0051   18494.8500    0.9999       missin ⋯\n",
       "    param_16   -0.0585    0.6893    0.0051   18494.8500    1.0007       missin ⋯\n",
       "    param_17   -0.6359    0.7557    0.0083    8808.1480    0.9999       missin ⋯\n",
       "    param_18    0.8410    0.7407    0.0098    5856.3172    0.9998       missin ⋯\n",
       "    param_19   -0.2209    0.7268    0.0053   18494.8500    1.0008       missin ⋯\n",
       "    param_20    0.5363    0.7254    0.0066   12297.2799    1.0048       missin ⋯\n",
       "    param_21    0.6043    0.7387    0.0075   10518.4937    1.0029       missin ⋯\n",
       "\u001b[36m                                                                1 column omitted\u001b[0m\n",
       "\n",
       "Quantiles\n",
       " \u001b[1m parameters \u001b[0m \u001b[1m    2.5% \u001b[0m \u001b[1m   25.0% \u001b[0m \u001b[1m   50.0% \u001b[0m \u001b[1m   75.0% \u001b[0m \u001b[1m   97.5% \u001b[0m\n",
       " \u001b[90m     Symbol \u001b[0m \u001b[90m Float64 \u001b[0m \u001b[90m Float64 \u001b[0m \u001b[90m Float64 \u001b[0m \u001b[90m Float64 \u001b[0m \u001b[90m Float64 \u001b[0m\n",
       "\n",
       "     param_1   -2.0322   -0.4172    0.0591    0.4611    1.1661\n",
       "     param_2   -0.7222    0.1123    0.5537    1.0438    2.0960\n",
       "     param_3   -0.7152    0.1014    0.5667    1.0696    2.1301\n",
       "     param_4   -1.8414   -0.8576   -0.3875    0.0377    0.8896\n",
       "     param_5   -1.3036   -0.3642    0.0767    0.5297    1.4782\n",
       "     param_6   -0.4132    0.4124    0.9046    1.4459    2.5894\n",
       "     param_7   -3.5879   -2.2750   -1.6363   -1.0282   -0.0585\n",
       "     param_8   -1.5408   -0.5073   -0.0504    0.4187    1.4338\n",
       "     param_9   -0.9966   -0.1115    0.3018    0.7575    1.7378\n",
       "    param_10   -3.4760   -2.1895   -1.5792   -0.9955   -0.0562\n",
       "    param_11   -2.4177   -1.3094   -0.7926   -0.3030    0.5092\n",
       "    param_12   -0.3374    0.4377    0.9366    1.4540    2.4858\n",
       "    param_13   -1.4007   -0.4206    0.0497    0.5369    1.4845\n",
       "    param_14   -1.2902   -0.4095    0.0534    0.5184    1.4468\n",
       "    param_15   -1.7128   -0.6838   -0.2459    0.1567    1.0854\n",
       "    param_16   -1.4711   -0.4925   -0.0531    0.3858    1.3000\n",
       "    param_17   -2.1971   -1.1454   -0.5975   -0.0921    0.7504\n",
       "    param_18   -0.4589    0.3191    0.7982    1.3046    2.4044\n",
       "    param_19   -1.7493   -0.6706   -0.2011    0.2398    1.2489\n",
       "    param_20   -0.8299    0.0471    0.4926    1.0035    2.0433\n",
       "    param_21   -0.7295    0.0787    0.5609    1.0962    2.1442\n"
      ]
     },
     "execution_count": 13,
     "metadata": {},
     "output_type": "execute_result"
    },
    {
     "name": "stderr",
     "output_type": "stream",
     "text": [
      "\u001b[33m\u001b[1m┌ \u001b[22m\u001b[39m\u001b[33m\u001b[1mWarning: \u001b[22m\u001b[39mTail ESS calculation failed: OverflowError(\"4750 * 4503599627370496 overflowed for type Int64\")\n",
      "\u001b[33m\u001b[1m└ \u001b[22m\u001b[39m\u001b[90m@ MCMCChains ~/.julia/packages/MCMCChains/OVsxE/src/stats.jl:319\u001b[39m\n"
     ]
    }
   ],
   "source": [
    "hmc_samples = sample(funnel_model, hmc, 5000)"
   ]
  },
  {
   "cell_type": "code",
   "execution_count": 14,
   "id": "88df45a3",
   "metadata": {},
   "outputs": [
    {
     "name": "stdout",
     "output_type": "stream",
     "text": [
      "true\n"
     ]
    },
    {
     "name": "stderr",
     "output_type": "stream",
     "text": [
      "\u001b[32mSampling: 100%|█████████████████████████████████████████| Time: 0:00:01\u001b[39m\n"
     ]
    },
    {
     "data": {
      "text/plain": [
       "Chains MCMC chain (5000×32×1 Array{Real, 3}):\n",
       "\n",
       "Iterations        = 1:1:5000\n",
       "Number of chains  = 1\n",
       "Samples per chain = 5000\n",
       "parameters        = param_1, param_2, param_3, param_4, param_5, param_6, param_7, param_8, param_9, param_10, param_11, param_12, param_13, param_14, param_15, param_16, param_17, param_18, param_19, param_20, param_21\n",
       "internals         = lp, n_steps, is_accept, acceptance_rate, log_density, hamiltonian_energy, hamiltonian_energy_error, numerical_error, step_size, nom_step_size, is_adapt\n",
       "\n",
       "Summary Statistics\n",
       " \u001b[1m parameters \u001b[0m \u001b[1m    mean \u001b[0m \u001b[1m     std \u001b[0m \u001b[1m    mcse \u001b[0m \u001b[1m  ess_bulk \u001b[0m \u001b[1m    rhat \u001b[0m \u001b[1m ess_per_sec\u001b[0m ⋯\n",
       " \u001b[90m     Symbol \u001b[0m \u001b[90m Float64 \u001b[0m \u001b[90m Float64 \u001b[0m \u001b[90m Float64 \u001b[0m \u001b[90m      Real \u001b[0m \u001b[90m Float64 \u001b[0m \u001b[90m     Missing\u001b[0m ⋯\n",
       "\n",
       "     param_1   -0.1374    0.9854    0.0802    300.0707    1.0000       missing ⋯\n",
       "     param_2    0.5816    0.7170    0.0167   1904.9377    0.9999       missing ⋯\n",
       "     param_3    0.6056    0.7297    0.0185   1622.7416    1.0001       missing ⋯\n",
       "     param_4   -0.3994    0.6984    0.0139   2588.9803    1.0001       missing ⋯\n",
       "     param_5    0.0842    0.6967    0.0136   2619.8675    0.9998       missing ⋯\n",
       "     param_6    0.9201    0.7757    0.0275    796.7068    1.0005       missing ⋯\n",
       "     param_7   -1.6537    0.9317    0.0419    477.0189    0.9999       missing ⋯\n",
       "     param_8   -0.0596    0.6990    0.0125   3149.8056    1.0000       missing ⋯\n",
       "     param_9    0.3409    0.7085    0.0136   2861.0059    1.0005       missing ⋯\n",
       "    param_10   -1.6002    0.9174    0.0408    475.8869    1.0002       missing ⋯\n",
       "    param_11   -0.8002    0.7516    0.0214   1236.1506    0.9999       missing ⋯\n",
       "    param_12    0.9417    0.7878    0.0258    936.9052    1.0005       missing ⋯\n",
       "    param_13    0.0683    0.7005    0.0124   3229.7104    0.9998       missing ⋯\n",
       "    param_14    0.0468    0.6980    0.0121   3366.4062    1.0005       missing ⋯\n",
       "    param_15   -0.2592    0.7172    0.0132   3022.7550    0.9999       missing ⋯\n",
       "    param_16   -0.0521    0.6835    0.0124   3117.2325    1.0000       missing ⋯\n",
       "    param_17   -0.6306    0.7495    0.0168   2042.9921    1.0005       missing ⋯\n",
       "    param_18    0.8219    0.7483    0.0228   1089.0650    1.0004       missing ⋯\n",
       "    param_19   -0.2059    0.6935    0.0122   3270.9700    0.9999       missing ⋯\n",
       "    param_20    0.5134    0.7293    0.0161   2107.0161    0.9999       missing ⋯\n",
       "    param_21    0.5832    0.7261    0.0167   1944.6001    1.0001       missing ⋯\n",
       "\n",
       "Quantiles\n",
       " \u001b[1m parameters \u001b[0m \u001b[1m    2.5% \u001b[0m \u001b[1m   25.0% \u001b[0m \u001b[1m   50.0% \u001b[0m \u001b[1m   75.0% \u001b[0m \u001b[1m   97.5% \u001b[0m\n",
       " \u001b[90m     Symbol \u001b[0m \u001b[90m Float64 \u001b[0m \u001b[90m Float64 \u001b[0m \u001b[90m Float64 \u001b[0m \u001b[90m Float64 \u001b[0m \u001b[90m Float64 \u001b[0m\n",
       "\n",
       "     param_1   -2.8736   -0.4698    0.0252    0.4595    1.1645\n",
       "     param_2   -0.6997    0.0823    0.5279    1.0437    2.1102\n",
       "     param_3   -0.7198    0.0958    0.5560    1.0790    2.1265\n",
       "     param_4   -1.8649   -0.8383   -0.3497    0.0475    0.9658\n",
       "     param_5   -1.3026   -0.3556    0.0713    0.5191    1.5080\n",
       "     param_6   -0.4136    0.3411    0.8788    1.4364    2.5730\n",
       "     param_7   -3.5290   -2.2770   -1.6435   -0.9761    0.0245\n",
       "     param_8   -1.4663   -0.4959   -0.0521    0.3643    1.3249\n",
       "     param_9   -1.0039   -0.1180    0.2950    0.7910    1.8125\n",
       "    param_10   -3.4820   -2.2040   -1.5789   -0.9412    0.0187\n",
       "    param_11   -2.3647   -1.2785   -0.7627   -0.2475    0.5265\n",
       "    param_12   -0.4238    0.3600    0.9019    1.4577    2.5905\n",
       "    param_13   -1.3311   -0.3595    0.0602    0.4898    1.4964\n",
       "    param_14   -1.3760   -0.3897    0.0503    0.4889    1.4548\n",
       "    param_15   -1.7473   -0.7184   -0.2269    0.1973    1.1298\n",
       "    param_16   -1.4071   -0.4848   -0.0395    0.3687    1.3586\n",
       "    param_17   -2.1948   -1.1213   -0.5770   -0.0942    0.7283\n",
       "    param_18   -0.4829    0.2742    0.7636    1.3043    2.4254\n",
       "    param_19   -1.6432   -0.6536   -0.1754    0.2373    1.1349\n",
       "    param_20   -0.8245    0.0114    0.4755    0.9727    2.0750\n",
       "    param_21   -0.6946    0.0764    0.5349    1.0593    2.1550\n"
      ]
     },
     "execution_count": 14,
     "metadata": {},
     "output_type": "execute_result"
    },
    {
     "name": "stderr",
     "output_type": "stream",
     "text": [
      "\u001b[33m\u001b[1m┌ \u001b[22m\u001b[39m\u001b[33m\u001b[1mWarning: \u001b[22m\u001b[39mTail ESS calculation failed: OverflowError(\"4750 * 4503599627370496 overflowed for type Int64\")\n",
      "\u001b[33m\u001b[1m└ \u001b[22m\u001b[39m\u001b[90m@ MCMCChains ~/.julia/packages/MCMCChains/OVsxE/src/stats.jl:319\u001b[39m\n"
     ]
    }
   ],
   "source": [
    "hmcda_samples = sample(funnel_model, hmcda, 5000)"
   ]
  },
  {
   "attachments": {},
   "cell_type": "markdown",
   "id": "bbf0131e",
   "metadata": {},
   "source": [
    "### Plotting"
   ]
  },
  {
   "cell_type": "code",
   "execution_count": 15,
   "id": "9c61e0ab",
   "metadata": {},
   "outputs": [],
   "source": [
    "theta_nuts = Vector(nuts_samples[\"param_1\"][:, 1])\n",
    "x10_nuts =Vector(nuts_samples[\"param_11\"][:, 1]);"
   ]
  },
  {
   "cell_type": "code",
   "execution_count": 16,
   "id": "0b0923f1",
   "metadata": {},
   "outputs": [],
   "source": [
    "theta_hmc = Vector(hmc_samples[\"param_1\"][:, 1])\n",
    "x10_hmc =Vector(hmc_samples[\"param_11\"][:, 1]);"
   ]
  },
  {
   "cell_type": "code",
   "execution_count": 17,
   "id": "fec8ace5",
   "metadata": {},
   "outputs": [],
   "source": [
    "theta_hmcda = Vector(hmcda_samples[\"param_1\"][:, 1])\n",
    "x10_hmcda =Vector(hmcda_samples[\"param_11\"][:, 1]);"
   ]
  },
  {
   "cell_type": "code",
   "execution_count": 18,
   "id": "8869229b",
   "metadata": {},
   "outputs": [
    {
     "data": {
      "image/png": "[encoded data removed]",
      "text/plain": [
       "Figure(PyObject <Figure size 800x800 with 3 Axes>)"
      ]
     },
     "metadata": {},
     "output_type": "display_data"
    }
   ],
   "source": [
    "fig, axis = plt.subplots(2, 2, figsize=(8,8))\n",
    "fig.suptitle(\"NUTS - 21-D Neal's Funnel\", fontsize=16)\n",
    "\n",
    "fig.delaxes(axis[1,2])\n",
    "fig.subplots_adjust(hspace=0)\n",
    "fig.subplots_adjust(wspace=0)\n",
    "\n",
    "axis[1,1].hist(x10_nuts, bins=100, range=[-6,2])\n",
    "axis[1,1].set_yticks([])\n",
    "\n",
    "axis[2,2].hist(theta_nuts, bins=100, orientation=\"horizontal\", range=[-4, 2])\n",
    "axis[2,2].set_xticks([])\n",
    "axis[2,2].set_yticks([])\n",
    "\n",
    "axis[2,1].hist2d(x10_nuts, theta_nuts, bins=100, range=[[-6,2],[-4, 2]])\n",
    "axis[2,1].set_xlabel(\"x10\")\n",
    "axis[2,1].set_ylabel(\"theta\");"
   ]
  },
  {
   "cell_type": "code",
   "execution_count": 19,
   "id": "fe4c8b70",
   "metadata": {},
   "outputs": [
    {
     "data": {
      "image/png": "[encoded data removed]",
      "text/plain": [
       "Figure(PyObject <Figure size 800x800 with 3 Axes>)"
      ]
     },
     "metadata": {},
     "output_type": "display_data"
    }
   ],
   "source": [
    "fig, axis = plt.subplots(2, 2, figsize=(8,8))\n",
    "fig.suptitle(\"HMC - 21-D Neal's Funnel\", fontsize=16)\n",
    "\n",
    "fig.delaxes(axis[1,2])\n",
    "fig.subplots_adjust(hspace=0)\n",
    "fig.subplots_adjust(wspace=0)\n",
    "\n",
    "axis[1,1].hist(x10_hmc, bins=100, range=[-6,2])\n",
    "axis[1,1].set_yticks([])\n",
    "\n",
    "axis[2,2].hist(theta_hmc, bins=100, orientation=\"horizontal\", range=[-4, 2])\n",
    "axis[2,2].set_xticks([])\n",
    "axis[2,2].set_yticks([])\n",
    "\n",
    "axis[2,1].hist2d(x10_hmc, theta_hmc, bins=100, range=[[-6,2],[-4, 2]])\n",
    "axis[2,1].set_xlabel(\"x10\")\n",
    "axis[2,1].set_ylabel(\"theta\");"
   ]
  },
  {
   "cell_type": "code",
   "execution_count": 20,
   "id": "2c9052ab",
   "metadata": {},
   "outputs": [
    {
     "data": {
      "image/png": "[encoded data removed]",
      "text/plain": [
       "Figure(PyObject <Figure size 800x800 with 3 Axes>)"
      ]
     },
     "metadata": {},
     "output_type": "display_data"
    }
   ],
   "source": [
    "fig, axis = plt.subplots(2, 2, figsize=(8,8))\n",
    "fig.suptitle(\"HMCDA - 21-D  Neal's Funnel\", fontsize=16)\n",
    "\n",
    "fig.delaxes(axis[1,2])\n",
    "fig.subplots_adjust(hspace=0)\n",
    "fig.subplots_adjust(wspace=0)\n",
    "\n",
    "axis[1,1].hist(x10_hmcda, bins=100, range=[-6,2])\n",
    "axis[1,1].set_yticks([])\n",
    "\n",
    "axis[2,2].hist(theta_hmcda, bins=100, orientation=\"horizontal\", range=[-4, 2])\n",
    "axis[2,2].set_xticks([])\n",
    "axis[2,2].set_yticks([])\n",
    "\n",
    "axis[2,1].hist2d(x10_hmcda, theta_hmcda, bins=100, range=[[-6,2],[-4, 2]])\n",
    "axis[2,1].set_xlabel(\"x10\")\n",
    "axis[2,1].set_ylabel(\"theta\");"
   ]
  },
  {
   "attachments": {},
   "cell_type": "markdown",
   "id": "843becb3",
   "metadata": {},
   "source": []
  }
 ],
 "metadata": {
  "kernelspec": {
   "display_name": "Julia 1.9.0",
   "language": "julia",
   "name": "julia-1.9"
  },
  "language_info": {
   "file_extension": ".jl",
   "mimetype": "application/julia",
   "name": "julia",
   "version": "1.9.0"
  }
 },
 "nbformat": 4,
 "nbformat_minor": 5
}
