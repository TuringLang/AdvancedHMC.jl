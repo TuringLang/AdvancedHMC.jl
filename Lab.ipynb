{
 "cells": [
  {
   "cell_type": "markdown",
   "id": "91129cb1",
   "metadata": {},
   "source": [
    "# No-glue-code"
   ]
  },
  {
   "cell_type": "markdown",
   "id": "97121235",
   "metadata": {},
   "source": [
    "## Model"
   ]
  },
  {
   "cell_type": "code",
   "execution_count": 1,
   "id": "baed58e3",
   "metadata": {},
   "outputs": [
    {
     "name": "stderr",
     "output_type": "stream",
     "text": [
      "\u001b[36m\u001b[1m[ \u001b[22m\u001b[39m\u001b[36m\u001b[1mInfo: \u001b[22m\u001b[39mPrecompiling Turing [fce5fe82-541a-59a6-adf8-730c64b5f9a0]\n"
     ]
    }
   ],
   "source": [
    "# The statistical inference frame-work we will use\n",
    "using Turing\n",
    "using AdvancedHMC\n",
    "using LogDensityProblems\n",
    "using LogDensityProblemsAD\n",
    "using DynamicPPL\n",
    "using ForwardDiff\n",
    "# Some data management libs.\n",
    "using CSV\n",
    "using NPZ\n",
    "using YAML\n",
    "#Plotting\n",
    "using Plots\n",
    "# Some Lin. Alg.\n",
    "using LinearAlgebra\n",
    "using Interpolations"
   ]
  },
  {
   "cell_type": "code",
   "execution_count": 2,
   "id": "a7d6f81c",
   "metadata": {},
   "outputs": [],
   "source": [
    "fs8_zs = [0.38, 0.51, 0.61, 1.48, 0.44, 0.6, 0.73, 0.6, 0.86, 0.067, 1.4]\n",
    "fs8_data = [0.49749, 0.457523, 0.436148, 0.462, 0.413, 0.39, 0.437, 0.55, 0.4, 0.423, 0.482]\n",
    "fs8_cov = [0.00203355 0.000811829 0.000264615 0.0 0.0 0.0 0.0 0.0 0.0 0.0 0.0;\n",
    "           0.000811829 0.00142289 0.000662824 0.0 0.0 0.0 0.0 0.0 0.0 0.0 0.0; \n",
    "           0.000264615 0.000662824 0.00118576 0.0 0.0 0.0 0.0 0.0 0.0 0.0 0.0;\n",
    "           0.0 0.0 0.0 0.002025 0.0 0.0 0.0 0.0 0.0 0.0 0.0;\n",
    "           0.0 0.0 0.0 0.0 0.0064 0.00257 0.0 0.0 0.0 0.0 0.0;\n",
    "           0.0 0.0 0.0 0.0 0.00257 0.003969 0.00254 0.0 0.0 0.0 0.0;\n",
    "           0.0 0.0 0.0 0.0 0.0 0.00254 0.005184 0.0 0.0 0.0 0.0;\n",
    "           0.0 0.0 0.0 0.0 0.0 0.0 0.0 0.0144 0.0 0.0 0.0;\n",
    "           0.0 0.0 0.0 0.0 0.0 0.0 0.0 0.0 0.0121 0.0 0.0; \n",
    "           0.0 0.0 0.0 0.0 0.0 0.0 0.0 0.0 0.0 0.003025 0.0;\n",
    "           0.0 0.0 0.0 0.0 0.0 0.0 0.0 0.0 0.0 0.0 0.013456000000000001];"
   ]
  },
  {
   "cell_type": "code",
   "execution_count": 3,
   "id": "1359a630",
   "metadata": {
    "code_folding": []
   },
   "outputs": [
    {
     "data": {
      "text/plain": [
       "make_fs8 (generic function with 1 method)"
      ]
     },
     "execution_count": 3,
     "metadata": {},
     "output_type": "execute_result"
    }
   ],
   "source": [
    "function make_fs8(Ωm, σ8; Ωr=8.24*10^-5)\n",
    "    # ODE solution for growth factor\n",
    "    x_Dz = LinRange(0, log(1+1100), 300)\n",
    "    dx_Dz = x_Dz[2]-x_Dz[1]\n",
    "    z_Dz = @.(exp(x_Dz) - 1)\n",
    "    a_Dz = @.(1/(1+z_Dz))\n",
    "    aa = reverse(a_Dz)\n",
    "    e =  @.(sqrt.(abs(Ωm)*(1+z_Dz)^3+Ωr*(1+z_Dz)^4+(1-Ωm-Ωr)))\n",
    "    ee = reverse(e)\n",
    "\n",
    "    dd = zeros(typeof(Ωm), 300)\n",
    "    yy = zeros(typeof(Ωm), 300)\n",
    "    dd[1] = aa[1]\n",
    "    yy[1] = aa[1]^3*ee[end]\n",
    "\n",
    "    for i in 1:(300-1)\n",
    "        A0 = -1.5 * Ωm / (aa[i]*ee[i])\n",
    "        B0 = -1. / (aa[i]^2*ee[i])\n",
    "        A1 = -1.5 * Ωm / (aa[i+1]*ee[i+1])\n",
    "        B1 = -1. / (aa[i+1]^2*ee[i+1])\n",
    "        yy[i+1] = (1+0.5*dx_Dz^2*A0*B0)*yy[i] + 0.5*(A0+A1)*dx_Dz*dd[i]\n",
    "        dd[i+1] = 0.5*(B0+B1)*dx_Dz*yy[i] + (1+0.5*dx_Dz^2*A0*B0)*dd[i]\n",
    "    end\n",
    "\n",
    "    y = reverse(yy)\n",
    "    d = reverse(dd)\n",
    "\n",
    "    Dzi = linear_interpolation(z_Dz, d./d[1], extrapolation_bc=Line())\n",
    "    fs8zi = linear_interpolation(z_Dz, -σ8 .* y./ (a_Dz.^2 .*e.*d[1]),\n",
    "                                 extrapolation_bc=Line())\n",
    "    return fs8zi\n",
    "end"
   ]
  },
  {
   "cell_type": "code",
   "execution_count": 4,
   "id": "8005e277",
   "metadata": {},
   "outputs": [],
   "source": [
    "@model function model(data; cov = fs8_cov) \n",
    "    # Define priors\n",
    "    #KiDS priors\n",
    "    Ωm ~ Uniform(0.1, 0.9)\n",
    "    σ8 ~ Uniform(0.4, 1.2)\n",
    "    fs8_itp = make_fs8(Ωm, σ8)\n",
    "    theory = fs8_itp(fs8_zs)\n",
    "    data ~ MvNormal(theory, cov)\n",
    "end;"
   ]
  },
  {
   "cell_type": "code",
   "execution_count": 5,
   "id": "1eebe796",
   "metadata": {},
   "outputs": [
    {
     "data": {
      "text/plain": [
       "Model{typeof(model), (:data, :cov), (:cov,), (), Tuple{Vector{Float64}, Matrix{Float64}}, Tuple{Matrix{Float64}}, DefaultContext}(model, (data = [0.49749, 0.457523, 0.436148, 0.462, 0.413, 0.39, 0.437, 0.55, 0.4, 0.423, 0.482], cov = [0.00203355 0.000811829 … 0.0 0.0; 0.000811829 0.00142289 … 0.0 0.0; … ; 0.0 0.0 … 0.003025 0.0; 0.0 0.0 … 0.0 0.013456000000000001]), (cov = [0.00203355 0.000811829 … 0.0 0.0; 0.000811829 0.00142289 … 0.0 0.0; … ; 0.0 0.0 … 0.003025 0.0; 0.0 0.0 … 0.0 0.013456000000000001],), DefaultContext())"
      ]
     },
     "execution_count": 5,
     "metadata": {},
     "output_type": "execute_result"
    }
   ],
   "source": [
    "stat_model = model(fs8_data)"
   ]
  },
  {
   "cell_type": "code",
   "execution_count": 6,
   "id": "96aa5549",
   "metadata": {},
   "outputs": [
    {
     "data": {
      "text/plain": [
       "Turing.Inference.NUTS{Turing.Essential.ForwardDiffAD{0}, (), DiagEuclideanMetric}(1000, 0.65, 10, 1000.0, 0.0)"
      ]
     },
     "execution_count": 6,
     "metadata": {},
     "output_type": "execute_result"
    }
   ],
   "source": [
    "adaptation = 1000\n",
    "TAP = 0.65\n",
    "alg = Turing.NUTS(adaptation, TAP)"
   ]
  },
  {
   "cell_type": "markdown",
   "id": "e1cb8e03",
   "metadata": {},
   "source": [
    "## Getting MAP and Hessian"
   ]
  },
  {
   "cell_type": "code",
   "execution_count": 7,
   "id": "56874cd3",
   "metadata": {},
   "outputs": [
    {
     "data": {
      "text/plain": [
       "maximum_a_posteriori (generic function with 1 method)"
      ]
     },
     "execution_count": 7,
     "metadata": {},
     "output_type": "execute_result"
    }
   ],
   "source": [
    "using Optim\n",
    "\n",
    "function Xi2(params; model=stat_model)\n",
    "    Ωm, σ8 = params\n",
    "    return loglikelihood(model, (Ωm=Ωm, σ8=σ8))\n",
    "end;\n",
    "    \n",
    "function maximum_a_posteriori(model, lower_bound, upper_bound)\n",
    "    start_value = (upper_bound .+ lower_bound) ./ 2 \n",
    "    opt = optimize((v)->-Xi2(v), lower_bound, upper_bound, start_value, Fminbox())\n",
    "    return Optim.minimizer(opt)\n",
    "end"
   ]
  },
  {
   "cell_type": "code",
   "execution_count": 8,
   "id": "f48c433c",
   "metadata": {},
   "outputs": [
    {
     "data": {
      "text/plain": [
       "2-element Vector{Float64}:\n",
       " 0.21256856797862178\n",
       " 0.8763540154601552"
      ]
     },
     "execution_count": 8,
     "metadata": {},
     "output_type": "execute_result"
    }
   ],
   "source": [
    "MAP = maximum_a_posteriori(stat_model, [0.2, 0.4], [0.6, 1.2])"
   ]
  },
  {
   "cell_type": "code",
   "execution_count": 9,
   "id": "01a11feb",
   "metadata": {},
   "outputs": [],
   "source": [
    "# Get the Hessian\n",
    "hess = ForwardDiff.hessian(Xi2, MAP)\n",
    "inv_hess = inv(hess);"
   ]
  },
  {
   "cell_type": "code",
   "execution_count": 10,
   "id": "9c6ca1e4",
   "metadata": {},
   "outputs": [
    {
     "data": {
      "text/plain": [
       "2×2 Matrix{Float64}:\n",
       "  0.00383693  -0.00328434\n",
       " -0.00328434   0.0042819"
      ]
     },
     "execution_count": 10,
     "metadata": {},
     "output_type": "execute_result"
    }
   ],
   "source": [
    "# Turn the Hessian into more of a covariance Matrix\n",
    "w, v = eigen(inv_hess)\n",
    "hess_cov = v * (diagm(abs.(w)) * v')\n",
    "hess_cov = tril(hess_cov) + triu(hess_cov', 1)\n",
    "hess_cov = Hermitian(hess_cov)\n",
    "hess_cov = convert(Matrix{Float64}, hess_cov)"
   ]
  },
  {
   "cell_type": "markdown",
   "id": "10dfa4cc",
   "metadata": {},
   "source": [
    "## Sampling"
   ]
  },
  {
   "cell_type": "code",
   "execution_count": 11,
   "id": "a79c2b35",
   "metadata": {},
   "outputs": [
    {
     "data": {
      "text/plain": [
       "Sampler{Turing.Inference.NUTS{Turing.Essential.ForwardDiffAD{0}, (), DiagEuclideanMetric}}(Turing.Inference.NUTS{Turing.Essential.ForwardDiffAD{0}, (), DiagEuclideanMetric}(1000, 0.65, 10, 1000.0, 0.0), DynamicPPL.Selector(0x000005c4fc804c8d, :default, false))"
      ]
     },
     "execution_count": 11,
     "metadata": {},
     "output_type": "execute_result"
    }
   ],
   "source": [
    "spl = Sampler(alg, stat_model)"
   ]
  },
  {
   "cell_type": "code",
   "execution_count": 12,
   "id": "087b18a8",
   "metadata": {},
   "outputs": [
    {
     "data": {
      "text/plain": [
       "TypedVarInfo{NamedTuple{(:Ωm, :σ8), Tuple{DynamicPPL.Metadata{Dict{VarName{:Ωm, Setfield.IdentityLens}, Int64}, Vector{Uniform{Float64}}, Vector{VarName{:Ωm, Setfield.IdentityLens}}, Vector{Float64}, Vector{Set{DynamicPPL.Selector}}}, DynamicPPL.Metadata{Dict{VarName{:σ8, Setfield.IdentityLens}, Int64}, Vector{Uniform{Float64}}, Vector{VarName{:σ8, Setfield.IdentityLens}}, Vector{Float64}, Vector{Set{DynamicPPL.Selector}}}}}, Float64}((Ωm = DynamicPPL.Metadata{Dict{VarName{:Ωm, Setfield.IdentityLens}, Int64}, Vector{Uniform{Float64}}, Vector{VarName{:Ωm, Setfield.IdentityLens}}, Vector{Float64}, Vector{Set{DynamicPPL.Selector}}}(Dict(Ωm => 1), [Ωm], UnitRange{Int64}[1:1], [0.24189169385043288], Uniform{Float64}[Uniform{Float64}(a=0.1, b=0.9)], Set{DynamicPPL.Selector}[Set()], [0], Dict{String, BitVector}(\"del\" => [0], \"trans\" => [0])), σ8 = DynamicPPL.Metadata{Dict{VarName{:σ8, Setfield.IdentityLens}, Int64}, Vector{Uniform{Float64}}, Vector{VarName{:σ8, Setfield.IdentityLens}}, Vector{Float64}, Vector{Set{DynamicPPL.Selector}}}(Dict(σ8 => 1), [σ8], UnitRange{Int64}[1:1], [1.072723393210094], Uniform{Float64}[Uniform{Float64}(a=0.4, b=1.2)], Set{DynamicPPL.Selector}[Set()], [0], Dict{String, BitVector}(\"del\" => [0], \"trans\" => [0]))), Base.RefValue{Float64}(0.6820075794802404), Base.RefValue{Int64}(1))"
      ]
     },
     "execution_count": 12,
     "metadata": {},
     "output_type": "execute_result"
    }
   ],
   "source": [
    "context = stat_model.context\n",
    "varinfo = DynamicPPL.VarInfo(stat_model, context)"
   ]
  },
  {
   "cell_type": "code",
   "execution_count": 14,
   "id": "82938e27",
   "metadata": {},
   "outputs": [
    {
     "data": {
      "text/plain": [
       "Hamiltonian(metric=DenseEuclideanMetric(diag=[0.003836928914103148, 0.00 ...]), kinetic=GaussianKinetic())"
      ]
     },
     "execution_count": 14,
     "metadata": {},
     "output_type": "execute_result"
    }
   ],
   "source": [
    "ℓ = LogDensityProblemsAD.ADgradient(DynamicPPL.LogDensityFunction(varinfo, stat_model, context))\n",
    "lπ = Base.Fix1(LogDensityProblems.logdensity, ℓ)\n",
    "∂lπ∂θ(x) = LogDensityProblems.logdensity_and_gradient(ℓ, x)\n",
    "metric = DenseEuclideanMetric(hess_cov)\n",
    "hamiltonian = AdvancedHMC.Hamiltonian(metric, lπ, ∂lπ∂θ)"
   ]
  },
  {
   "cell_type": "code",
   "execution_count": 15,
   "id": "9a554c93",
   "metadata": {},
   "outputs": [
    {
     "name": "stderr",
     "output_type": "stream",
     "text": [
      "\u001b[33m\u001b[1m┌ \u001b[22m\u001b[39m\u001b[33m\u001b[1mWarning: \u001b[22m\u001b[39mProgressMeter by default refresh meters with additional information in IJulia via `IJulia.clear_output`, which clears all outputs in the cell. \n",
      "\u001b[33m\u001b[1m│ \u001b[22m\u001b[39m - To prevent this behaviour, do `ProgressMeter.ijulia_behavior(:append)`. \n",
      "\u001b[33m\u001b[1m│ \u001b[22m\u001b[39m - To disable this warning message, do `ProgressMeter.ijulia_behavior(:clear)`.\n",
      "\u001b[33m\u001b[1m└ \u001b[22m\u001b[39m\u001b[90m@ ProgressMeter ~/.julia/packages/ProgressMeter/sN2xr/src/ProgressMeter.jl:618\u001b[39m\n",
      "\u001b[32mSampling 100%|███████████████████████████████| Time: 0:00:01\u001b[39m\n",
      "\u001b[34m  iterations:                    2000\u001b[39m\n",
      "\u001b[34m  n_steps:                       3\u001b[39m\n",
      "\u001b[34m  is_accept:                     true\u001b[39m\n",
      "\u001b[34m  acceptance_rate:               1.0\u001b[39m\n",
      "\u001b[34m  log_density:                   17.729748960723036\u001b[39m\n",
      "\u001b[34m  hamiltonian_energy:            -17.289392697793396\u001b[39m\n",
      "\u001b[34m  hamiltonian_energy_error:      -0.051060919913108904\u001b[39m\n",
      "\u001b[34m  max_hamiltonian_energy_error:  -0.06881331813539404\u001b[39m\n",
      "\u001b[34m  tree_depth:                    2\u001b[39m\n",
      "\u001b[34m  numerical_error:               false\u001b[39m\n",
      "\u001b[34m  step_size:                     0.6487150772760925\u001b[39m\n",
      "\u001b[34m  nom_step_size:                 0.6487150772760925\u001b[39m\n",
      "\u001b[34m  is_adapt:                      false\u001b[39m\n",
      "\u001b[34m  mass_matrix:                   DenseEuclideanMetric(diag=[0.004834262741463085, 0.00 ...])\u001b[39m\n",
      "\u001b[36m\u001b[1m┌ \u001b[22m\u001b[39m\u001b[36m\u001b[1mInfo: \u001b[22m\u001b[39mFinished 2000 sampling steps for 1 chains in 1.989433731 (s)\n",
      "\u001b[36m\u001b[1m│ \u001b[22m\u001b[39m  h = Hamiltonian(metric=DenseEuclideanMetric(diag=[0.004834262741463085, 0.00 ...]), kinetic=GaussianKinetic())\n",
      "\u001b[36m\u001b[1m│ \u001b[22m\u001b[39m  κ = HMCKernel{AdvancedHMC.FullMomentumRefreshment, Trajectory{MultinomialTS, Leapfrog{Float64}, GeneralisedNoUTurn{Float64}}}(AdvancedHMC.FullMomentumRefreshment(), Trajectory{MultinomialTS}(integrator=Leapfrog(ϵ=0.649), tc=GeneralisedNoUTurn{Float64}(10, 1000.0)))\n",
      "\u001b[36m\u001b[1m│ \u001b[22m\u001b[39m  EBFMI_est = 1.1967632126213832\n",
      "\u001b[36m\u001b[1m└ \u001b[22m\u001b[39m  average_acceptance_rate = 0.8302521245860884\n"
     ]
    },
    {
     "data": {
      "text/plain": [
       "([[0.24217072449163063, 0.8815235005982114], [0.24217072449163063, 0.8815235005982114], [0.1964040900666372, 0.8682642940757254], [0.23220726706788417, 0.8594888321891413], [0.23220726706788417, 0.8594888321891413], [0.30600748508356646, 0.8187262839439398], [0.24638113811106768, 0.8264874921491668], [0.17930813221283726, 0.9012387514591719], [0.257747112897827, 0.8659528543802886], [0.2219106258796527, 0.872052499881699]  …  [0.2155585668611011, 0.9387916846186595], [0.30467165855486844, 0.8016599731719438], [0.19238795508040302, 0.8454240746568259], [0.23402240097427798, 0.7968218235978053], [0.2694905067075098, 0.9217373336532368], [0.1882021323995838, 0.8599530394625028], [0.23797097860528293, 0.8813057277500905], [0.2943973036254594, 0.8006200200955638], [0.15372119929153283, 0.9463410337224535], [0.2267280941717041, 0.8903478326313119]], NamedTuple[(n_steps = 7, is_accept = true, acceptance_rate = 0.4004465309788565, log_density = 17.597878418351858, hamiltonian_energy = -17.584306152172577, hamiltonian_energy_error = 0.22942376141385168, max_hamiltonian_energy_error = Inf, tree_depth = 2, numerical_error = true, step_size = 1.6, nom_step_size = 1.6, is_adapt = true), (n_steps = 1, is_accept = true, acceptance_rate = 0.0, log_density = 17.597878418351858, hamiltonian_energy = -16.558191490290692, hamiltonian_energy_error = 0.0, max_hamiltonian_energy_error = Inf, tree_depth = 0, numerical_error = true, step_size = 7.737880937824665, nom_step_size = 7.737880937824665, is_adapt = true), (n_steps = 3, is_accept = true, acceptance_rate = 1.0, log_density = 17.774639366407868, hamiltonian_energy = -17.52695167820066, hamiltonian_energy_error = -0.10403474654004086, max_hamiltonian_energy_error = -0.10403474654004086, tree_depth = 2, numerical_error = false, step_size = 0.9466877942295883, nom_step_size = 0.9466877942295883, is_adapt = true), (n_steps = 3, is_accept = true, acceptance_rate = 0.9565585456951909, log_density = 17.93534198384408, hamiltonian_energy = -17.561725761293022, hamiltonian_energy_error = -0.05821247679514485, max_hamiltonian_energy_error = 0.13963496778836415, tree_depth = 2, numerical_error = false, step_size = 1.1152571881739461, nom_step_size = 1.1152571881739461, is_adapt = true), (n_steps = 1, is_accept = true, acceptance_rate = 0.0, log_density = 17.93534198384408, hamiltonian_energy = -16.9360350855726, hamiltonian_energy_error = 0.0, max_hamiltonian_energy_error = Inf, tree_depth = 0, numerical_error = true, step_size = 1.4391199752169883, nom_step_size = 1.4391199752169883, is_adapt = true), (n_steps = 23, is_accept = true, acceptance_rate = 0.998307688034895, log_density = 17.18288847025175, hamiltonian_energy = -16.79486555363845, hamiltonian_energy_error = 0.002132761397088956, max_hamiltonian_energy_error = 0.0062659876693764716, tree_depth = 4, numerical_error = false, step_size = 0.11932842364303432, nom_step_size = 0.11932842364303432, is_adapt = true), (n_steps = 23, is_accept = true, acceptance_rate = 0.9982457266999285, log_density = 17.64510465204781, hamiltonian_energy = -16.511962660997323, hamiltonian_energy_error = -0.0017304548998566815, max_hamiltonian_energy_error = 0.01389785976084923, tree_depth = 4, numerical_error = false, step_size = 0.1918877941548512, nom_step_size = 0.1918877941548512, is_adapt = true), (n_steps = 7, is_accept = true, acceptance_rate = 0.9985622910079208, log_density = 17.79497499896697, hamiltonian_energy = -17.36456358503488, hamiltonian_energy_error = -0.002316787497289141, max_hamiltonian_energy_error = -0.005054362624175468, tree_depth = 3, numerical_error = false, step_size = 0.33050096627467557, nom_step_size = 0.33050096627467557, is_adapt = true), (n_steps = 7, is_accept = true, acceptance_rate = 0.9434082460228754, log_density = 17.567144109524513, hamiltonian_energy = -16.750213612559964, hamiltonian_energy_error = 0.01857002695859933, max_hamiltonian_energy_error = 0.14346458501904635, tree_depth = 3, numerical_error = false, step_size = 0.5941770457737136, nom_step_size = 0.5941770457737136, is_adapt = true), (n_steps = 3, is_accept = true, acceptance_rate = 0.9690852370828736, log_density = 17.966950482076246, hamiltonian_energy = -17.119810850568182, hamiltonian_energy_error = -0.07318864070505882, max_hamiltonian_energy_error = -0.07318864070505882, tree_depth = 2, numerical_error = false, step_size = 0.9197665432507248, nom_step_size = 0.9197665432507248, is_adapt = true)  …  (n_steps = 3, is_accept = true, acceptance_rate = 0.9213473146458767, log_density = 16.537272691565338, hamiltonian_energy = -16.323713789575883, hamiltonian_energy_error = 0.12712056714812547, max_hamiltonian_energy_error = 0.12712056714812547, tree_depth = 2, numerical_error = false, step_size = 0.6487150772760925, nom_step_size = 0.6487150772760925, is_adapt = false), (n_steps = 5, is_accept = true, acceptance_rate = 0.8, log_density = 17.11997628243147, hamiltonian_energy = -15.664486235192319, hamiltonian_energy_error = -0.2122168015045247, max_hamiltonian_energy_error = Inf, tree_depth = 2, numerical_error = true, step_size = 0.6487150772760925, nom_step_size = 0.6487150772760925, is_adapt = false), (n_steps = 7, is_accept = true, acceptance_rate = 0.5981300844469599, log_density = 17.123264211937048, hamiltonian_energy = -15.016766660150758, hamiltonian_energy_error = -0.08443509535509008, max_hamiltonian_energy_error = 1.0603027078241922, tree_depth = 3, numerical_error = false, step_size = 0.6487150772760925, nom_step_size = 0.6487150772760925, is_adapt = false), (n_steps = 3, is_accept = true, acceptance_rate = 0.961423493148753, log_density = 16.547919743539897, hamiltonian_energy = -16.225937932111357, hamiltonian_energy_error = 0.043193377590835524, max_hamiltonian_energy_error = 0.07629340917987903, tree_depth = 2, numerical_error = false, step_size = 0.6487150772760925, nom_step_size = 0.6487150772760925, is_adapt = false), (n_steps = 5, is_accept = true, acceptance_rate = 0.914515380518722, log_density = 14.881304876196909, hamiltonian_energy = -14.644696000519271, hamiltonian_energy_error = 0.18659482952747553, max_hamiltonian_energy_error = 0.18659482952747553, tree_depth = 2, numerical_error = false, step_size = 0.6487150772760925, nom_step_size = 0.6487150772760925, is_adapt = false), (n_steps = 3, is_accept = true, acceptance_rate = 0.9724539381716123, log_density = 17.397459333584454, hamiltonian_energy = -14.246564080690828, hamiltonian_energy_error = -0.3756158587449079, max_hamiltonian_energy_error = -0.3756158587449079, tree_depth = 2, numerical_error = false, step_size = 0.6487150772760925, nom_step_size = 0.6487150772760925, is_adapt = false), (n_steps = 3, is_accept = true, acceptance_rate = 0.9992717301423056, log_density = 17.685678023816294, hamiltonian_energy = -17.293182880161233, hamiltonian_energy_error = -0.018389696777354914, max_hamiltonian_energy_error = -0.07336717041285468, tree_depth = 2, numerical_error = false, step_size = 0.6487150772760925, nom_step_size = 0.6487150772760925, is_adapt = false), (n_steps = 3, is_accept = true, acceptance_rate = 0.9799764236218241, log_density = 17.175985358716144, hamiltonian_energy = -16.98513606871984, hamiltonian_energy_error = 0.030502143261902148, max_hamiltonian_energy_error = 0.030502143261902148, tree_depth = 2, numerical_error = false, step_size = 0.6487150772760925, nom_step_size = 0.6487150772760925, is_adapt = false), (n_steps = 7, is_accept = true, acceptance_rate = 0.6627086059638556, log_density = 17.36153954676204, hamiltonian_energy = -16.40239257594932, hamiltonian_energy_error = -0.10928158380060538, max_hamiltonian_energy_error = 0.7818258659566535, tree_depth = 3, numerical_error = false, step_size = 0.6487150772760925, nom_step_size = 0.6487150772760925, is_adapt = false), (n_steps = 3, is_accept = true, acceptance_rate = 1.0, log_density = 17.729748960723036, hamiltonian_energy = -17.289392697793396, hamiltonian_energy_error = -0.051060919913108904, max_hamiltonian_energy_error = -0.06881331813539404, tree_depth = 2, numerical_error = false, step_size = 0.6487150772760925, nom_step_size = 0.6487150772760925, is_adapt = false)])"
      ]
     },
     "execution_count": 15,
     "metadata": {},
     "output_type": "execute_result"
    }
   ],
   "source": [
    "# Set the number of samples to draw and warmup iterations\n",
    "n_samples, n_adapts = 2_000, 1_000\n",
    "initial_ϵ = find_good_stepsize(hamiltonian, MAP)\n",
    "integrator = Leapfrog(initial_ϵ)\n",
    "\n",
    "# Define an HMC sampler, with the following components\n",
    "#   - multinomial sampling scheme,\n",
    "#   - generalised No-U-Turn criteria, and\n",
    "#   - windowed adaption for step-size and diagonal mass matrix\n",
    "proposal = AdvancedHMC.NUTS{MultinomialTS, GeneralisedNoUTurn}(integrator)\n",
    "adaptor = StanHMCAdaptor(MassMatrixAdaptor(metric), StepSizeAdaptor(0.8, integrator))\n",
    "\n",
    "# Run the sampler to draw samples from the specified Gaussian, where\n",
    "#   - `samples` will store the samples\n",
    "#   - `stats` will store diagnostic statistics for each sample\n",
    "samples, stats = sample(hamiltonian, proposal, MAP, n_samples, adaptor, n_adapts; progress=true)"
   ]
  },
  {
   "cell_type": "code",
   "execution_count": null,
   "id": "ed71d871",
   "metadata": {},
   "outputs": [],
   "source": []
  },
  {
   "cell_type": "code",
   "execution_count": null,
   "id": "2a803eb8",
   "metadata": {},
   "outputs": [],
   "source": []
  }
 ],
 "metadata": {
  "kernelspec": {
   "display_name": "Julia 1.9.0-beta3",
   "language": "julia",
   "name": "julia-1.9"
  },
  "language_info": {
   "file_extension": ".jl",
   "mimetype": "application/julia",
   "name": "julia",
   "version": "1.9.0"
  }
 },
 "nbformat": 4,
 "nbformat_minor": 5
}
