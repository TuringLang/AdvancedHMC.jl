{
 "cells": [
  {
   "cell_type": "markdown",
   "id": "91129cb1",
   "metadata": {},
   "source": [
    "# No-glue-code"
   ]
  },
  {
   "cell_type": "code",
   "execution_count": 1,
   "id": "e71c6645",
   "metadata": {},
   "outputs": [
    {
     "name": "stderr",
     "output_type": "stream",
     "text": [
      "\u001b[32m\u001b[1m  Activating\u001b[22m\u001b[39m project at `~/Cambdrige`\n"
     ]
    }
   ],
   "source": [
    "using Pkg\n",
    "Pkg.activate(\"..\")"
   ]
  },
  {
   "cell_type": "code",
   "execution_count": 2,
   "id": "baed58e3",
   "metadata": {},
   "outputs": [
    {
     "name": "stderr",
     "output_type": "stream",
     "text": [
      "\u001b[36m\u001b[1m[ \u001b[22m\u001b[39m\u001b[36m\u001b[1mInfo: \u001b[22m\u001b[39mPrecompiling AdvancedHMC [0bf59076-c3b1-5ca4-86bd-e02cd72cde3d]\n",
      "\u001b[36m\u001b[1m[ \u001b[22m\u001b[39m\u001b[36m\u001b[1mInfo: \u001b[22m\u001b[39mPrecompiling Turing [fce5fe82-541a-59a6-adf8-730c64b5f9a0]\n"
     ]
    }
   ],
   "source": [
    "# The statistical inference frame-work we will use\n",
    "using LogDensityProblems\n",
    "using LogDensityProblemsAD\n",
    "using DynamicPPL\n",
    "using ForwardDiff\n",
    "using Random\n",
    "using LinearAlgebra\n",
    "\n",
    "#Plotting\n",
    "using PyPlot\n",
    "\n",
    "#What we are tweaking\n",
    "using Revise\n",
    "using AdvancedHMC\n",
    "using Turing"
   ]
  },
  {
   "cell_type": "markdown",
   "id": "3d76390f",
   "metadata": {},
   "source": [
    "## Model"
   ]
  },
  {
   "cell_type": "code",
   "execution_count": 3,
   "id": "a7d6f81c",
   "metadata": {},
   "outputs": [
    {
     "data": {
      "text/plain": [
       "funnel (generic function with 2 methods)"
      ]
     },
     "execution_count": 3,
     "metadata": {},
     "output_type": "execute_result"
    }
   ],
   "source": [
    "# Just a simple Neal Funnel\n",
    "d = 21\n",
    "@model function funnel()\n",
    "    θ ~ Normal(0, 3)\n",
    "    z ~ MvNormal(zeros(d-1), exp(θ)*I)\n",
    "    x ~ MvNormal(z, I)\n",
    "end"
   ]
  },
  {
   "cell_type": "code",
   "execution_count": 4,
   "id": "5f408f2b",
   "metadata": {},
   "outputs": [
    {
     "data": {
      "text/plain": [
       "Model{typeof(funnel), (), (), (), Tuple{}, Tuple{}, ConditionContext{NamedTuple{(:x,), Tuple{Vector{Float64}}}, DefaultContext}}(funnel, NamedTuple(), NamedTuple(), ConditionContext((x = [1.2142074831535152, 1.23371919965455, -0.8480146960461767, 0.1600994648479841, 1.9180385508479283, -3.401523464506408, -0.0957684186471088, 0.6734622629464286, -3.2749467689509633, -1.6760091758453226, 1.9567202902549736, 0.1136169088905351, 0.11117896909388916, -0.5373922347882832, -0.12436857036298687, -1.2901071061088532, 1.702584517514787, -0.44460133117954226, 1.0818722439221686, 1.2208011493237483],), DefaultContext()))"
      ]
     },
     "execution_count": 4,
     "metadata": {},
     "output_type": "execute_result"
    }
   ],
   "source": [
    "Random.seed!(1)\n",
    "(;x) = rand(funnel() | (θ=0,))\n",
    "funnel_model = funnel() | (;x)"
   ]
  },
  {
   "cell_type": "markdown",
   "id": "10dfa4cc",
   "metadata": {},
   "source": [
    "## Turing interface"
   ]
  },
  {
   "cell_type": "code",
   "execution_count": 5,
   "id": "be8a75dd",
   "metadata": {},
   "outputs": [
    {
     "data": {
      "text/plain": [
       "Sampler"
      ]
     },
     "execution_count": 5,
     "metadata": {},
     "output_type": "execute_result"
    }
   ],
   "source": [
    "struct Sampler\n",
    "    metric\n",
    "    integrator\n",
    "    adaptor\n",
    "    proposal\n",
    "end\n",
    "\n",
    "Sampler(ϵ::Number, TAP::Number) = begin\n",
    "    metric =  DiagEuclideanMetric(d)\n",
    "    integrator = Leapfrog(ϵ)\n",
    "    proposal = AdvancedHMC.NUTS{MultinomialTS, GeneralisedNoUTurn}(integrator)\n",
    "    adaptor = StanHMCAdaptor(MassMatrixAdaptor(metric), StepSizeAdaptor(TAP, integrator))\n",
    "    \n",
    "    Sampler(\n",
    "        metric,\n",
    "        integrator,\n",
    "        adaptor,\n",
    "        proposal)\n",
    "end"
   ]
  },
  {
   "cell_type": "code",
   "execution_count": 6,
   "id": "baaf795f",
   "metadata": {},
   "outputs": [
    {
     "data": {
      "text/plain": [
       "Sampler(DiagEuclideanMetric([1.0, 1.0, 1.0, 1.0, 1.0, 1 ...]), Leapfrog(ϵ=0.1), StanHMCAdaptor(\n",
       "    pc=WelfordVar,\n",
       "    ssa=NesterovDualAveraging(γ=0.05, t_0=10.0, κ=0.75, δ=0.95, state.ϵ=0.1),\n",
       "    init_buffer=75, term_buffer=50, window_size=25,\n",
       "    state=window(0, 0), window_splits()\n",
       "), HMCKernel{AdvancedHMC.FullMomentumRefreshment, Trajectory{MultinomialTS, Leapfrog{Float64}, GeneralisedNoUTurn{Float64}}}(AdvancedHMC.FullMomentumRefreshment(), Trajectory{MultinomialTS}(integrator=Leapfrog(ϵ=0.1), tc=GeneralisedNoUTurn{Float64}(10, 1000.0))))"
      ]
     },
     "execution_count": 6,
     "metadata": {},
     "output_type": "execute_result"
    }
   ],
   "source": [
    "initial_θ = randn(21)\n",
    "initial_ϵ = 0.1 #find_good_stepsize(hamiltonian, initial_θ)\n",
    "spl = Sampler(initial_ϵ, 0.95)"
   ]
  },
  {
   "cell_type": "markdown",
   "id": "3ac319cb",
   "metadata": {},
   "source": [
    "## Sampling"
   ]
  },
  {
   "cell_type": "code",
   "execution_count": 7,
   "id": "c516fd54",
   "metadata": {},
   "outputs": [
    {
     "name": "stderr",
     "output_type": "stream",
     "text": [
      "\u001b[33m\u001b[1m┌ \u001b[22m\u001b[39m\u001b[33m\u001b[1mWarning: \u001b[22m\u001b[39mProgressMeter by default refresh meters with additional information in IJulia via `IJulia.clear_output`, which clears all outputs in the cell. \n",
      "\u001b[33m\u001b[1m│ \u001b[22m\u001b[39m - To prevent this behaviour, do `ProgressMeter.ijulia_behavior(:append)`. \n",
      "\u001b[33m\u001b[1m│ \u001b[22m\u001b[39m - To disable this warning message, do `ProgressMeter.ijulia_behavior(:clear)`.\n",
      "\u001b[33m\u001b[1m└ \u001b[22m\u001b[39m\u001b[90m@ ProgressMeter ~/.julia/packages/ProgressMeter/sN2xr/src/ProgressMeter.jl:618\u001b[39m\n",
      "\u001b[32mSampling 100%|███████████████████████████████| Time: 0:00:04\u001b[39m\n",
      "\u001b[34m  iterations:                                   10000\u001b[39m\n",
      "\u001b[34m  ratio_divergent_transitions:                  0.0\u001b[39m\n",
      "\u001b[34m  ratio_divergent_transitions_during_adaption:  0.0\u001b[39m\n",
      "\u001b[34m  n_steps:                                      31\u001b[39m\n",
      "\u001b[34m  is_accept:                                    true\u001b[39m\n",
      "\u001b[34m  acceptance_rate:                              0.9977556019563564\u001b[39m\n",
      "\u001b[34m  log_density:                                  -55.59669800049129\u001b[39m\n",
      "\u001b[34m  hamiltonian_energy:                           76.99245786344844\u001b[39m\n",
      "\u001b[34m  hamiltonian_energy_error:                     -0.037907257288452456\u001b[39m\n",
      "\u001b[34m  max_hamiltonian_energy_error:                 -0.08384075689365034\u001b[39m\n",
      "\u001b[34m  tree_depth:                                   4\u001b[39m\n",
      "\u001b[34m  numerical_error:                              false\u001b[39m\n",
      "\u001b[34m  step_size:                                    0.11952907411701275\u001b[39m\n",
      "\u001b[34m  nom_step_size:                                0.11952907411701275\u001b[39m\n",
      "\u001b[34m  is_adapt:                                     false\u001b[39m\n",
      "\u001b[34m  mass_matrix:                                  DiagEuclideanMetric([1.8273790343807308, 0.4706 ...])\u001b[39m\n",
      "\u001b[36m\u001b[1m┌ \u001b[22m\u001b[39m\u001b[36m\u001b[1mInfo: \u001b[22m\u001b[39mFinished 10000 sampling steps for 1 chains in 4.519542573 (s)\n",
      "\u001b[36m\u001b[1m│ \u001b[22m\u001b[39m  h = Hamiltonian(metric=DiagEuclideanMetric([1.8273790343807308, 0.4706 ...]), kinetic=GaussianKinetic())\n",
      "\u001b[36m\u001b[1m│ \u001b[22m\u001b[39m  κ = HMCKernel{AdvancedHMC.FullMomentumRefreshment, Trajectory{MultinomialTS, Leapfrog{Float64}, GeneralisedNoUTurn{Float64}}}(AdvancedHMC.FullMomentumRefreshment(), Trajectory{MultinomialTS}(integrator=Leapfrog(ϵ=0.12), tc=GeneralisedNoUTurn{Float64}(10, 1000.0)))\n",
      "\u001b[36m\u001b[1m│ \u001b[22m\u001b[39m  EBFMI_est = 0.5110910368914205\n",
      "\u001b[36m\u001b[1m└ \u001b[22m\u001b[39m  average_acceptance_rate = 0.9774544772681191\n"
     ]
    }
   ],
   "source": [
    "n_samples, n_adapts = 10_000, 1_000\n",
    "samples, stats = sample(funnel_model, 0.1, 0.95, n_samples, n_adapts; initial_θ=initial_θ);"
   ]
  },
  {
   "cell_type": "markdown",
   "id": "7839a767",
   "metadata": {},
   "source": [
    "## Plotting"
   ]
  },
  {
   "cell_type": "code",
   "execution_count": 8,
   "id": "2a803eb8",
   "metadata": {},
   "outputs": [],
   "source": [
    "theta_mchmc = [sample[1] for sample in samples]\n",
    "x10_mchmc = [sample[10+1] for sample in samples];"
   ]
  },
  {
   "cell_type": "code",
   "execution_count": 9,
   "id": "00f17868",
   "metadata": {},
   "outputs": [
    {
     "data": {
      "image/png": "[encoded data removed]",
      "text/plain": [
       "Figure(PyObject <Figure size 800x800 with 3 Axes>)"
      ]
     },
     "metadata": {},
     "output_type": "display_data"
    }
   ],
   "source": [
    "fig, axis = plt.subplots(2, 2, figsize=(8,8))\n",
    "fig.suptitle(\"Neal's Funnel\", fontsize=16)\n",
    "\n",
    "fig.delaxes(axis[1,2])\n",
    "fig.subplots_adjust(hspace=0)\n",
    "fig.subplots_adjust(wspace=0)\n",
    "\n",
    "axis[1,1].hist(x10_mchmc, bins=100, range=[-6,2])\n",
    "axis[1,1].set_yticks([])\n",
    "\n",
    "axis[2,2].hist(theta_mchmc, bins=100, orientation=\"horizontal\", range=[-4, 2])\n",
    "axis[2,2].set_xticks([])\n",
    "axis[2,2].set_yticks([])\n",
    "\n",
    "axis[2,1].hist2d(x10_mchmc, theta_mchmc, bins=100, range=[[-6,2],[-4, 2]])\n",
    "axis[2,1].set_xlabel(\"x10\")\n",
    "axis[2,1].set_ylabel(\"theta\");"
   ]
  },
  {
   "cell_type": "markdown",
   "id": "54ded796",
   "metadata": {},
   "source": [
    "## Sampling w AbstractMCMC"
   ]
  },
  {
   "cell_type": "code",
   "execution_count": 15,
   "id": "9da0a548",
   "metadata": {},
   "outputs": [
    {
     "data": {
      "text/plain": [
       "AdvancedHMC.HMCSamplerSettings(0.1, 0.95)"
      ]
     },
     "execution_count": 15,
     "metadata": {},
     "output_type": "execute_result"
    }
   ],
   "source": [
    "initial_ϵ=0.1 \n",
    "TAP=0.95\n",
    "ss = AdvancedHMC.HMCSamplerSettings(initial_ϵ, TAP)"
   ]
  },
  {
   "cell_type": "code",
   "execution_count": 16,
   "id": "b1241d99",
   "metadata": {},
   "outputs": [
    {
     "ename": "LoadError",
     "evalue": "MethodError: no method matching sample(::Model{typeof(funnel), (), (), (), Tuple{}, Tuple{}, ConditionContext{NamedTuple{(:x,), Tuple{Vector{Float64}}}, DefaultContext}}, ::AdvancedHMC.HMCSamplerSettings, ::Int64)\n\n\u001b[0mClosest candidates are:\n\u001b[0m  sample(::Model, \u001b[91m::Number\u001b[39m, ::Number, \u001b[91m::Int64\u001b[39m, \u001b[91m::Int64\u001b[39m; initial_θ, progress, kwargs...)\n\u001b[0m\u001b[90m   @\u001b[39m \u001b[33mAdvancedHMC\u001b[39m \u001b[90m~/Cambdrige/AdvancedHMC.jl/src/\u001b[39m\u001b[90m\u001b[4msampler.jl:177\u001b[24m\u001b[39m\n\u001b[0m  sample(\u001b[91m::AbstractMCMC.LogDensityModel\u001b[39m, ::AdvancedHMC.HMCSamplerSettings, ::Integer; progress, verbose, callback, kwargs...)\n\u001b[0m\u001b[90m   @\u001b[39m \u001b[33mAdvancedHMC\u001b[39m \u001b[90m~/Cambdrige/AdvancedHMC.jl/src/\u001b[39m\u001b[90m\u001b[4mabstractmcmc.jl:64\u001b[24m\u001b[39m\n\u001b[0m  sample(::Any, \u001b[91m::AbstractMCMC.AbstractSampler\u001b[39m, ::Any; kwargs...)\n\u001b[0m\u001b[90m   @\u001b[39m \u001b[36mAbstractMCMC\u001b[39m \u001b[90m~/.julia/packages/AbstractMCMC/bE6VB/src/\u001b[39m\u001b[90m\u001b[4msample.jl:15\u001b[24m\u001b[39m\n\u001b[0m  ...\n",
     "output_type": "error",
     "traceback": [
      "MethodError: no method matching sample(::Model{typeof(funnel), (), (), (), Tuple{}, Tuple{}, ConditionContext{NamedTuple{(:x,), Tuple{Vector{Float64}}}, DefaultContext}}, ::AdvancedHMC.HMCSamplerSettings, ::Int64)\n\n\u001b[0mClosest candidates are:\n\u001b[0m  sample(::Model, \u001b[91m::Number\u001b[39m, ::Number, \u001b[91m::Int64\u001b[39m, \u001b[91m::Int64\u001b[39m; initial_θ, progress, kwargs...)\n\u001b[0m\u001b[90m   @\u001b[39m \u001b[33mAdvancedHMC\u001b[39m \u001b[90m~/Cambdrige/AdvancedHMC.jl/src/\u001b[39m\u001b[90m\u001b[4msampler.jl:177\u001b[24m\u001b[39m\n\u001b[0m  sample(\u001b[91m::AbstractMCMC.LogDensityModel\u001b[39m, ::AdvancedHMC.HMCSamplerSettings, ::Integer; progress, verbose, callback, kwargs...)\n\u001b[0m\u001b[90m   @\u001b[39m \u001b[33mAdvancedHMC\u001b[39m \u001b[90m~/Cambdrige/AdvancedHMC.jl/src/\u001b[39m\u001b[90m\u001b[4mabstractmcmc.jl:64\u001b[24m\u001b[39m\n\u001b[0m  sample(::Any, \u001b[91m::AbstractMCMC.AbstractSampler\u001b[39m, ::Any; kwargs...)\n\u001b[0m\u001b[90m   @\u001b[39m \u001b[36mAbstractMCMC\u001b[39m \u001b[90m~/.julia/packages/AbstractMCMC/bE6VB/src/\u001b[39m\u001b[90m\u001b[4msample.jl:15\u001b[24m\u001b[39m\n\u001b[0m  ...\n",
      "",
      "Stacktrace:",
      " [1] top-level scope",
      "   @ In[16]:1"
     ]
    }
   ],
   "source": [
    "sample(funnel_model, ss, 1000)"
   ]
  },
  {
   "cell_type": "markdown",
   "id": "b3a670ea",
   "metadata": {},
   "source": [
    "## Sampling w Turing"
   ]
  },
  {
   "cell_type": "code",
   "execution_count": 12,
   "id": "f51cebea",
   "metadata": {},
   "outputs": [],
   "source": [
    "using Turing"
   ]
  },
  {
   "cell_type": "code",
   "execution_count": 13,
   "id": "28d1259b",
   "metadata": {},
   "outputs": [
    {
     "data": {
      "text/plain": [
       "Turing.Inference.NUTS{Turing.Essential.ForwardDiffAD{0}, (), DiagEuclideanMetric}(300, 0.95, 10, 1000.0, 0.0)"
      ]
     },
     "execution_count": 13,
     "metadata": {},
     "output_type": "execute_result"
    }
   ],
   "source": [
    "TAP = 0.95\n",
    "nadapts = 300\n",
    "spl = Turing.NUTS(nadapts, TAP)"
   ]
  },
  {
   "cell_type": "code",
   "execution_count": 14,
   "id": "74b110a2",
   "metadata": {},
   "outputs": [
    {
     "name": "stderr",
     "output_type": "stream",
     "text": [
      "\u001b[36m\u001b[1m┌ \u001b[22m\u001b[39m\u001b[36m\u001b[1mInfo: \u001b[22m\u001b[39mFound initial step size\n",
      "\u001b[36m\u001b[1m└ \u001b[22m\u001b[39m  ϵ = 1.6\n",
      "\u001b[32mSampling: 100%|█████████████████████████████████████████| Time: 0:00:11\u001b[39m\n"
     ]
    },
    {
     "data": {
      "text/plain": [
       "Chains MCMC chain (50000×33×1 Array{Float64, 3}):\n",
       "\n",
       "Iterations        = 301:1:50300\n",
       "Number of chains  = 1\n",
       "Samples per chain = 50000\n",
       "Wall duration     = 14.4 seconds\n",
       "Compute duration  = 14.4 seconds\n",
       "parameters        = θ, z[1], z[2], z[3], z[4], z[5], z[6], z[7], z[8], z[9], z[10], z[11], z[12], z[13], z[14], z[15], z[16], z[17], z[18], z[19], z[20]\n",
       "internals         = lp, n_steps, is_accept, acceptance_rate, log_density, hamiltonian_energy, hamiltonian_energy_error, max_hamiltonian_energy_error, tree_depth, numerical_error, step_size, nom_step_size\n",
       "\n",
       "Summary Statistics\n",
       " \u001b[1m parameters \u001b[0m \u001b[1m    mean \u001b[0m \u001b[1m     std \u001b[0m \u001b[1m    mcse \u001b[0m \u001b[1m   ess_bulk \u001b[0m \u001b[1m   ess_tail \u001b[0m \u001b[1m    rhat\u001b[0m ⋯\n",
       " \u001b[90m     Symbol \u001b[0m \u001b[90m Float64 \u001b[0m \u001b[90m Float64 \u001b[0m \u001b[90m Float64 \u001b[0m \u001b[90m    Float64 \u001b[0m \u001b[90m    Float64 \u001b[0m \u001b[90m Float64\u001b[0m ⋯\n",
       "\n",
       "           θ   -0.0346    0.7783    0.0140    5113.3278    2765.1043    1.0000 ⋯\n",
       "        z[1]    0.6049    0.7333    0.0040   34483.1850   32515.8682    1.0000 ⋯\n",
       "        z[2]    0.6175    0.7356    0.0035   46810.9217   33380.6290    1.0001 ⋯\n",
       "        z[3]   -0.4257    0.7190    0.0031   55075.7998   33635.4185    1.0002 ⋯\n",
       "        z[4]    0.0777    0.7064    0.0026   76726.4894   34015.4579    1.0000 ⋯\n",
       "        z[5]    0.9556    0.7708    0.0052   21455.3400   34336.0032    1.0000 ⋯\n",
       "        z[6]   -1.6946    0.8897    0.0085   10288.6049    6740.9566    1.0000 ⋯\n",
       "        z[7]   -0.0492    0.7053    0.0024   90065.7491   33968.6494    1.0000 ⋯\n",
       "        z[8]    0.3336    0.7125    0.0028   64338.6341   36057.2177    1.0000 ⋯\n",
       "        z[9]   -1.6344    0.8853    0.0086    9933.6900    6976.3190    1.0000 ⋯\n",
       "       z[10]   -0.8349    0.7525    0.0045   28034.3085   36239.1521    1.0001 ⋯\n",
       "       z[11]    0.9764    0.7712    0.0052   21404.7104   34294.6253    1.0000 ⋯\n",
       "       z[12]    0.0579    0.7047    0.0030   55885.5225   36082.7391    1.0000 ⋯\n",
       "       z[13]    0.0536    0.7075    0.0024   87613.6817   34162.3752    1.0000 ⋯\n",
       "       z[14]   -0.2670    0.7123    0.0025   84246.0742   32599.5398    1.0000 ⋯\n",
       "       z[15]   -0.0622    0.7087    0.0025   79254.5968   34161.8250    1.0000 ⋯\n",
       "       z[16]   -0.6443    0.7408    0.0037   41481.0092   34608.4218    1.0000 ⋯\n",
       "       z[17]    0.8464    0.7503    0.0044   29083.6946   32152.7913    1.0000 ⋯\n",
       "       z[18]   -0.2197    0.7054    0.0028   64204.4335   37650.2729    1.0000 ⋯\n",
       "       z[19]    0.5349    0.7305    0.0031   54514.3933   36513.6931    1.0000 ⋯\n",
       "       z[20]    0.6083    0.7388    0.0035   44836.7371   32363.3741    1.0000 ⋯\n",
       "\u001b[36m                                                                1 column omitted\u001b[0m\n",
       "\n",
       "Quantiles\n",
       " \u001b[1m parameters \u001b[0m \u001b[1m    2.5% \u001b[0m \u001b[1m   25.0% \u001b[0m \u001b[1m   50.0% \u001b[0m \u001b[1m   75.0% \u001b[0m \u001b[1m   97.5% \u001b[0m\n",
       " \u001b[90m     Symbol \u001b[0m \u001b[90m Float64 \u001b[0m \u001b[90m Float64 \u001b[0m \u001b[90m Float64 \u001b[0m \u001b[90m Float64 \u001b[0m \u001b[90m Float64 \u001b[0m\n",
       "\n",
       "           θ   -1.9581   -0.4004    0.0717    0.4754    1.1565\n",
       "        z[1]   -0.7505    0.1010    0.5644    1.0737    2.1391\n",
       "        z[2]   -0.7369    0.1064    0.5822    1.0924    2.1487\n",
       "        z[3]   -1.9174   -0.8878   -0.3957    0.0595    0.9363\n",
       "        z[4]   -1.3121   -0.3787    0.0680    0.5257    1.5049\n",
       "        z[5]   -0.4121    0.4078    0.9070    1.4560    2.5761\n",
       "        z[6]   -3.5234   -2.2873   -1.6654   -1.0643   -0.0794\n",
       "        z[7]   -1.4635   -0.5021   -0.0467    0.4054    1.3581\n",
       "        z[8]   -1.0256   -0.1393    0.3091    0.7890    1.7931\n",
       "        z[9]   -3.4679   -2.2201   -1.6043   -0.9980   -0.0491\n",
       "       z[10]   -2.3953   -1.3280   -0.7959   -0.3032    0.5328\n",
       "       z[11]   -0.3880    0.4257    0.9307    1.4796    2.6044\n",
       "       z[12]   -1.3251   -0.3999    0.0514    0.5073    1.4832\n",
       "       z[13]   -1.3527   -0.4039    0.0501    0.5114    1.4794\n",
       "       z[14]   -1.7365   -0.7225   -0.2442    0.1995    1.1027\n",
       "       z[15]   -1.4816   -0.5141   -0.0556    0.3900    1.3474\n",
       "       z[16]   -2.1837   -1.1270   -0.6058   -0.1313    0.7143\n",
       "       z[17]   -0.5098    0.3139    0.8116    1.3268    2.4238\n",
       "       z[18]   -1.6461   -0.6757   -0.1991    0.2403    1.1489\n",
       "       z[19]   -0.8344    0.0413    0.4998    1.0036    2.0435\n",
       "       z[20]   -0.7632    0.0979    0.5707    1.0851    2.1561\n"
      ]
     },
     "execution_count": 14,
     "metadata": {},
     "output_type": "execute_result"
    },
    {
     "name": "stderr",
     "output_type": "stream",
     "text": [
      "WARNING: both Turing and AdvancedHMC export \"HMCDA\"; uses of it in module Main must be qualified\n"
     ]
    }
   ],
   "source": [
    "Turing.sample(funnel_model, spl, 50_000, progress=true; save_state=true)"
   ]
  }
 ],
 "metadata": {
  "kernelspec": {
   "display_name": "Julia 1.9.0",
   "language": "julia",
   "name": "julia-1.9"
  },
  "language_info": {
   "file_extension": ".jl",
   "mimetype": "application/julia",
   "name": "julia",
   "version": "1.9.0"
  }
 },
 "nbformat": 4,
 "nbformat_minor": 5
}
