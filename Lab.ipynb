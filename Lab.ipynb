{
 "cells": [
  {
   "attachments": {},
   "cell_type": "markdown",
   "id": "91129cb1",
   "metadata": {},
   "source": [
    "# No-glue-code"
   ]
  },
  {
   "cell_type": "code",
   "execution_count": null,
   "id": "896323ee",
   "metadata": {},
   "outputs": [],
   "source": [
    "using Pkg\n",
    "Pkg.activate(\"..\")"
   ]
  },
  {
   "cell_type": "code",
   "execution_count": 2,
   "id": "baed58e3",
   "metadata": {},
   "outputs": [
    {
     "name": "stderr",
     "output_type": "stream",
     "text": [
      "\u001b[36m\u001b[1m[ \u001b[22m\u001b[39m\u001b[36m\u001b[1mInfo: \u001b[22m\u001b[39mPrecompiling AdvancedHMC [0bf59076-c3b1-5ca4-86bd-e02cd72cde3d]\n",
      "\u001b[36m\u001b[1m[ \u001b[22m\u001b[39m\u001b[36m\u001b[1mInfo: \u001b[22m\u001b[39mPrecompiling Turing [fce5fe82-541a-59a6-adf8-730c64b5f9a0]\n",
      "WARNING: Method definition sample(Random.AbstractRNG, AbstractMCMC.AbstractModel, AbstractMCMC.AbstractSampler, AbstractMCMC.AbstractMCMCEnsemble, Integer, Integer) in module AbstractMCMC at /home/jaimerz/.julia/packages/AbstractMCMC/bE6VB/src/sample.jl:81 overwritten in module Inference at /home/jaimerz/Cambdrige/Turing.jl/src/inference/Inference.jl:210.\n",
      "  ** incremental compilation may be fatally broken for this module **\n",
      "\n",
      "WARNING: Method definition kwcall(Any, typeof(StatsBase.sample), Random.AbstractRNG, AbstractMCMC.AbstractModel, AbstractMCMC.AbstractSampler, AbstractMCMC.AbstractMCMCEnsemble, Integer, Integer) in module AbstractMCMC at /home/jaimerz/.julia/packages/AbstractMCMC/bE6VB/src/sample.jl:81 overwritten in module Inference at /home/jaimerz/Cambdrige/Turing.jl/src/inference/Inference.jl:210.\n",
      "  ** incremental compilation may be fatally broken for this module **\n",
      "\n"
     ]
    }
   ],
   "source": [
    "using Random\n",
    "using LinearAlgebra\n",
    "using PyPlot\n",
    "\n",
    "#What we are tweaking\n",
    "using Revise\n",
    "using AdvancedHMC\n",
    "using Turing"
   ]
  },
  {
   "attachments": {},
   "cell_type": "markdown",
   "id": "3d76390f",
   "metadata": {},
   "source": [
    "## Model"
   ]
  },
  {
   "cell_type": "code",
   "execution_count": 3,
   "id": "a7d6f81c",
   "metadata": {},
   "outputs": [
    {
     "data": {
      "text/plain": [
       "funnel (generic function with 2 methods)"
      ]
     },
     "execution_count": 3,
     "metadata": {},
     "output_type": "execute_result"
    }
   ],
   "source": [
    "# Just a simple Neal Funnel\n",
    "d = 21\n",
    "@model function funnel()\n",
    "    θ ~ Normal(0, 3)\n",
    "    z ~ MvNormal(zeros(d-1), exp(θ)*I)\n",
    "    x ~ MvNormal(z, I)\n",
    "end"
   ]
  },
  {
   "cell_type": "code",
   "execution_count": 4,
   "id": "5f408f2b",
   "metadata": {},
   "outputs": [
    {
     "data": {
      "text/plain": [
       "DynamicPPL.Model{typeof(funnel), (), (), (), Tuple{}, Tuple{}, DynamicPPL.ConditionContext{NamedTuple{(:x,), Tuple{Vector{Float64}}}, DynamicPPL.DefaultContext}}(funnel, NamedTuple(), NamedTuple(), ConditionContext((x = [1.2142074831535152, 1.23371919965455, -0.8480146960461767, 0.1600994648479841, 1.9180385508479283, -3.401523464506408, -0.0957684186471088, 0.6734622629464286, -3.2749467689509633, -1.6760091758453226, 1.9567202902549736, 0.1136169088905351, 0.11117896909388916, -0.5373922347882832, -0.12436857036298687, -1.2901071061088532, 1.702584517514787, -0.44460133117954226, 1.0818722439221686, 1.2208011493237483],), DynamicPPL.DefaultContext()))"
      ]
     },
     "execution_count": 4,
     "metadata": {},
     "output_type": "execute_result"
    }
   ],
   "source": [
    "Random.seed!(1)\n",
    "(;x) = rand(funnel() | (θ=0,))\n",
    "funnel_model = funnel() | (;x)"
   ]
  },
  {
   "attachments": {},
   "cell_type": "markdown",
   "id": "d852c160",
   "metadata": {},
   "source": [
    "## Sampling"
   ]
  },
  {
   "cell_type": "code",
   "execution_count": 5,
   "id": "486d475d",
   "metadata": {},
   "outputs": [
    {
     "data": {
      "text/plain": [
       "AdvancedHMC.HMCSampler{Nothing, Nothing, Nothing, Nothing}(AdvancedHMC.NUTS_alg(500, 0.95, 10, 1000.0, 0.1), nothing, nothing, nothing, nothing)"
      ]
     },
     "execution_count": 5,
     "metadata": {},
     "output_type": "execute_result"
    }
   ],
   "source": [
    "nadapts=500 \n",
    "TAP=0.95\n",
    "ϵ=0.1\n",
    "nuts = AdvancedHMC.NUTS(nadapts, TAP; ϵ=ϵ)"
   ]
  },
  {
   "cell_type": "code",
   "execution_count": 6,
   "id": "9e114ad8",
   "metadata": {},
   "outputs": [
    {
     "data": {
      "text/plain": [
       "AdvancedHMC.HMCSampler{Nothing, Nothing, Nothing, Nothing}(AdvancedHMC.HMC_alg(0.1, 20), nothing, nothing, nothing, nothing)"
      ]
     },
     "execution_count": 6,
     "metadata": {},
     "output_type": "execute_result"
    }
   ],
   "source": [
    "ϵ=0.1\n",
    "n_leapfrog=20\n",
    "hmc = AdvancedHMC.HMC(ϵ, n_leapfrog)"
   ]
  },
  {
   "cell_type": "code",
   "execution_count": 7,
   "id": "1f729dc6",
   "metadata": {},
   "outputs": [
    {
     "data": {
      "text/plain": [
       "AdvancedHMC.HMCSampler{Nothing, Nothing, Nothing, Nothing}(AdvancedHMC.HMCDA_alg(500, 0.95, 1.0, 0.1), nothing, nothing, nothing, nothing)"
      ]
     },
     "execution_count": 7,
     "metadata": {},
     "output_type": "execute_result"
    }
   ],
   "source": [
    "n_adapts = 500\n",
    "TAP = 0.95\n",
    "λ = 0.1 * 10\n",
    "ϵ=0.1\n",
    "hmcda = AdvancedHMC.HMCDA(n_adapts, TAP, λ; ϵ=ϵ)"
   ]
  },
  {
   "cell_type": "code",
   "execution_count": 14,
   "id": "b0193663",
   "metadata": {},
   "outputs": [
    {
     "name": "stderr",
     "output_type": "stream",
     "text": [
      "\u001b[32mSampling: 100%|█████████████████████████████████████████| Time: 0:00:02\u001b[39m\n"
     ]
    },
    {
     "data": {
      "text/plain": [
       "Chains MCMC chain (5000×34×1 Array{Real, 3}):\n",
       "\n",
       "Iterations        = 1:1:5000\n",
       "Number of chains  = 1\n",
       "Samples per chain = 5000\n",
       "parameters        = param_1, param_2, param_3, param_4, param_5, param_6, param_7, param_8, param_9, param_10, param_11, param_12, param_13, param_14, param_15, param_16, param_17, param_18, param_19, param_20, param_21\n",
       "internals         = lp, n_steps, is_accept, acceptance_rate, log_density, hamiltonian_energy, hamiltonian_energy_error, max_hamiltonian_energy_error, tree_depth, numerical_error, step_size, nom_step_size, is_adapt\n",
       "\n",
       "Summary Statistics\n",
       " \u001b[1m parameters \u001b[0m \u001b[1m    mean \u001b[0m \u001b[1m     std \u001b[0m \u001b[1m    mcse \u001b[0m \u001b[1m  ess_bulk \u001b[0m \u001b[1m    rhat \u001b[0m \u001b[1m ess_per_sec\u001b[0m ⋯\n",
       " \u001b[90m     Symbol \u001b[0m \u001b[90m Float64 \u001b[0m \u001b[90m Float64 \u001b[0m \u001b[90m Float64 \u001b[0m \u001b[90m      Real \u001b[0m \u001b[90m Float64 \u001b[0m \u001b[90m     Missing\u001b[0m ⋯\n",
       "\n",
       "     param_1   -0.0258    0.8033    0.0415    657.1151    1.0003       missing ⋯\n",
       "     param_2    0.6087    0.7479    0.0103   5429.6179    1.0007       missing ⋯\n",
       "     param_3    0.6272    0.7310    0.0116   4004.8332    1.0006       missing ⋯\n",
       "     param_4   -0.4405    0.7362    0.0095   6115.2473    0.9998       missing ⋯\n",
       "     param_5    0.0763    0.7130    0.0076   8880.6431    1.0001       missing ⋯\n",
       "     param_6    0.9663    0.7823    0.0161   2293.4661    1.0008       missing ⋯\n",
       "     param_7   -1.7041    0.9094    0.0254   1180.7796    1.0002       missing ⋯\n",
       "     param_8   -0.0535    0.6781    0.0071   9184.4234    1.0003       missing ⋯\n",
       "     param_9    0.3371    0.7144    0.0079   8376.5056    1.0028       missing ⋯\n",
       "    param_10   -1.6400    0.8972    0.0248   1219.6314    1.0014       missing ⋯\n",
       "    param_11   -0.8355    0.7792    0.0138   3173.6435    0.9999       missing ⋯\n",
       "    param_12    0.9743    0.7949    0.0161   2460.7900    1.0003       missing ⋯\n",
       "    param_13    0.0657    0.7135    0.0074   9248.4906    0.9999       missing ⋯\n",
       "    param_14    0.0562    0.7009    0.0077   8360.4727    0.9999       missing ⋯\n",
       "    param_15   -0.2658    0.7304    0.0076   8803.2204    1.0027       missing ⋯\n",
       "    param_16   -0.0616    0.6954    0.0071   9749.6279    1.0013       missing ⋯\n",
       "    param_17   -0.6454    0.7203    0.0102   4972.0347    1.0002       missing ⋯\n",
       "    param_18    0.8517    0.7576    0.0134   3178.1742    0.9999       missing ⋯\n",
       "    param_19   -0.2281    0.7108    0.0081   7625.7069    1.0011       missing ⋯\n",
       "    param_20    0.5463    0.7184    0.0104   4930.7785    0.9999       missing ⋯\n",
       "    param_21    0.6342    0.7547    0.0114   4398.4838    1.0003       missing ⋯\n",
       "\n",
       "Quantiles\n",
       " \u001b[1m parameters \u001b[0m \u001b[1m    2.5% \u001b[0m \u001b[1m   25.0% \u001b[0m \u001b[1m   50.0% \u001b[0m \u001b[1m   75.0% \u001b[0m \u001b[1m   97.5% \u001b[0m\n",
       " \u001b[90m     Symbol \u001b[0m \u001b[90m Float64 \u001b[0m \u001b[90m Float64 \u001b[0m \u001b[90m Float64 \u001b[0m \u001b[90m Float64 \u001b[0m \u001b[90m Float64 \u001b[0m\n",
       "\n",
       "     param_1   -2.0694   -0.4077    0.0779    0.4982    1.2183\n",
       "     param_2   -0.7801    0.0944    0.5730    1.1035    2.1566\n",
       "     param_3   -0.6921    0.1235    0.6009    1.0899    2.1552\n",
       "     param_4   -1.9420   -0.9160   -0.4060    0.0552    0.9021\n",
       "     param_5   -1.3493   -0.3819    0.0734    0.5310    1.5398\n",
       "     param_6   -0.4215    0.4108    0.9229    1.4837    2.5077\n",
       "     param_7   -3.5406   -2.3046   -1.6871   -1.0603   -0.0649\n",
       "     param_8   -1.3992   -0.4830   -0.0516    0.3786    1.2873\n",
       "     param_9   -1.0345   -0.1447    0.3104    0.8012    1.8095\n",
       "    param_10   -3.4824   -2.2542   -1.6144   -0.9914   -0.0141\n",
       "    param_11   -2.4332   -1.3324   -0.7965   -0.2812    0.5388\n",
       "    param_12   -0.4331    0.4082    0.9253    1.4948    2.6025\n",
       "    param_13   -1.3153   -0.3997    0.0671    0.5227    1.5110\n",
       "    param_14   -1.2853   -0.4004    0.0436    0.5068    1.4651\n",
       "    param_15   -1.7061   -0.7233   -0.2438    0.1910    1.1031\n",
       "    param_16   -1.4642   -0.5123   -0.0594    0.3898    1.2991\n",
       "    param_17   -2.1153   -1.1222   -0.6061   -0.1558    0.6821\n",
       "    param_18   -0.4855    0.3251    0.7913    1.3283    2.5064\n",
       "    param_19   -1.6750   -0.6720   -0.2083    0.2235    1.1625\n",
       "    param_20   -0.8049    0.0614    0.5221    1.0091    2.0145\n",
       "    param_21   -0.7423    0.1116    0.5931    1.1037    2.2447\n"
      ]
     },
     "execution_count": 14,
     "metadata": {},
     "output_type": "execute_result"
    },
    {
     "name": "stderr",
     "output_type": "stream",
     "text": [
      "\u001b[33m\u001b[1m┌ \u001b[22m\u001b[39m\u001b[33m\u001b[1mWarning: \u001b[22m\u001b[39mTail ESS calculation failed: OverflowError(\"4750 * 4503599627370496 overflowed for type Int64\")\n",
      "\u001b[33m\u001b[1m└ \u001b[22m\u001b[39m\u001b[90m@ MCMCChains ~/.julia/packages/MCMCChains/OVsxE/src/stats.jl:319\u001b[39m\n"
     ]
    }
   ],
   "source": [
    "nuts_samples = sample(funnel_model, nuts, 5000)"
   ]
  },
  {
   "cell_type": "code",
   "execution_count": 10,
   "id": "f610b909",
   "metadata": {},
   "outputs": [
    {
     "name": "stderr",
     "output_type": "stream",
     "text": [
      "\u001b[32mSampling: 100%|█████████████████████████████████████████| Time: 0:00:01\u001b[39m\n"
     ]
    },
    {
     "data": {
      "text/plain": [
       "Chains MCMC chain (5000×32×1 Array{Real, 3}):\n",
       "\n",
       "Iterations        = 1:1:5000\n",
       "Number of chains  = 1\n",
       "Samples per chain = 5000\n",
       "parameters        = param_1, param_2, param_3, param_4, param_5, param_6, param_7, param_8, param_9, param_10, param_11, param_12, param_13, param_14, param_15, param_16, param_17, param_18, param_19, param_20, param_21\n",
       "internals         = lp, n_steps, is_accept, acceptance_rate, log_density, hamiltonian_energy, hamiltonian_energy_error, numerical_error, step_size, nom_step_size, is_adapt\n",
       "\n",
       "Summary Statistics\n",
       " \u001b[1m parameters \u001b[0m \u001b[1m    mean \u001b[0m \u001b[1m     std \u001b[0m \u001b[1m    mcse \u001b[0m \u001b[1m   ess_bulk \u001b[0m \u001b[1m    rhat \u001b[0m \u001b[1m ess_per_se\u001b[0m ⋯\n",
       " \u001b[90m     Symbol \u001b[0m \u001b[90m Float64 \u001b[0m \u001b[90m Float64 \u001b[0m \u001b[90m Float64 \u001b[0m \u001b[90m       Real \u001b[0m \u001b[90m Float64 \u001b[0m \u001b[90m     Missin\u001b[0m ⋯\n",
       "\n",
       "     param_1   -0.0463    0.8180    0.0463     468.1972    1.0006       missin ⋯\n",
       "     param_2    0.6108    0.7236    0.0087    7175.2449    1.0042       missin ⋯\n",
       "     param_3    0.6205    0.7217    0.0095    6442.8270    1.0000       missin ⋯\n",
       "     param_4   -0.4247    0.7120    0.0067   11943.9393    0.9999       missin ⋯\n",
       "     param_5    0.0810    0.7312    0.0054   18494.8500    1.0000       missin ⋯\n",
       "     param_6    0.9638    0.7802    0.0133    3703.3411    1.0002       missin ⋯\n",
       "     param_7   -1.7083    0.9026    0.0248    1226.1609    1.0005       missin ⋯\n",
       "     param_8   -0.0476    0.7335    0.0054   18494.8500    1.0028       missin ⋯\n",
       "     param_9    0.3386    0.7342    0.0065   12982.5234    1.0000       missin ⋯\n",
       "    param_10   -1.6400    0.8862    0.0230    1346.2346    1.0004       missin ⋯\n",
       "    param_11   -0.8385    0.7663    0.0130    3587.0949    1.0009       missin ⋯\n",
       "    param_12    0.9789    0.7697    0.0142    3002.6869    1.0008       missin ⋯\n",
       "    param_13    0.0600    0.7124    0.0052   18494.8500    1.0010       missin ⋯\n",
       "    param_14    0.0514    0.7294    0.0054   18494.8500    1.0030       missin ⋯\n",
       "    param_15   -0.2712    0.7010    0.0052   18494.8500    1.0009       missin ⋯\n",
       "    param_16   -0.0523    0.7103    0.0052   18494.8500    1.0009       missin ⋯\n",
       "    param_17   -0.6506    0.7397    0.0093    6361.6771    1.0005       missin ⋯\n",
       "    param_18    0.8572    0.7917    0.0121    4525.3361    1.0002       missin ⋯\n",
       "    param_19   -0.2222    0.6895    0.0051   18494.8500    1.0000       missin ⋯\n",
       "    param_20    0.5394    0.7501    0.0079    9255.5875    0.9998       missin ⋯\n",
       "    param_21    0.6058    0.7143    0.0097    5657.4221    0.9999       missin ⋯\n",
       "\u001b[36m                                                                1 column omitted\u001b[0m\n",
       "\n",
       "Quantiles\n",
       " \u001b[1m parameters \u001b[0m \u001b[1m    2.5% \u001b[0m \u001b[1m   25.0% \u001b[0m \u001b[1m   50.0% \u001b[0m \u001b[1m   75.0% \u001b[0m \u001b[1m   97.5% \u001b[0m\n",
       " \u001b[90m     Symbol \u001b[0m \u001b[90m Float64 \u001b[0m \u001b[90m Float64 \u001b[0m \u001b[90m Float64 \u001b[0m \u001b[90m Float64 \u001b[0m \u001b[90m Float64 \u001b[0m\n",
       "\n",
       "     param_1   -2.0638   -0.4245    0.0582    0.4586    1.2188\n",
       "     param_2   -0.7053    0.1024    0.5657    1.0879    2.1254\n",
       "     param_3   -0.7106    0.1197    0.5824    1.0739    2.1309\n",
       "     param_4   -1.8790   -0.8923   -0.3904    0.0623    0.9138\n",
       "     param_5   -1.3906   -0.3743    0.0719    0.5386    1.5758\n",
       "     param_6   -0.4354    0.4203    0.9115    1.4718    2.6076\n",
       "     param_7   -3.5754   -2.3127   -1.6636   -1.0551   -0.0926\n",
       "     param_8   -1.4997   -0.5103   -0.0516    0.4210    1.4291\n",
       "     param_9   -1.1036   -0.1416    0.3150    0.8038    1.8584\n",
       "    param_10   -3.4769   -2.2119   -1.6066   -0.9897   -0.0847\n",
       "    param_11   -2.4458   -1.3452   -0.7909   -0.2836    0.4952\n",
       "    param_12   -0.3647    0.4304    0.9413    1.4758    2.6176\n",
       "    param_13   -1.3725   -0.4086    0.0449    0.5218    1.4888\n",
       "    param_14   -1.4177   -0.3889    0.0376    0.5080    1.5075\n",
       "    param_15   -1.7254   -0.7266   -0.2487    0.2000    1.0752\n",
       "    param_16   -1.4716   -0.5135   -0.0496    0.4002    1.3594\n",
       "    param_17   -2.2054   -1.1065   -0.6179   -0.1577    0.7598\n",
       "    param_18   -0.5299    0.2746    0.8191    1.3644    2.4726\n",
       "    param_19   -1.6036   -0.6863   -0.1948    0.2404    1.0898\n",
       "    param_20   -0.8593    0.0260    0.5043    1.0246    2.1014\n",
       "    param_21   -0.7194    0.1144    0.5704    1.0771    2.0905\n"
      ]
     },
     "execution_count": 10,
     "metadata": {},
     "output_type": "execute_result"
    },
    {
     "name": "stderr",
     "output_type": "stream",
     "text": [
      "\u001b[33m\u001b[1m┌ \u001b[22m\u001b[39m\u001b[33m\u001b[1mWarning: \u001b[22m\u001b[39mTail ESS calculation failed: OverflowError(\"4750 * 4503599627370496 overflowed for type Int64\")\n",
      "\u001b[33m\u001b[1m└ \u001b[22m\u001b[39m\u001b[90m@ MCMCChains ~/.julia/packages/MCMCChains/OVsxE/src/stats.jl:319\u001b[39m\n"
     ]
    }
   ],
   "source": [
    "hmc_samples = sample(funnel_model, hmc, 5000)"
   ]
  },
  {
   "cell_type": "code",
   "execution_count": 21,
   "id": "88df45a3",
   "metadata": {},
   "outputs": [
    {
     "name": "stderr",
     "output_type": "stream",
     "text": [
      "\u001b[32mSampling: 100%|█████████████████████████████████████████| Time: 0:00:01\u001b[39m\n"
     ]
    },
    {
     "data": {
      "text/plain": [
       "Chains MCMC chain (5000×32×1 Array{Real, 3}):\n",
       "\n",
       "Iterations        = 1:1:5000\n",
       "Number of chains  = 1\n",
       "Samples per chain = 5000\n",
       "parameters        = param_1, param_2, param_3, param_4, param_5, param_6, param_7, param_8, param_9, param_10, param_11, param_12, param_13, param_14, param_15, param_16, param_17, param_18, param_19, param_20, param_21\n",
       "internals         = lp, n_steps, is_accept, acceptance_rate, log_density, hamiltonian_energy, hamiltonian_energy_error, numerical_error, step_size, nom_step_size, is_adapt\n",
       "\n",
       "Summary Statistics\n",
       " \u001b[1m parameters \u001b[0m \u001b[1m    mean \u001b[0m \u001b[1m     std \u001b[0m \u001b[1m    mcse \u001b[0m \u001b[1m  ess_bulk \u001b[0m \u001b[1m    rhat \u001b[0m \u001b[1m ess_per_sec\u001b[0m ⋯\n",
       " \u001b[90m     Symbol \u001b[0m \u001b[90m Float64 \u001b[0m \u001b[90m Float64 \u001b[0m \u001b[90m Float64 \u001b[0m \u001b[90m      Real \u001b[0m \u001b[90m Float64 \u001b[0m \u001b[90m     Missing\u001b[0m ⋯\n",
       "\n",
       "     param_1   -0.0419    0.7838    0.0489    362.4873    1.0119       missing ⋯\n",
       "     param_2    0.5994    0.7154    0.0151   2320.5911    1.0015       missing ⋯\n",
       "     param_3    0.6255    0.7354    0.0162   2100.5498    1.0027       missing ⋯\n",
       "     param_4   -0.3973    0.7143    0.0145   2452.0597    1.0014       missing ⋯\n",
       "     param_5    0.0532    0.7082    0.0127   3113.8938    1.0012       missing ⋯\n",
       "     param_6    0.9553    0.7692    0.0212   1292.0336    1.0012       missing ⋯\n",
       "     param_7   -1.6923    0.9042    0.0356    618.5752    1.0034       missing ⋯\n",
       "     param_8   -0.0424    0.7092    0.0124   3303.5704    1.0030       missing ⋯\n",
       "     param_9    0.3181    0.7076    0.0127   3159.4996    1.0011       missing ⋯\n",
       "    param_10   -1.6240    0.8823    0.0373    534.4575    1.0084       missing ⋯\n",
       "    param_11   -0.8137    0.7632    0.0187   1677.3791    1.0028       missing ⋯\n",
       "    param_12    0.9721    0.7611    0.0235   1056.8329    1.0071       missing ⋯\n",
       "    param_13    0.0736    0.7000    0.0128   3026.5174    1.0007       missing ⋯\n",
       "    param_14    0.0495    0.7072    0.0123   3308.6202    1.0010       missing ⋯\n",
       "    param_15   -0.2711    0.7034    0.0124   3244.3712    1.0013       missing ⋯\n",
       "    param_16   -0.0649    0.6925    0.0123   3173.4247    1.0015       missing ⋯\n",
       "    param_17   -0.6459    0.7399    0.0168   1989.9083    1.0019       missing ⋯\n",
       "    param_18    0.8632    0.7590    0.0180   1815.7908    1.0012       missing ⋯\n",
       "    param_19   -0.2094    0.7075    0.0131   2963.2145    1.0002       missing ⋯\n",
       "    param_20    0.5451    0.7295    0.0161   2104.4508    1.0006       missing ⋯\n",
       "    param_21    0.6023    0.7333    0.0164   2026.7429    1.0004       missing ⋯\n",
       "\n",
       "Quantiles\n",
       " \u001b[1m parameters \u001b[0m \u001b[1m    2.5% \u001b[0m \u001b[1m   25.0% \u001b[0m \u001b[1m   50.0% \u001b[0m \u001b[1m   75.0% \u001b[0m \u001b[1m   97.5% \u001b[0m\n",
       " \u001b[90m     Symbol \u001b[0m \u001b[90m Float64 \u001b[0m \u001b[90m Float64 \u001b[0m \u001b[90m Float64 \u001b[0m \u001b[90m Float64 \u001b[0m \u001b[90m Float64 \u001b[0m\n",
       "\n",
       "     param_1   -2.0193   -0.4083    0.0757    0.4666    1.1490\n",
       "     param_2   -0.7454    0.1106    0.5658    1.0500    2.0828\n",
       "     param_3   -0.7448    0.1103    0.5919    1.1169    2.1722\n",
       "     param_4   -1.8301   -0.8516   -0.3707    0.0729    0.9899\n",
       "     param_5   -1.3972   -0.4105    0.0606    0.5096    1.4227\n",
       "     param_6   -0.4220    0.4043    0.9208    1.4570    2.5242\n",
       "     param_7   -3.5423   -2.2827   -1.6551   -1.0394   -0.0550\n",
       "     param_8   -1.4732   -0.5102   -0.0442    0.4098    1.3934\n",
       "     param_9   -1.0155   -0.1525    0.2951    0.7751    1.7861\n",
       "    param_10   -3.4321   -2.2164   -1.6013   -0.9983   -0.0023\n",
       "    param_11   -2.4146   -1.3110   -0.7739   -0.2885    0.6080\n",
       "    param_12   -0.4277    0.4402    0.9364    1.4903    2.4975\n",
       "    param_13   -1.2915   -0.3947    0.0566    0.5046    1.5274\n",
       "    param_14   -1.3396   -0.4166    0.0458    0.5093    1.4684\n",
       "    param_15   -1.7041   -0.7257   -0.2497    0.1846    1.0587\n",
       "    param_16   -1.4646   -0.5189   -0.0560    0.3904    1.2931\n",
       "    param_17   -2.1935   -1.1360   -0.6047   -0.1322    0.7265\n",
       "    param_18   -0.4837    0.3174    0.8289    1.3559    2.4578\n",
       "    param_19   -1.6043   -0.6730   -0.1853    0.2557    1.1349\n",
       "    param_20   -0.8285    0.0513    0.5097    1.0190    2.0392\n",
       "    param_21   -0.7497    0.1093    0.5725    1.0709    2.1491\n"
      ]
     },
     "execution_count": 21,
     "metadata": {},
     "output_type": "execute_result"
    },
    {
     "name": "stderr",
     "output_type": "stream",
     "text": [
      "\u001b[33m\u001b[1m┌ \u001b[22m\u001b[39m\u001b[33m\u001b[1mWarning: \u001b[22m\u001b[39mTail ESS calculation failed: OverflowError(\"4750 * 4503599627370496 overflowed for type Int64\")\n",
      "\u001b[33m\u001b[1m└ \u001b[22m\u001b[39m\u001b[90m@ MCMCChains ~/.julia/packages/MCMCChains/OVsxE/src/stats.jl:319\u001b[39m\n"
     ]
    }
   ],
   "source": [
    "hmcda_samples = sample(funnel_model, hmcda, 5000)"
   ]
  },
  {
   "attachments": {},
   "cell_type": "markdown",
   "id": "bbf0131e",
   "metadata": {},
   "source": [
    "### Plotting"
   ]
  },
  {
   "cell_type": "code",
   "execution_count": 16,
   "id": "9c61e0ab",
   "metadata": {},
   "outputs": [],
   "source": [
    "theta_nuts = Vector(nuts_samples[\"param_1\"][:, 1])\n",
    "x10_nuts =Vector(nuts_samples[\"param_11\"][:, 1]);"
   ]
  },
  {
   "cell_type": "code",
   "execution_count": 11,
   "id": "0b0923f1",
   "metadata": {},
   "outputs": [],
   "source": [
    "theta_hmc = Vector(hmc_samples[\"param_1\"][:, 1])\n",
    "x10_hmc =Vector(hmc_samples[\"param_11\"][:, 1]);"
   ]
  },
  {
   "cell_type": "code",
   "execution_count": 22,
   "id": "fec8ace5",
   "metadata": {},
   "outputs": [],
   "source": [
    "theta_hmcda = Vector(hmcda_samples[\"param_1\"][:, 1])\n",
    "x10_hmcda =Vector(hmcda_samples[\"param_11\"][:, 1]);"
   ]
  },
  {
   "cell_type": "code",
   "execution_count": 18,
   "id": "8869229b",
   "metadata": {},
   "outputs": [
    {
     "data": {
      "image/png": "[encoded data removed]",
      "text/plain": [
       "Figure(PyObject <Figure size 800x800 with 3 Axes>)"
      ]
     },
     "metadata": {},
     "output_type": "display_data"
    }
   ],
   "source": [
    "fig, axis = plt.subplots(2, 2, figsize=(8,8))\n",
    "fig.suptitle(\"NUTS - 21-D Neal's Funnel\", fontsize=16)\n",
    "\n",
    "fig.delaxes(axis[1,2])\n",
    "fig.subplots_adjust(hspace=0)\n",
    "fig.subplots_adjust(wspace=0)\n",
    "\n",
    "axis[1,1].hist(x10_nuts, bins=100, range=[-6,2])\n",
    "axis[1,1].set_yticks([])\n",
    "\n",
    "axis[2,2].hist(theta_nuts, bins=100, orientation=\"horizontal\", range=[-4, 2])\n",
    "axis[2,2].set_xticks([])\n",
    "axis[2,2].set_yticks([])\n",
    "\n",
    "axis[2,1].hist2d(x10_nuts, theta_nuts, bins=100, range=[[-6,2],[-4, 2]])\n",
    "axis[2,1].set_xlabel(\"x10\")\n",
    "axis[2,1].set_ylabel(\"theta\");"
   ]
  },
  {
   "cell_type": "code",
   "execution_count": 12,
   "id": "fe4c8b70",
   "metadata": {},
   "outputs": [
    {
     "data": {
      "image/png": "[encoded data removed]",
      "text/plain": [
       "Figure(PyObject <Figure size 800x800 with 3 Axes>)"
      ]
     },
     "metadata": {},
     "output_type": "display_data"
    }
   ],
   "source": [
    "fig, axis = plt.subplots(2, 2, figsize=(8,8))\n",
    "fig.suptitle(\"HMC - 21-D Neal's Funnel\", fontsize=16)\n",
    "\n",
    "fig.delaxes(axis[1,2])\n",
    "fig.subplots_adjust(hspace=0)\n",
    "fig.subplots_adjust(wspace=0)\n",
    "\n",
    "axis[1,1].hist(x10_hmc, bins=100, range=[-6,2])\n",
    "axis[1,1].set_yticks([])\n",
    "\n",
    "axis[2,2].hist(theta_hmc, bins=100, orientation=\"horizontal\", range=[-4, 2])\n",
    "axis[2,2].set_xticks([])\n",
    "axis[2,2].set_yticks([])\n",
    "\n",
    "axis[2,1].hist2d(x10_hmc, theta_hmc, bins=100, range=[[-6,2],[-4, 2]])\n",
    "axis[2,1].set_xlabel(\"x10\")\n",
    "axis[2,1].set_ylabel(\"theta\");"
   ]
  },
  {
   "cell_type": "code",
   "execution_count": 23,
   "id": "2c9052ab",
   "metadata": {},
   "outputs": [
    {
     "data": {
      "image/png": "[encoded data removed]",
      "text/plain": [
       "Figure(PyObject <Figure size 800x800 with 3 Axes>)"
      ]
     },
     "metadata": {},
     "output_type": "display_data"
    }
   ],
   "source": [
    "fig, axis = plt.subplots(2, 2, figsize=(8,8))\n",
    "fig.suptitle(\"HMCDA - 21-D  Neal's Funnel\", fontsize=16)\n",
    "\n",
    "fig.delaxes(axis[1,2])\n",
    "fig.subplots_adjust(hspace=0)\n",
    "fig.subplots_adjust(wspace=0)\n",
    "\n",
    "axis[1,1].hist(x10_hmcda, bins=100, range=[-6,2])\n",
    "axis[1,1].set_yticks([])\n",
    "\n",
    "axis[2,2].hist(theta_hmcda, bins=100, orientation=\"horizontal\", range=[-4, 2])\n",
    "axis[2,2].set_xticks([])\n",
    "axis[2,2].set_yticks([])\n",
    "\n",
    "axis[2,1].hist2d(x10_hmcda, theta_hmcda, bins=100, range=[[-6,2],[-4, 2]])\n",
    "axis[2,1].set_xlabel(\"x10\")\n",
    "axis[2,1].set_ylabel(\"theta\");"
   ]
  },
  {
   "attachments": {},
   "cell_type": "markdown",
   "id": "843becb3",
   "metadata": {},
   "source": []
  }
 ],
 "metadata": {
  "kernelspec": {
   "display_name": "Julia 1.9.0",
   "language": "julia",
   "name": "julia-1.9"
  },
  "language_info": {
   "file_extension": ".jl",
   "mimetype": "application/julia",
   "name": "julia",
   "version": "1.9.0"
  }
 },
 "nbformat": 4,
 "nbformat_minor": 5
}
