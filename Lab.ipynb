{
 "cells": [
  {
   "attachments": {},
   "cell_type": "markdown",
   "id": "91129cb1",
   "metadata": {},
   "source": [
    "# No-glue-code"
   ]
  },
  {
   "cell_type": "code",
   "execution_count": 1,
   "id": "896323ee",
   "metadata": {},
   "outputs": [
    {
     "name": "stderr",
     "output_type": "stream",
     "text": [
      "\u001b[32m\u001b[1m  Activating\u001b[22m\u001b[39m project at `~/Cambdrige`\n"
     ]
    }
   ],
   "source": [
    "using Pkg\n",
    "Pkg.activate(\"..\")"
   ]
  },
  {
   "cell_type": "code",
   "execution_count": 2,
   "id": "baed58e3",
   "metadata": {},
   "outputs": [
    {
     "name": "stderr",
     "output_type": "stream",
     "text": [
      "\u001b[36m\u001b[1m[ \u001b[22m\u001b[39m\u001b[36m\u001b[1mInfo: \u001b[22m\u001b[39mPrecompiling AdvancedHMC [0bf59076-c3b1-5ca4-86bd-e02cd72cde3d]\n",
      "\u001b[36m\u001b[1m[ \u001b[22m\u001b[39m\u001b[36m\u001b[1mInfo: \u001b[22m\u001b[39mPrecompiling Turing [fce5fe82-541a-59a6-adf8-730c64b5f9a0]\n"
     ]
    }
   ],
   "source": [
    "# The statistical inference frame-work we will use\n",
    "using LogDensityProblems\n",
    "using LogDensityProblemsAD\n",
    "using DynamicPPL\n",
    "using ForwardDiff\n",
    "using Random\n",
    "using LinearAlgebra\n",
    "\n",
    "#Plotting\n",
    "using PyPlot\n",
    "\n",
    "#What we are tweaking\n",
    "using Revise\n",
    "using AdvancedHMC\n",
    "using Turing\n",
    "using MCMCChains"
   ]
  },
  {
   "attachments": {},
   "cell_type": "markdown",
   "id": "3d76390f",
   "metadata": {},
   "source": [
    "## Model"
   ]
  },
  {
   "cell_type": "code",
   "execution_count": 3,
   "id": "a7d6f81c",
   "metadata": {},
   "outputs": [
    {
     "data": {
      "text/plain": [
       "funnel (generic function with 2 methods)"
      ]
     },
     "execution_count": 3,
     "metadata": {},
     "output_type": "execute_result"
    }
   ],
   "source": [
    "# Just a simple Neal Funnel\n",
    "d = 21\n",
    "@model function funnel()\n",
    "    θ ~ Normal(0, 3)\n",
    "    z ~ MvNormal(zeros(d-1), exp(θ)*I)\n",
    "    x ~ MvNormal(z, I)\n",
    "end"
   ]
  },
  {
   "cell_type": "code",
   "execution_count": 4,
   "id": "5f408f2b",
   "metadata": {},
   "outputs": [
    {
     "data": {
      "text/plain": [
       "Model{typeof(funnel), (), (), (), Tuple{}, Tuple{}, ConditionContext{NamedTuple{(:x,), Tuple{Vector{Float64}}}, DefaultContext}}(funnel, NamedTuple(), NamedTuple(), ConditionContext((x = [1.2142074831535152, 1.23371919965455, -0.8480146960461767, 0.1600994648479841, 1.9180385508479283, -3.401523464506408, -0.0957684186471088, 0.6734622629464286, -3.2749467689509633, -1.6760091758453226, 1.9567202902549736, 0.1136169088905351, 0.11117896909388916, -0.5373922347882832, -0.12436857036298687, -1.2901071061088532, 1.702584517514787, -0.44460133117954226, 1.0818722439221686, 1.2208011493237483],), DefaultContext()))"
      ]
     },
     "execution_count": 4,
     "metadata": {},
     "output_type": "execute_result"
    }
   ],
   "source": [
    "Random.seed!(1)\n",
    "(;x) = rand(funnel() | (θ=0,))\n",
    "funnel_model = funnel() | (;x)"
   ]
  },
  {
   "attachments": {},
   "cell_type": "markdown",
   "id": "d852c160",
   "metadata": {},
   "source": [
    "## Sampling"
   ]
  },
  {
   "cell_type": "code",
   "execution_count": 10,
   "id": "486d475d",
   "metadata": {},
   "outputs": [
    {
     "data": {
      "text/plain": [
       "NUTS(500, 0.95, 10, 1000.0, 0.1, nothing, Leapfrog, AdvancedHMC.NUTS_kernel, AdvancedHMC.var\"#adaptor#36\"{Float64}(0.95))"
      ]
     },
     "execution_count": 10,
     "metadata": {},
     "output_type": "execute_result"
    }
   ],
   "source": [
    "nadapts=500 \n",
    "TAP=0.95\n",
    "nuts = AdvancedHMC.NUTS(nadapts, TAP; init_ϵ=0.1)"
   ]
  },
  {
   "cell_type": "code",
   "execution_count": 11,
   "id": "9e114ad8",
   "metadata": {},
   "outputs": [
    {
     "data": {
      "text/plain": [
       "HMC(0.1, 20, nothing, Leapfrog, AdvancedHMC.var\"#kernel#37\"{Int64}(20), AdvancedHMC.Adaptation.NoAdaptation())"
      ]
     },
     "execution_count": 11,
     "metadata": {},
     "output_type": "execute_result"
    }
   ],
   "source": [
    "ϵ=0.1\n",
    "n_leapfrog=20\n",
    "hmc = AdvancedHMC.HMC(ϵ, n_leapfrog)"
   ]
  },
  {
   "cell_type": "code",
   "execution_count": 26,
   "id": "1f729dc6",
   "metadata": {},
   "outputs": [
    {
     "data": {
      "text/plain": [
       "HMCDA(500, 0.95, 1.0, 0.1, nothing, Leapfrog, AdvancedHMC.var\"#kernel#39\"{Float64}(1.0), AdvancedHMC.var\"#adaptor#41\"{Float64}(0.95))"
      ]
     },
     "execution_count": 26,
     "metadata": {},
     "output_type": "execute_result"
    }
   ],
   "source": [
    "n_adapts = 500\n",
    "TAP = 0.95\n",
    "λ = 0.1 * 10\n",
    "#ϵ = 0.1\n",
    "hmcda = AdvancedHMC.HMCDA(n_adapts, TAP, λ; ϵ = 0.1)"
   ]
  },
  {
   "cell_type": "code",
   "execution_count": 13,
   "id": "b0193663",
   "metadata": {},
   "outputs": [
    {
     "name": "stderr",
     "output_type": "stream",
     "text": [
      "\u001b[32mSampling: 100%|█████████████████████████████████████████| Time: 0:00:01\u001b[39m\n"
     ]
    },
    {
     "data": {
      "text/plain": [
       "Chains MCMC chain (5000×34×1 Array{Real, 3}):\n",
       "\n",
       "Iterations        = 1:1:5000\n",
       "Number of chains  = 1\n",
       "Samples per chain = 5000\n",
       "parameters        = θ, z1, z2, z3, z4, z5, z6, z7, z8, z9, z10, z11, z12, z13, z14, z15, z16, z17, z18, z19, z20\n",
       "internals         = lp, n_steps, is_accept, acceptance_rate, log_density, hamiltonian_energy, hamiltonian_energy_error, max_hamiltonian_energy_error, tree_depth, numerical_error, step_size, nom_step_size, is_adapt\n",
       "\n",
       "Summary Statistics\n",
       " \u001b[1m parameters \u001b[0m \u001b[1m    mean \u001b[0m \u001b[1m     std \u001b[0m \u001b[1m    mcse \u001b[0m \u001b[1m  ess_bulk \u001b[0m \u001b[1m    rhat \u001b[0m \u001b[1m ess_per_sec\u001b[0m ⋯\n",
       " \u001b[90m     Symbol \u001b[0m \u001b[90m Float64 \u001b[0m \u001b[90m Float64 \u001b[0m \u001b[90m Float64 \u001b[0m \u001b[90m      Real \u001b[0m \u001b[90m Float64 \u001b[0m \u001b[90m     Missing\u001b[0m ⋯\n",
       "\n",
       "           θ   -0.1180    0.8918    0.0516    497.3398    1.0002       missing ⋯\n",
       "          z1    0.5920    0.7269    0.0124   3607.5608    1.0000       missing ⋯\n",
       "          z2    0.5912    0.7400    0.0127   3386.0620    1.0005       missing ⋯\n",
       "          z3   -0.4256    0.7000    0.0098   5323.0029    1.0004       missing ⋯\n",
       "          z4    0.0743    0.6814    0.0073   8757.5379    1.0008       missing ⋯\n",
       "          z5    0.9319    0.7723    0.0184   1696.3329    0.9999       missing ⋯\n",
       "          z6   -1.6536    0.9149    0.0311    801.4377    1.0004       missing ⋯\n",
       "          z7   -0.0498    0.7171    0.0075   9030.3631    1.0000       missing ⋯\n",
       "          z8    0.3338    0.7226    0.0093   6253.4095    1.0007       missing ⋯\n",
       "          z9   -1.5802    0.9010    0.0291    900.8439    1.0000       missing ⋯\n",
       "         z10   -0.8056    0.7616    0.0163   2218.7884    1.0035       missing ⋯\n",
       "         z11    0.9576    0.7914    0.0190   1718.1613    0.9998       missing ⋯\n",
       "         z12    0.0679    0.7042    0.0073   9395.4880    0.9999       missing ⋯\n",
       "         z13    0.0561    0.6843    0.0070   9631.4300    0.9999       missing ⋯\n",
       "         z14   -0.2671    0.7052    0.0079   7992.4405    1.0000       missing ⋯\n",
       "         z15   -0.0521    0.6733    0.0073   8613.7655    0.9999       missing ⋯\n",
       "         z16   -0.6179    0.7313    0.0129   3328.0256    1.0000       missing ⋯\n",
       "         z17    0.8264    0.7844    0.0159   2509.9702    1.0005       missing ⋯\n",
       "         z18   -0.2097    0.7015    0.0078   8122.3041    1.0051       missing ⋯\n",
       "         z19    0.5291    0.7248    0.0115   4220.6762    1.0001       missing ⋯\n",
       "         z20    0.5970    0.7292    0.0127   3383.3664    0.9998       missing ⋯\n",
       "\n",
       "Quantiles\n",
       " \u001b[1m parameters \u001b[0m \u001b[1m    2.5% \u001b[0m \u001b[1m   25.0% \u001b[0m \u001b[1m   50.0% \u001b[0m \u001b[1m   75.0% \u001b[0m \u001b[1m   97.5% \u001b[0m\n",
       " \u001b[90m     Symbol \u001b[0m \u001b[90m Float64 \u001b[0m \u001b[90m Float64 \u001b[0m \u001b[90m Float64 \u001b[0m \u001b[90m Float64 \u001b[0m \u001b[90m Float64 \u001b[0m\n",
       "\n",
       "           θ   -2.5416   -0.4747    0.0390    0.4590    1.1537\n",
       "          z1   -0.7047    0.0921    0.5510    1.0453    2.1409\n",
       "          z2   -0.7889    0.0895    0.5429    1.0686    2.1609\n",
       "          z3   -1.9046   -0.8617   -0.3783    0.0508    0.8605\n",
       "          z4   -1.2626   -0.3735    0.0690    0.5175    1.4600\n",
       "          z5   -0.4274    0.3732    0.8874    1.4313    2.5683\n",
       "          z6   -3.4849   -2.2786   -1.6280   -0.9832   -0.0301\n",
       "          z7   -1.4607   -0.5193   -0.0470    0.4133    1.3563\n",
       "          z8   -1.0207   -0.1398    0.2918    0.7910    1.8147\n",
       "          z9   -3.4393   -2.1816   -1.5626   -0.9319    0.0087\n",
       "         z10   -2.4388   -1.3093   -0.7529   -0.2538    0.5373\n",
       "         z11   -0.3913    0.3713    0.8971    1.4990    2.5927\n",
       "         z12   -1.3150   -0.3712    0.0568    0.5035    1.4841\n",
       "         z13   -1.2734   -0.3864    0.0396    0.4871    1.4179\n",
       "         z14   -1.7026   -0.7334   -0.2398    0.1944    1.1073\n",
       "         z15   -1.3984   -0.4751   -0.0543    0.3735    1.2905\n",
       "         z16   -2.1514   -1.1028   -0.5649   -0.0955    0.7127\n",
       "         z17   -0.5451    0.2484    0.7843    1.3380    2.5413\n",
       "         z18   -1.6400   -0.6403   -0.1903    0.2345    1.1440\n",
       "         z19   -0.7690    0.0311    0.4650    1.0076    2.0926\n",
       "         z20   -0.7488    0.0910    0.5526    1.0886    2.0959\n"
      ]
     },
     "execution_count": 13,
     "metadata": {},
     "output_type": "execute_result"
    },
    {
     "name": "stderr",
     "output_type": "stream",
     "text": [
      "\u001b[33m\u001b[1m┌ \u001b[22m\u001b[39m\u001b[33m\u001b[1mWarning: \u001b[22m\u001b[39mTail ESS calculation failed: OverflowError(\"4750 * 4503599627370496 overflowed for type Int64\")\n",
      "\u001b[33m\u001b[1m└ \u001b[22m\u001b[39m\u001b[90m@ MCMCChains ~/.julia/packages/MCMCChains/OVsxE/src/stats.jl:319\u001b[39m\n"
     ]
    }
   ],
   "source": [
    "nuts_samples = sample(funnel_model, nuts, 5000; chain_type=MCMCChains.Chains)"
   ]
  },
  {
   "cell_type": "code",
   "execution_count": 24,
   "id": "f610b909",
   "metadata": {},
   "outputs": [
    {
     "name": "stderr",
     "output_type": "stream",
     "text": [
      "\u001b[32mSampling: 100%|█████████████████████████████████████████| Time: 0:00:01\u001b[39m\n"
     ]
    },
    {
     "data": {
      "text/plain": [
       "Chains MCMC chain (5000×32×1 Array{Real, 3}):\n",
       "\n",
       "Iterations        = 1:1:5000\n",
       "Number of chains  = 1\n",
       "Samples per chain = 5000\n",
       "parameters        = θ, z1, z2, z3, z4, z5, z6, z7, z8, z9, z10, z11, z12, z13, z14, z15, z16, z17, z18, z19, z20\n",
       "internals         = lp, n_steps, is_accept, acceptance_rate, log_density, hamiltonian_energy, hamiltonian_energy_error, numerical_error, step_size, nom_step_size, is_adapt\n",
       "\n",
       "Summary Statistics\n",
       " \u001b[1m parameters \u001b[0m \u001b[1m    mean \u001b[0m \u001b[1m     std \u001b[0m \u001b[1m    mcse \u001b[0m \u001b[1m   ess_bulk \u001b[0m \u001b[1m    rhat \u001b[0m \u001b[1m ess_per_se\u001b[0m ⋯\n",
       " \u001b[90m     Symbol \u001b[0m \u001b[90m Float64 \u001b[0m \u001b[90m Float64 \u001b[0m \u001b[90m Float64 \u001b[0m \u001b[90m       Real \u001b[0m \u001b[90m Float64 \u001b[0m \u001b[90m     Missin\u001b[0m ⋯\n",
       "\n",
       "           θ   -0.0750    0.8795    0.0490     551.7009    1.0008       missin ⋯\n",
       "          z1    0.6041    0.7343    0.0095    6000.9070    1.0004       missin ⋯\n",
       "          z2    0.6107    0.7176    0.0089    6785.2022    1.0028       missin ⋯\n",
       "          z3   -0.4193    0.7077    0.0060   14325.0623    1.0002       missin ⋯\n",
       "          z4    0.0834    0.6742    0.0050   18494.8500    1.0072       missin ⋯\n",
       "          z5    0.9500    0.7787    0.0135    3364.6234    1.0000       missin ⋯\n",
       "          z6   -1.6855    0.8960    0.0241    1266.1999    1.0027       missin ⋯\n",
       "          z7   -0.0490    0.7051    0.0052   18494.8500    1.0006       missin ⋯\n",
       "          z8    0.3341    0.7126    0.0055   18494.8500    1.0015       missin ⋯\n",
       "          z9   -1.6223    0.8843    0.0236    1312.6566    1.0001       missin ⋯\n",
       "         z10   -0.8295    0.7582    0.0127    3429.3864    0.9998       missin ⋯\n",
       "         z11    0.9615    0.7872    0.0140    3052.0483    1.0018       missin ⋯\n",
       "         z12    0.0541    0.6729    0.0049   18494.8500    1.0000       missin ⋯\n",
       "         z13    0.0543    0.7000    0.0051   18494.8500    1.0003       missin ⋯\n",
       "         z14   -0.2669    0.7530    0.0055   18494.8500    1.0016       missin ⋯\n",
       "         z15   -0.0568    0.7136    0.0052   18494.8500    1.0009       missin ⋯\n",
       "         z16   -0.6375    0.7384    0.0093    6500.0324    1.0014       missin ⋯\n",
       "         z17    0.8424    0.7532    0.0127    3510.3162    1.0002       missin ⋯\n",
       "         z18   -0.2251    0.7035    0.0052   18494.8500    1.0002       missin ⋯\n",
       "         z19    0.5360    0.7194    0.0081    8726.9399    1.0004       missin ⋯\n",
       "         z20    0.6007    0.7267    0.0087    7271.5314    1.0009       missin ⋯\n",
       "\u001b[36m                                                                1 column omitted\u001b[0m\n",
       "\n",
       "Quantiles\n",
       " \u001b[1m parameters \u001b[0m \u001b[1m    2.5% \u001b[0m \u001b[1m   25.0% \u001b[0m \u001b[1m   50.0% \u001b[0m \u001b[1m   75.0% \u001b[0m \u001b[1m   97.5% \u001b[0m\n",
       " \u001b[90m     Symbol \u001b[0m \u001b[90m Float64 \u001b[0m \u001b[90m Float64 \u001b[0m \u001b[90m Float64 \u001b[0m \u001b[90m Float64 \u001b[0m \u001b[90m Float64 \u001b[0m\n",
       "\n",
       "           θ   -2.4282   -0.4389    0.0580    0.4795    1.1923\n",
       "          z1   -0.7647    0.0978    0.5593    1.0548    2.1575\n",
       "          z2   -0.6690    0.1134    0.5655    1.0806    2.0803\n",
       "          z3   -1.8981   -0.8655   -0.3851    0.0415    0.9493\n",
       "          z4   -1.2934   -0.3562    0.0796    0.5224    1.4341\n",
       "          z5   -0.4388    0.3936    0.8982    1.4558    2.5911\n",
       "          z6   -3.5315   -2.2664   -1.6508   -1.0529   -0.0526\n",
       "          z7   -1.4229   -0.5108   -0.0556    0.4044    1.3742\n",
       "          z8   -1.0005   -0.1429    0.2995    0.7960    1.7744\n",
       "          z9   -3.4531   -2.2113   -1.6011   -0.9886   -0.0088\n",
       "         z10   -2.4234   -1.3065   -0.8015   -0.2990    0.5524\n",
       "         z11   -0.4675    0.3967    0.9297    1.4827    2.5910\n",
       "         z12   -1.2747   -0.3848    0.0452    0.4930    1.4019\n",
       "         z13   -1.3316   -0.3963    0.0415    0.5167    1.4520\n",
       "         z14   -1.8244   -0.7521   -0.2420    0.2252    1.2084\n",
       "         z15   -1.5205   -0.5109   -0.0512    0.4051    1.3591\n",
       "         z16   -2.2031   -1.1009   -0.5982   -0.1265    0.7402\n",
       "         z17   -0.5013    0.3109    0.7918    1.3174    2.4249\n",
       "         z18   -1.6453   -0.6880   -0.2037    0.2383    1.1083\n",
       "         z19   -0.7986    0.0345    0.5024    1.0042    2.0255\n",
       "         z20   -0.7399    0.0991    0.5676    1.0776    2.0989\n"
      ]
     },
     "execution_count": 24,
     "metadata": {},
     "output_type": "execute_result"
    },
    {
     "name": "stderr",
     "output_type": "stream",
     "text": [
      "\u001b[33m\u001b[1m┌ \u001b[22m\u001b[39m\u001b[33m\u001b[1mWarning: \u001b[22m\u001b[39mTail ESS calculation failed: OverflowError(\"4750 * 4503599627370496 overflowed for type Int64\")\n",
      "\u001b[33m\u001b[1m└ \u001b[22m\u001b[39m\u001b[90m@ MCMCChains ~/.julia/packages/MCMCChains/OVsxE/src/stats.jl:319\u001b[39m\n"
     ]
    }
   ],
   "source": [
    "hmc_samples = sample(funnel_model, hmc, 5000; chain_type=MCMCChains.Chains)"
   ]
  },
  {
   "cell_type": "code",
   "execution_count": 27,
   "id": "88df45a3",
   "metadata": {},
   "outputs": [
    {
     "name": "stderr",
     "output_type": "stream",
     "text": [
      "\u001b[32mSampling: 100%|█████████████████████████████████████████| Time: 0:00:00\u001b[39m\n"
     ]
    },
    {
     "data": {
      "text/plain": [
       "Chains MCMC chain (5000×32×1 Array{Real, 3}):\n",
       "\n",
       "Iterations        = 1:1:5000\n",
       "Number of chains  = 1\n",
       "Samples per chain = 5000\n",
       "parameters        = θ, z1, z2, z3, z4, z5, z6, z7, z8, z9, z10, z11, z12, z13, z14, z15, z16, z17, z18, z19, z20\n",
       "internals         = lp, n_steps, is_accept, acceptance_rate, log_density, hamiltonian_energy, hamiltonian_energy_error, numerical_error, step_size, nom_step_size, is_adapt\n",
       "\n",
       "Summary Statistics\n",
       " \u001b[1m parameters \u001b[0m \u001b[1m    mean \u001b[0m \u001b[1m     std \u001b[0m \u001b[1m    mcse \u001b[0m \u001b[1m  ess_bulk \u001b[0m \u001b[1m    rhat \u001b[0m \u001b[1m ess_per_sec\u001b[0m ⋯\n",
       " \u001b[90m     Symbol \u001b[0m \u001b[90m Float64 \u001b[0m \u001b[90m Float64 \u001b[0m \u001b[90m Float64 \u001b[0m \u001b[90m      Real \u001b[0m \u001b[90m Float64 \u001b[0m \u001b[90m     Missing\u001b[0m ⋯\n",
       "\n",
       "           θ   -0.1591    0.9362    0.0666    348.6466    1.0009       missing ⋯\n",
       "          z1    0.5591    0.7099    0.0163   1920.3022    1.0007       missing ⋯\n",
       "          z2    0.6117    0.7315    0.0163   2095.0534    1.0014       missing ⋯\n",
       "          z3   -0.4060    0.7099    0.0152   2243.3603    0.9999       missing ⋯\n",
       "          z4    0.0829    0.6762    0.0121   3154.9764    1.0003       missing ⋯\n",
       "          z5    0.9303    0.7863    0.0238   1121.4073    1.0002       missing ⋯\n",
       "          z6   -1.6197    0.9277    0.0387    545.2135    1.0001       missing ⋯\n",
       "          z7   -0.0679    0.6910    0.0118   3451.4193    1.0009       missing ⋯\n",
       "          z8    0.3141    0.7068    0.0125   3238.4297    1.0003       missing ⋯\n",
       "          z9   -1.5437    0.8985    0.0383    524.5211    0.9998       missing ⋯\n",
       "         z10   -0.7786    0.7469    0.0207   1332.0454    1.0002       missing ⋯\n",
       "         z11    0.9259    0.7657    0.0247    978.3012    0.9998       missing ⋯\n",
       "         z12    0.0360    0.6756    0.0120   3200.7165    0.9999       missing ⋯\n",
       "         z13    0.0496    0.6994    0.0123   3262.0220    1.0017       missing ⋯\n",
       "         z14   -0.2572    0.6892    0.0127   3015.8925    1.0005       missing ⋯\n",
       "         z15   -0.0772    0.6872    0.0123   3142.8340    0.9998       missing ⋯\n",
       "         z16   -0.6354    0.7243    0.0188   1543.1627    1.0000       missing ⋯\n",
       "         z17    0.8027    0.7463    0.0198   1429.8788    1.0000       missing ⋯\n",
       "         z18   -0.1998    0.6993    0.0128   3058.1828    1.0011       missing ⋯\n",
       "         z19    0.4990    0.7138    0.0162   1990.1035    0.9999       missing ⋯\n",
       "         z20    0.5991    0.7320    0.0176   1798.1173    1.0001       missing ⋯\n",
       "\n",
       "Quantiles\n",
       " \u001b[1m parameters \u001b[0m \u001b[1m    2.5% \u001b[0m \u001b[1m   25.0% \u001b[0m \u001b[1m   50.0% \u001b[0m \u001b[1m   75.0% \u001b[0m \u001b[1m   97.5% \u001b[0m\n",
       " \u001b[90m     Symbol \u001b[0m \u001b[90m Float64 \u001b[0m \u001b[90m Float64 \u001b[0m \u001b[90m Float64 \u001b[0m \u001b[90m Float64 \u001b[0m \u001b[90m Float64 \u001b[0m\n",
       "\n",
       "           θ   -2.7158   -0.5225    0.0006    0.4202    1.1458\n",
       "          z1   -0.7621    0.0626    0.5251    1.0158    2.0148\n",
       "          z2   -0.6895    0.1030    0.5557    1.0781    2.1310\n",
       "          z3   -1.9125   -0.8562   -0.3812    0.0738    0.9304\n",
       "          z4   -1.2650   -0.3448    0.0718    0.5129    1.4662\n",
       "          z5   -0.4034    0.3424    0.8884    1.4430    2.5752\n",
       "          z6   -3.5512   -2.2256   -1.5758   -0.9400    0.0111\n",
       "          z7   -1.4500   -0.5098   -0.0553    0.3693    1.3051\n",
       "          z8   -1.0449   -0.1419    0.2867    0.7819    1.7623\n",
       "          z9   -3.4110   -2.1455   -1.5218   -0.8838    0.0088\n",
       "         z10   -2.3515   -1.2726   -0.7209   -0.2350    0.5200\n",
       "         z11   -0.4021    0.3659    0.8909    1.4133    2.5680\n",
       "         z12   -1.3001   -0.3863    0.0434    0.4503    1.3794\n",
       "         z13   -1.3456   -0.3851    0.0440    0.4963    1.4311\n",
       "         z14   -1.7195   -0.7027   -0.2230    0.1933    1.0674\n",
       "         z15   -1.4567   -0.5102   -0.0682    0.3588    1.3193\n",
       "         z16   -2.1807   -1.0864   -0.5986   -0.1333    0.6827\n",
       "         z17   -0.4832    0.2573    0.7535    1.2873    2.3884\n",
       "         z18   -1.6664   -0.6388   -0.1691    0.2458    1.1591\n",
       "         z19   -0.8211    0.0140    0.4454    0.9640    2.0001\n",
       "         z20   -0.7174    0.0954    0.5386    1.0655    2.2082\n"
      ]
     },
     "execution_count": 27,
     "metadata": {},
     "output_type": "execute_result"
    },
    {
     "name": "stderr",
     "output_type": "stream",
     "text": [
      "\u001b[33m\u001b[1m┌ \u001b[22m\u001b[39m\u001b[33m\u001b[1mWarning: \u001b[22m\u001b[39mTail ESS calculation failed: OverflowError(\"4750 * 4503599627370496 overflowed for type Int64\")\n",
      "\u001b[33m\u001b[1m└ \u001b[22m\u001b[39m\u001b[90m@ MCMCChains ~/.julia/packages/MCMCChains/OVsxE/src/stats.jl:319\u001b[39m\n"
     ]
    }
   ],
   "source": [
    "hmcda_samples = sample(funnel_model, hmcda, 5000; chain_type=MCMCChains.Chains)"
   ]
  },
  {
   "attachments": {},
   "cell_type": "markdown",
   "id": "bbf0131e",
   "metadata": {},
   "source": [
    "### Plotting"
   ]
  },
  {
   "cell_type": "code",
   "execution_count": 29,
   "id": "9c61e0ab",
   "metadata": {},
   "outputs": [],
   "source": [
    "theta_nuts = Vector(nuts_samples[\"θ\"][:, 1])\n",
    "x10_nuts =Vector(nuts_samples[\"z10\"][:, 1]);"
   ]
  },
  {
   "cell_type": "code",
   "execution_count": 35,
   "id": "0b0923f1",
   "metadata": {},
   "outputs": [],
   "source": [
    "theta_hmc = Vector(hmc_samples[\"θ\"][:, 1])\n",
    "x10_hmc =Vector(hmc_samples[\"z10\"][:, 1]);"
   ]
  },
  {
   "cell_type": "code",
   "execution_count": 32,
   "id": "fec8ace5",
   "metadata": {},
   "outputs": [],
   "source": [
    "theta_hmcda = Vector(hmcda_samples[\"θ\"][:, 1])\n",
    "x10_hmcda =Vector(hmcda_samples[\"z10\"][:, 1]);"
   ]
  },
  {
   "cell_type": "code",
   "execution_count": 39,
   "id": "8869229b",
   "metadata": {},
   "outputs": [
    {
     "data": {
      "image/png": "[encoded data removed]",
      "text/plain": [
       "Figure(PyObject <Figure size 800x800 with 3 Axes>)"
      ]
     },
     "metadata": {},
     "output_type": "display_data"
    }
   ],
   "source": [
    "fig, axis = plt.subplots(2, 2, figsize=(8,8))\n",
    "fig.suptitle(\"NUTS - 21-D Neal's Funnel\", fontsize=16)\n",
    "\n",
    "fig.delaxes(axis[1,2])\n",
    "fig.subplots_adjust(hspace=0)\n",
    "fig.subplots_adjust(wspace=0)\n",
    "\n",
    "axis[1,1].hist(x10_nuts, bins=100, range=[-6,2])\n",
    "axis[1,1].set_yticks([])\n",
    "\n",
    "axis[2,2].hist(theta_nuts, bins=100, orientation=\"horizontal\", range=[-4, 2])\n",
    "axis[2,2].set_xticks([])\n",
    "axis[2,2].set_yticks([])\n",
    "\n",
    "axis[2,1].hist2d(x10_nuts, theta_nuts, bins=100, range=[[-6,2],[-4, 2]])\n",
    "axis[2,1].set_xlabel(\"x10\")\n",
    "axis[2,1].set_ylabel(\"theta\");"
   ]
  },
  {
   "cell_type": "code",
   "execution_count": 42,
   "id": "fe4c8b70",
   "metadata": {},
   "outputs": [
    {
     "data": {
      "image/png": "[encoded data removed]",
      "text/plain": [
       "Figure(PyObject <Figure size 800x800 with 3 Axes>)"
      ]
     },
     "metadata": {},
     "output_type": "display_data"
    }
   ],
   "source": [
    "fig, axis = plt.subplots(2, 2, figsize=(8,8))\n",
    "fig.suptitle(\"HMC - 21-D Neal's Funnel\", fontsize=16)\n",
    "\n",
    "fig.delaxes(axis[1,2])\n",
    "fig.subplots_adjust(hspace=0)\n",
    "fig.subplots_adjust(wspace=0)\n",
    "\n",
    "axis[1,1].hist(x10_hmc, bins=100, range=[-6,2])\n",
    "axis[1,1].set_yticks([])\n",
    "\n",
    "axis[2,2].hist(theta_hmc, bins=100, orientation=\"horizontal\", range=[-4, 2])\n",
    "axis[2,2].set_xticks([])\n",
    "axis[2,2].set_yticks([])\n",
    "\n",
    "axis[2,1].hist2d(x10_hmc, theta_hmc, bins=100, range=[[-6,2],[-4, 2]])\n",
    "axis[2,1].set_xlabel(\"x10\")\n",
    "axis[2,1].set_ylabel(\"theta\");"
   ]
  },
  {
   "cell_type": "code",
   "execution_count": 41,
   "id": "2c9052ab",
   "metadata": {},
   "outputs": [
    {
     "data": {
      "image/png": "[encoded data removed]",
      "text/plain": [
       "Figure(PyObject <Figure size 800x800 with 3 Axes>)"
      ]
     },
     "metadata": {},
     "output_type": "display_data"
    }
   ],
   "source": [
    "fig, axis = plt.subplots(2, 2, figsize=(8,8))\n",
    "fig.suptitle(\"HMCDA - 21-D  Neal's Funnel\", fontsize=16)\n",
    "\n",
    "fig.delaxes(axis[1,2])\n",
    "fig.subplots_adjust(hspace=0)\n",
    "fig.subplots_adjust(wspace=0)\n",
    "\n",
    "axis[1,1].hist(x10_hmcda, bins=100, range=[-6,2])\n",
    "axis[1,1].set_yticks([])\n",
    "\n",
    "axis[2,2].hist(theta_hmcda, bins=100, orientation=\"horizontal\", range=[-4, 2])\n",
    "axis[2,2].set_xticks([])\n",
    "axis[2,2].set_yticks([])\n",
    "\n",
    "axis[2,1].hist2d(x10_hmcda, theta_hmcda, bins=100, range=[[-6,2],[-4, 2]])\n",
    "axis[2,1].set_xlabel(\"x10\")\n",
    "axis[2,1].set_ylabel(\"theta\");"
   ]
  },
  {
   "attachments": {},
   "cell_type": "markdown",
   "id": "843becb3",
   "metadata": {},
   "source": []
  },
  {
   "attachments": {},
   "cell_type": "markdown",
   "id": "e589a88e",
   "metadata": {},
   "source": [
    "## Sampling w Turing"
   ]
  },
  {
   "cell_type": "code",
   "execution_count": null,
   "id": "99c0baa6",
   "metadata": {},
   "outputs": [],
   "source": [
    "using Turing"
   ]
  },
  {
   "cell_type": "code",
   "execution_count": null,
   "id": "4b21a3c3",
   "metadata": {},
   "outputs": [],
   "source": [
    "TAP = 0.95\n",
    "nadapts = 300\n",
    "spl = Turing.NUTS(nadapts, TAP)"
   ]
  },
  {
   "cell_type": "code",
   "execution_count": null,
   "id": "74b110a2",
   "metadata": {},
   "outputs": [],
   "source": [
    "Turing.sample(funnel_model, spl, 50_000, progress=true; save_state=true)"
   ]
  }
 ],
 "metadata": {
  "kernelspec": {
   "display_name": "Julia 1.9.0",
   "language": "julia",
   "name": "julia-1.9"
  },
  "language_info": {
   "file_extension": ".jl",
   "mimetype": "application/julia",
   "name": "julia",
   "version": "1.9.0"
  }
 },
 "nbformat": 4,
 "nbformat_minor": 5
}
