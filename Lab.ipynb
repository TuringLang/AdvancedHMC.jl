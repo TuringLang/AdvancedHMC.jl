{
 "cells": [
  {
   "attachments": {},
   "cell_type": "markdown",
   "id": "91129cb1",
   "metadata": {},
   "source": [
    "# No-glue-code"
   ]
  },
  {
   "cell_type": "code",
   "execution_count": 1,
   "id": "896323ee",
   "metadata": {},
   "outputs": [
    {
     "name": "stderr",
     "output_type": "stream",
     "text": [
      "\u001b[32m\u001b[1m  Activating\u001b[22m\u001b[39m project at `~/Cambdrige`\n"
     ]
    }
   ],
   "source": [
    "using Pkg\n",
    "Pkg.activate(\"..\")"
   ]
  },
  {
   "cell_type": "code",
   "execution_count": 2,
   "id": "baed58e3",
   "metadata": {},
   "outputs": [
    {
     "name": "stderr",
     "output_type": "stream",
     "text": [
      "\u001b[36m\u001b[1m[ \u001b[22m\u001b[39m\u001b[36m\u001b[1mInfo: \u001b[22m\u001b[39mPrecompiling AdvancedHMC [0bf59076-c3b1-5ca4-86bd-e02cd72cde3d]\n",
      "\u001b[36m\u001b[1m[ \u001b[22m\u001b[39m\u001b[36m\u001b[1mInfo: \u001b[22m\u001b[39mPrecompiling Turing [fce5fe82-541a-59a6-adf8-730c64b5f9a0]\n"
     ]
    }
   ],
   "source": [
    "# The statistical inference frame-work we will use\n",
    "using LogDensityProblems\n",
    "using LogDensityProblemsAD\n",
    "using DynamicPPL\n",
    "using ForwardDiff\n",
    "using Random\n",
    "using LinearAlgebra\n",
    "\n",
    "#Plotting\n",
    "using PyPlot\n",
    "\n",
    "#What we are tweaking\n",
    "using Revise\n",
    "using AdvancedHMC\n",
    "using Turing"
   ]
  },
  {
   "attachments": {},
   "cell_type": "markdown",
   "id": "3d76390f",
   "metadata": {},
   "source": [
    "## Model"
   ]
  },
  {
   "cell_type": "code",
   "execution_count": 3,
   "id": "a7d6f81c",
   "metadata": {},
   "outputs": [
    {
     "data": {
      "text/plain": [
       "funnel (generic function with 2 methods)"
      ]
     },
     "execution_count": 3,
     "metadata": {},
     "output_type": "execute_result"
    }
   ],
   "source": [
    "# Just a simple Neal Funnel\n",
    "d = 21\n",
    "@model function funnel()\n",
    "    θ ~ Normal(0, 3)\n",
    "    z ~ MvNormal(zeros(d-1), exp(θ)*I)\n",
    "    x ~ MvNormal(z, I)\n",
    "end"
   ]
  },
  {
   "cell_type": "code",
   "execution_count": 4,
   "id": "5f408f2b",
   "metadata": {},
   "outputs": [
    {
     "data": {
      "text/plain": [
       "Model{typeof(funnel), (), (), (), Tuple{}, Tuple{}, ConditionContext{NamedTuple{(:x,), Tuple{Vector{Float64}}}, DefaultContext}}(funnel, NamedTuple(), NamedTuple(), ConditionContext((x = [1.2142074831535152, 1.23371919965455, -0.8480146960461767, 0.1600994648479841, 1.9180385508479283, -3.401523464506408, -0.0957684186471088, 0.6734622629464286, -3.2749467689509633, -1.6760091758453226, 1.9567202902549736, 0.1136169088905351, 0.11117896909388916, -0.5373922347882832, -0.12436857036298687, -1.2901071061088532, 1.702584517514787, -0.44460133117954226, 1.0818722439221686, 1.2208011493237483],), DefaultContext()))"
      ]
     },
     "execution_count": 4,
     "metadata": {},
     "output_type": "execute_result"
    }
   ],
   "source": [
    "Random.seed!(1)\n",
    "(;x) = rand(funnel() | (θ=0,))\n",
    "funnel_model = funnel() | (;x)"
   ]
  },
  {
   "attachments": {},
   "cell_type": "markdown",
   "id": "10dfa4cc",
   "metadata": {},
   "source": [
    "## Turing interface"
   ]
  },
  {
   "cell_type": "code",
   "execution_count": 31,
   "id": "be8a75dd",
   "metadata": {},
   "outputs": [
    {
     "data": {
      "text/plain": [
       "Sampler"
      ]
     },
     "execution_count": 31,
     "metadata": {},
     "output_type": "execute_result"
    }
   ],
   "source": [
    "struct Sampler\n",
    "    metric\n",
    "    integrator\n",
    "    adaptor\n",
    "    proposal\n",
    "end\n",
    "\n",
    "Sampler(ϵ::Number, TAP::Number) = begin\n",
    "    metric =  DiagEuclideanMetric(d)\n",
    "    integrator = Leapfrog(ϵ)\n",
    "    proposal = AdvancedHMC.NUTS{MultinomialTS, GeneralisedNoUTurn}(integrator)\n",
    "    adaptor = StanHMCAdaptor(MassMatrixAdaptor(metric), StepSizeAdaptor(TAP, integrator))\n",
    "    \n",
    "    Sampler(\n",
    "        metric,\n",
    "        integrator,\n",
    "        adaptor,\n",
    "        proposal)\n",
    "end"
   ]
  },
  {
   "cell_type": "code",
   "execution_count": 32,
   "id": "baaf795f",
   "metadata": {},
   "outputs": [
    {
     "ename": "LoadError",
     "evalue": "TypeError: in Type{...} expression, expected UnionAll, got Type{AdvancedHMC.NUTS}",
     "output_type": "error",
     "traceback": [
      "TypeError: in Type{...} expression, expected UnionAll, got Type{AdvancedHMC.NUTS}",
      "",
      "Stacktrace:",
      " [1] Sampler(ϵ::Float64, TAP::Float64)",
      "   @ Main ./In[31]:11",
      " [2] top-level scope",
      "   @ In[32]:3"
     ]
    }
   ],
   "source": [
    "initial_θ = randn(21)\n",
    "initial_ϵ = 0.1 #find_good_stepsize(hamiltonian, initial_θ)\n",
    "spl = Sampler(initial_ϵ, 0.95)"
   ]
  },
  {
   "attachments": {},
   "cell_type": "markdown",
   "id": "3ac319cb",
   "metadata": {},
   "source": [
    "### Sampling"
   ]
  },
  {
   "cell_type": "code",
   "execution_count": null,
   "id": "c516fd54",
   "metadata": {},
   "outputs": [
    {
     "ename": "LoadError",
     "evalue": "TypeError: in Type{...} expression, expected UnionAll, got Type{AdvancedHMC.NUTS}",
     "output_type": "error",
     "traceback": [
      "TypeError: in Type{...} expression, expected UnionAll, got Type{AdvancedHMC.NUTS}",
      "",
      "Stacktrace:",
      " [1] sample(model::Model{typeof(funnel), (), (), (), Tuple{}, Tuple{}, ConditionContext{NamedTuple{(:x,), Tuple{Vector{Float64}}}, DefaultContext}}, ϵ::Float64, TAP::Float64, n_samples::Int64, n_adapts::Int64; initial_θ::Vector{Float64}, progress::Bool, kwargs::Base.Pairs{Symbol, Union{}, Tuple{}, NamedTuple{(), Tuple{}}})",
      "   @ AdvancedHMC ~/Cambdrige/AdvancedHMC.jl/src/sampler.jl:188",
      " [2] top-level scope",
      "   @ In[14]:2"
     ]
    }
   ],
   "source": [
    "n_samples, n_adapts = 10_000, 1_000\n",
    "samples, stats = sample(funnel_model, 0.1, 0.95, n_samples, n_adapts; initial_θ=initial_θ);"
   ]
  },
  {
   "attachments": {},
   "cell_type": "markdown",
   "id": "7839a767",
   "metadata": {},
   "source": [
    "### Plotting"
   ]
  },
  {
   "cell_type": "code",
   "execution_count": null,
   "id": "2a803eb8",
   "metadata": {},
   "outputs": [
    {
     "ename": "LoadError",
     "evalue": "UndefVarError: `samples` not defined",
     "output_type": "error",
     "traceback": [
      "UndefVarError: `samples` not defined",
      "",
      "Stacktrace:",
      " [1] top-level scope",
      "   @ In[15]:1"
     ]
    }
   ],
   "source": [
    "theta_mchmc = [sample[1] for sample in samples]\n",
    "x10_mchmc = [sample[10+1] for sample in samples];"
   ]
  },
  {
   "cell_type": "code",
   "execution_count": null,
   "id": "00f17868",
   "metadata": {},
   "outputs": [
    {
     "ename": "LoadError",
     "evalue": "UndefVarError: `x10_mchmc` not defined",
     "output_type": "error",
     "traceback": [
      "UndefVarError: `x10_mchmc` not defined",
      "",
      "Stacktrace:",
      " [1] top-level scope",
      "   @ In[16]:8"
     ]
    }
   ],
   "source": [
    "fig, axis = plt.subplots(2, 2, figsize=(8,8))\n",
    "fig.suptitle(\"Neal's Funnel\", fontsize=16)\n",
    "\n",
    "fig.delaxes(axis[1,2])\n",
    "fig.subplots_adjust(hspace=0)\n",
    "fig.subplots_adjust(wspace=0)\n",
    "\n",
    "axis[1,1].hist(x10_mchmc, bins=100, range=[-6,2])\n",
    "axis[1,1].set_yticks([])\n",
    "\n",
    "axis[2,2].hist(theta_mchmc, bins=100, orientation=\"horizontal\", range=[-4, 2])\n",
    "axis[2,2].set_xticks([])\n",
    "axis[2,2].set_yticks([])\n",
    "\n",
    "axis[2,1].hist2d(x10_mchmc, theta_mchmc, bins=100, range=[[-6,2],[-4, 2]])\n",
    "axis[2,1].set_xlabel(\"x10\")\n",
    "axis[2,1].set_ylabel(\"theta\");"
   ]
  },
  {
   "attachments": {},
   "cell_type": "markdown",
   "id": "440a65f3",
   "metadata": {},
   "source": []
  },
  {
   "attachments": {},
   "cell_type": "markdown",
   "id": "d852c160",
   "metadata": {},
   "source": [
    "## Sampling w AbstractMCMC"
   ]
  },
  {
   "cell_type": "code",
   "execution_count": 33,
   "id": "486d475d",
   "metadata": {},
   "outputs": [
    {
     "data": {
      "text/plain": [
       "AdvancedHMC.NUTS(500, 0.95, 10, 1000.0, 0.1, nothing, Leapfrog, AdvancedHMC.NUTS_kernel{MultinomialTS, GeneralisedNoUTurn}, AdvancedHMC.var\"#adaptor#38\"{Float64}(0.95))"
      ]
     },
     "execution_count": 33,
     "metadata": {},
     "output_type": "execute_result"
    }
   ],
   "source": [
    "using MCMCChains\n",
    "\n",
    "nadapts=500 \n",
    "TAP=0.95\n",
    "nuts = AdvancedHMC.NUTS(nadapts, TAP; init_ϵ=0.1)"
   ]
  },
  {
   "cell_type": "code",
   "execution_count": 37,
   "id": "b0193663",
   "metadata": {},
   "outputs": [
    {
     "name": "stderr",
     "output_type": "stream",
     "text": [
      "\u001b[33m\u001b[1m┌ \u001b[22m\u001b[39m\u001b[33m\u001b[1mWarning: \u001b[22m\u001b[39mProgressMeter by default refresh meters with additional information in IJulia via `IJulia.clear_output`, which clears all outputs in the cell. \n",
      "\u001b[33m\u001b[1m│ \u001b[22m\u001b[39m - To prevent this behaviour, do `ProgressMeter.ijulia_behavior(:append)`. \n",
      "\u001b[33m\u001b[1m│ \u001b[22m\u001b[39m - To disable this warning message, do `ProgressMeter.ijulia_behavior(:clear)`.\n",
      "\u001b[33m\u001b[1m└ \u001b[22m\u001b[39m\u001b[90m@ ProgressMeter ~/.julia/packages/ProgressMeter/sN2xr/src/ProgressMeter.jl:618\u001b[39m\n",
      "\r\u001b[32mSampling 100%|███████████████████████████████| Time: 0:00:02\u001b[39m\r\n",
      "\u001b[34m  iterations:                                   5000\u001b[39m\r\n",
      "\u001b[34m  ratio_divergent_transitions:                  0.0\u001b[39m\r\n",
      "\u001b[34m  ratio_divergent_transitions_during_adaption:  0.0\u001b[39m\r\n",
      "\u001b[34m  n_steps:                                      31\u001b[39m\r\n",
      "\u001b[34m  is_accept:                                    true\u001b[39m\r\n",
      "\u001b[34m  acceptance_rate:                              0.9972711825204867\u001b[39m\r\n",
      "\u001b[34m  log_density:                                  -66.96166284016837\u001b[39m\r\n",
      "\u001b[34m  hamiltonian_energy:                           77.91847431602888\u001b[39m\r\n",
      "\u001b[34m  hamiltonian_energy_error:                     0.003880195070948389\u001b[39m\r\n",
      "\u001b[34m  max_hamiltonian_energy_error:                 -0.013804790095534258\u001b[39m\r\n",
      "\u001b[34m  tree_depth:                                   5\u001b[39m\r\n",
      "\u001b[34m  numerical_error:                              false\u001b[39m\r\n",
      "\u001b[34m  step_size:                                    0.1\u001b[39m\r\n",
      "\u001b[34m  nom_step_size:                                0.1\u001b[39m\r\n",
      "\u001b[34m  is_adapt:                                     false\u001b[39m\r\n",
      "\u001b[34m  mass_matrix:                                  DiagEuclideanMetric([1.0, 1.0, 1.0, 1.0, 1.0, 1 ...])\u001b[39m\n"
     ]
    },
    {
     "data": {
      "text/plain": [
       "Chains MCMC chain (5000×34×1 Array{Real, 3}):\n",
       "\n",
       "Iterations        = 1:1:5000\n",
       "Number of chains  = 1\n",
       "Samples per chain = 5000\n",
       "parameters        = θ, z1, z2, z3, z4, z5, z6, z7, z8, z9, z10, z11, z12, z13, z14, z15, z16, z17, z18, z19, z20\n",
       "internals         = lp, n_steps, is_accept, acceptance_rate, log_density, hamiltonian_energy, hamiltonian_energy_error, max_hamiltonian_energy_error, tree_depth, numerical_error, step_size, nom_step_size, is_adapt\n",
       "\n",
       "Summary Statistics\n",
       " \u001b[1m parameters \u001b[0m \u001b[1m    mean \u001b[0m \u001b[1m     std \u001b[0m \u001b[1m    mcse \u001b[0m \u001b[1m   ess_bulk \u001b[0m \u001b[1m    rhat \u001b[0m \u001b[1m ess_per_se\u001b[0m ⋯\n",
       " \u001b[90m     Symbol \u001b[0m \u001b[90m Float64 \u001b[0m \u001b[90m Float64 \u001b[0m \u001b[90m Float64 \u001b[0m \u001b[90m       Real \u001b[0m \u001b[90m Float64 \u001b[0m \u001b[90m     Missin\u001b[0m ⋯\n",
       "\n",
       "           θ   -0.1142    0.9101    0.0586     438.4964    1.0030       missin ⋯\n",
       "          z1    0.5951    0.7297    0.0125    3573.6057    1.0001       missin ⋯\n",
       "          z2    0.5975    0.7256    0.0127    3211.0596    1.0002       missin ⋯\n",
       "          z3   -0.4172    0.7031    0.0102    4921.0006    1.0003       missin ⋯\n",
       "          z4    0.0834    0.6897    0.0066   11053.8383    1.0001       missin ⋯\n",
       "          z5    0.9380    0.7870    0.0197    1558.6845    1.0005       missin ⋯\n",
       "          z6   -1.6607    0.9404    0.0338     713.5510    1.0015       missin ⋯\n",
       "          z7   -0.0488    0.7152    0.0072    9860.1140    1.0004       missin ⋯\n",
       "          z8    0.3373    0.7075    0.0088    6613.3255    1.0000       missin ⋯\n",
       "          z9   -1.5898    0.9030    0.0310     798.0804    1.0007       missin ⋯\n",
       "         z10   -0.8176    0.7483    0.0168    2042.7808    1.0007       missin ⋯\n",
       "         z11    0.9678    0.7936    0.0205    1456.7962    1.0009       missin ⋯\n",
       "         z12    0.0704    0.7093    0.0076    8631.8765    1.0014       missin ⋯\n",
       "         z13    0.0540    0.6963    0.0068   10316.4681    1.0004       missin ⋯\n",
       "         z14   -0.2689    0.6955    0.0082    7391.8059    1.0007       missin ⋯\n",
       "         z15   -0.0501    0.6776    0.0070    9489.4594    1.0001       missin ⋯\n",
       "         z16   -0.6249    0.7406    0.0131    3324.0001    1.0001       missin ⋯\n",
       "         z17    0.8342    0.7784    0.0177    1990.5056    1.0011       missin ⋯\n",
       "         z18   -0.2172    0.7234    0.0081    8076.9260    1.0007       missin ⋯\n",
       "         z19    0.5269    0.7269    0.0111    4450.8085    1.0000       missin ⋯\n",
       "         z20    0.6031    0.7451    0.0136    3051.5405    1.0002       missin ⋯\n",
       "\u001b[36m                                                                1 column omitted\u001b[0m\n",
       "\n",
       "Quantiles\n",
       " \u001b[1m parameters \u001b[0m \u001b[1m    2.5% \u001b[0m \u001b[1m   25.0% \u001b[0m \u001b[1m   50.0% \u001b[0m \u001b[1m   75.0% \u001b[0m \u001b[1m   97.5% \u001b[0m\n",
       " \u001b[90m     Symbol \u001b[0m \u001b[90m Float64 \u001b[0m \u001b[90m Float64 \u001b[0m \u001b[90m Float64 \u001b[0m \u001b[90m Float64 \u001b[0m \u001b[90m Float64 \u001b[0m\n",
       "\n",
       "           θ   -2.7268   -0.4391    0.0589    0.4664    1.1428\n",
       "          z1   -0.7259    0.0909    0.5531    1.0597    2.1330\n",
       "          z2   -0.7320    0.0968    0.5510    1.0765    2.1194\n",
       "          z3   -1.8865   -0.8567   -0.3753    0.0600    0.8964\n",
       "          z4   -1.2797   -0.3649    0.0767    0.5289    1.4626\n",
       "          z5   -0.4116    0.3645    0.9002    1.4369    2.6065\n",
       "          z6   -3.5659   -2.2948   -1.6398   -0.9795    0.0053\n",
       "          z7   -1.4645   -0.5076   -0.0417    0.4085    1.3643\n",
       "          z8   -0.9988   -0.1268    0.2998    0.7856    1.7950\n",
       "          z9   -3.4437   -2.1926   -1.5837   -0.9423    0.0058\n",
       "         z10   -2.4030   -1.3111   -0.7790   -0.2682    0.4994\n",
       "         z11   -0.3932    0.3855    0.9154    1.5127    2.5882\n",
       "         z12   -1.3413   -0.3642    0.0643    0.5040    1.5063\n",
       "         z13   -1.3358   -0.3946    0.0440    0.5027    1.4182\n",
       "         z14   -1.6791   -0.7329   -0.2367    0.1877    1.0967\n",
       "         z15   -1.4014   -0.4767   -0.0412    0.3713    1.3082\n",
       "         z16   -2.1662   -1.1304   -0.5729   -0.0965    0.7186\n",
       "         z17   -0.5451    0.2592    0.7955    1.3518    2.4927\n",
       "         z18   -1.7027   -0.6660   -0.1872    0.2486    1.1677\n",
       "         z19   -0.7848    0.0301    0.4696    1.0010    2.0437\n",
       "         z20   -0.8105    0.0845    0.5635    1.0963    2.1569\n"
      ]
     },
     "execution_count": 37,
     "metadata": {},
     "output_type": "execute_result"
    },
    {
     "name": "stderr",
     "output_type": "stream",
     "text": [
      "\u001b[33m\u001b[1m┌ \u001b[22m\u001b[39m\u001b[33m\u001b[1mWarning: \u001b[22m\u001b[39mTail ESS calculation failed: OverflowError(\"4750 * 4503599627370496 overflowed for type Int64\")\n",
      "\u001b[33m\u001b[1m└ \u001b[22m\u001b[39m\u001b[90m@ MCMCChains ~/.julia/packages/MCMCChains/OVsxE/src/stats.jl:319\u001b[39m\n"
     ]
    }
   ],
   "source": [
    "Asamples = sample(funnel_model, nuts, 5000; chain_type=MCMCChains.Chains)"
   ]
  },
  {
   "attachments": {},
   "cell_type": "markdown",
   "id": "bbf0131e",
   "metadata": {},
   "source": [
    "### Plotting"
   ]
  },
  {
   "cell_type": "code",
   "execution_count": 38,
   "id": "9c61e0ab",
   "metadata": {},
   "outputs": [],
   "source": [
    "theta_mchmc = Vector(Asamples[\"θ\"][:, 1])\n",
    "x10_mchmc =Vector(Asamples[\"z10\"][:, 1]);"
   ]
  },
  {
   "cell_type": "code",
   "execution_count": 39,
   "id": "8869229b",
   "metadata": {},
   "outputs": [
    {
     "data": {
      "image/png": "[encoded data removed]",
      "text/plain": [
       "Figure(PyObject <Figure size 800x800 with 3 Axes>)"
      ]
     },
     "metadata": {},
     "output_type": "display_data"
    }
   ],
   "source": [
    "fig, axis = plt.subplots(2, 2, figsize=(8,8))\n",
    "fig.suptitle(\"Neal's Funnel\", fontsize=16)\n",
    "\n",
    "fig.delaxes(axis[1,2])\n",
    "fig.subplots_adjust(hspace=0)\n",
    "fig.subplots_adjust(wspace=0)\n",
    "\n",
    "axis[1,1].hist(x10_mchmc, bins=100, range=[-6,2])\n",
    "axis[1,1].set_yticks([])\n",
    "\n",
    "axis[2,2].hist(theta_mchmc, bins=100, orientation=\"horizontal\", range=[-4, 2])\n",
    "axis[2,2].set_xticks([])\n",
    "axis[2,2].set_yticks([])\n",
    "\n",
    "axis[2,1].hist2d(x10_mchmc, theta_mchmc, bins=100, range=[[-6,2],[-4, 2]])\n",
    "axis[2,1].set_xlabel(\"x10\")\n",
    "axis[2,1].set_ylabel(\"theta\");"
   ]
  },
  {
   "attachments": {},
   "cell_type": "markdown",
   "id": "e589a88e",
   "metadata": {},
   "source": [
    "## Sampling w Turing"
   ]
  },
  {
   "cell_type": "code",
   "execution_count": null,
   "id": "99c0baa6",
   "metadata": {},
   "outputs": [],
   "source": [
    "using Turing"
   ]
  },
  {
   "cell_type": "code",
   "execution_count": null,
   "id": "4b21a3c3",
   "metadata": {},
   "outputs": [],
   "source": [
    "TAP = 0.95\n",
    "nadapts = 300\n",
    "spl = Turing.NUTS(nadapts, TAP)"
   ]
  },
  {
   "cell_type": "code",
   "execution_count": null,
   "id": "74b110a2",
   "metadata": {},
   "outputs": [],
   "source": [
    "Turing.sample(funnel_model, spl, 50_000, progress=true; save_state=true)"
   ]
  }
 ],
 "metadata": {
  "kernelspec": {
   "display_name": "Julia 1.9.0",
   "language": "julia",
   "name": "julia-1.9"
  },
  "language_info": {
   "file_extension": ".jl",
   "mimetype": "application/julia",
   "name": "julia",
   "version": "1.9.0"
  }
 },
 "nbformat": 4,
 "nbformat_minor": 5
}
