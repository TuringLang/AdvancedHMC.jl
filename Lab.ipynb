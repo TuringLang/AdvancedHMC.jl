{
 "cells": [
  {
   "cell_type": "markdown",
   "id": "91129cb1",
   "metadata": {},
   "source": [
    "# No-glue-code"
   ]
  },
  {
   "cell_type": "code",
   "execution_count": 1,
   "id": "71111157",
   "metadata": {},
   "outputs": [
    {
     "name": "stderr",
     "output_type": "stream",
     "text": [
      "\u001b[32m\u001b[1m  Activating\u001b[22m\u001b[39m project at `~/PhD/AdvancedHMC.jl`\n"
     ]
    }
   ],
   "source": [
    "] activate \".\""
   ]
  },
  {
   "cell_type": "code",
   "execution_count": 2,
   "id": "baed58e3",
   "metadata": {},
   "outputs": [],
   "source": [
    "# The statistical inference frame-work we will use\n",
    "using Turing\n",
    "using LogDensityProblems\n",
    "using LogDensityProblemsAD\n",
    "using DynamicPPL\n",
    "using ForwardDiff\n",
    "using Random\n",
    "using LinearAlgebra\n",
    "\n",
    "#Plotting\n",
    "using PyPlot\n",
    "\n",
    "#What we are tweaking\n",
    "using Revise\n",
    "using AdvancedHMC"
   ]
  },
  {
   "cell_type": "markdown",
   "id": "b1b2050a",
   "metadata": {},
   "source": [
    "## Model"
   ]
  },
  {
   "cell_type": "code",
   "execution_count": 3,
   "id": "a7d6f81c",
   "metadata": {},
   "outputs": [
    {
     "data": {
      "text/plain": [
       "funnel (generic function with 2 methods)"
      ]
     },
     "execution_count": 3,
     "metadata": {},
     "output_type": "execute_result"
    }
   ],
   "source": [
    "# Just a simple Neal Funnel\n",
    "d = 21\n",
    "@model function funnel()\n",
    "    θ ~ Normal(0, 3)\n",
    "    z ~ MvNormal(zeros(d-1), exp(θ)*I)\n",
    "    x ~ MvNormal(z, I)\n",
    "end"
   ]
  },
  {
   "cell_type": "code",
   "execution_count": 4,
   "id": "a4d0b131",
   "metadata": {},
   "outputs": [
    {
     "data": {
      "text/plain": [
       "Model{typeof(funnel), (), (), (), Tuple{}, Tuple{}, ConditionContext{NamedTuple{(:x,), Tuple{Vector{Float64}}}, DefaultContext}}(funnel, NamedTuple(), NamedTuple(), ConditionContext((x = [0.7273459156073062, -0.7137895625029701, -1.3112158987551843, 3.195064335503728, 0.6578668590997088, 1.8201670957594605, 2.5774094189910475, 1.2959606640141557, -2.615684720848553, -1.7192495259048919, 0.38510954102334116, 0.7049475219687015, 1.4527158089056038, 1.5438517444010695, 0.8504145036053463, 0.9997932200168839, -0.14767140951984356, 0.6046583528834097, -0.38477500804604936, -1.506202996455002],), DefaultContext()))"
      ]
     },
     "execution_count": 4,
     "metadata": {},
     "output_type": "execute_result"
    }
   ],
   "source": [
    "Random.seed!(1)\n",
    "(;x) = rand(funnel() | (θ=0,))\n",
    "funnel_model = funnel() | (;x)"
   ]
  },
  {
   "cell_type": "code",
   "execution_count": 18,
   "id": "59fe3327",
   "metadata": {},
   "outputs": [
    {
     "data": {
      "text/plain": [
       "Model{typeof(funnel), (), (), (), Tuple{}, Tuple{}, ConditionContext{NamedTuple{(:x,), Tuple{Vector{Float64}}}, DefaultContext}}"
      ]
     },
     "execution_count": 18,
     "metadata": {},
     "output_type": "execute_result"
    }
   ],
   "source": [
    "typeof(funnel_model)"
   ]
  },
  {
   "cell_type": "markdown",
   "id": "10dfa4cc",
   "metadata": {},
   "source": [
    "## Turing interface"
   ]
  },
  {
   "cell_type": "code",
   "execution_count": 16,
   "id": "82938e27",
   "metadata": {},
   "outputs": [
    {
     "data": {
      "text/plain": [
       "Hamiltonian(metric=DiagEuclideanMetric([1.0, 1.0, 1.0, 1.0, 1.0, 1 ...]), kinetic=GaussianKinetic())"
      ]
     },
     "execution_count": 16,
     "metadata": {},
     "output_type": "execute_result"
    }
   ],
   "source": [
    "context = funnel_model.context\n",
    "varinfo = DynamicPPL.VarInfo(funnel_model, context)\n",
    "ℓ = LogDensityProblemsAD.ADgradient(DynamicPPL.LogDensityFunction(varinfo, funnel_model, context))\n",
    "lπ = Base.Fix1(LogDensityProblems.logdensity, ℓ)\n",
    "∂lπ∂θ(x) = LogDensityProblems.logdensity_and_gradient(ℓ, x)\n",
    "metric =  DiagEuclideanMetric(d)\n",
    "hamiltonian = AdvancedHMC.Hamiltonian(metric, lπ, ∂lπ∂θ)"
   ]
  },
  {
   "cell_type": "code",
   "execution_count": 19,
   "id": "7892c22f",
   "metadata": {},
   "outputs": [
    {
     "data": {
      "text/plain": [
       "Sampler"
      ]
     },
     "execution_count": 19,
     "metadata": {},
     "output_type": "execute_result"
    }
   ],
   "source": [
    "struct Sampler\n",
    "    metric\n",
    "    integrator\n",
    "    adaptor\n",
    "    proposal\n",
    "end\n",
    "\n",
    "Sampler(ϵ, TAP) = begin\n",
    "    metric =  DiagEuclideanMetric(d)\n",
    "    integrator = Leapfrog(ϵ)\n",
    "    proposal = AdvancedHMC.NUTS{MultinomialTS, GeneralisedNoUTurn}(integrator)\n",
    "    adaptor = StanHMCAdaptor(MassMatrixAdaptor(metric), StepSizeAdaptor(TAP, integrator))\n",
    "    \n",
    "    Sampler(\n",
    "        metric,\n",
    "        integrator,\n",
    "        adaptor,\n",
    "        proposal)\n",
    "end"
   ]
  },
  {
   "cell_type": "code",
   "execution_count": 20,
   "id": "5d2b54c6",
   "metadata": {},
   "outputs": [
    {
     "data": {
      "text/plain": [
       "Sampler(DiagEuclideanMetric([1.0, 1.0, 1.0, 1.0, 1.0, 1 ...]), Leapfrog(ϵ=1.6), StanHMCAdaptor(\n",
       "    pc=WelfordVar,\n",
       "    ssa=NesterovDualAveraging(γ=0.05, t_0=10.0, κ=0.75, δ=0.95, state.ϵ=1.6),\n",
       "    init_buffer=75, term_buffer=50, window_size=25,\n",
       "    state=window(0, 0), window_splits()\n",
       "), HMCKernel{AdvancedHMC.FullMomentumRefreshment, Trajectory{MultinomialTS, Leapfrog{Float64}, GeneralisedNoUTurn{Float64}}}(AdvancedHMC.FullMomentumRefreshment(), Trajectory{MultinomialTS}(integrator=Leapfrog(ϵ=1.6), tc=GeneralisedNoUTurn{Float64}(10, 1000.0))))"
      ]
     },
     "execution_count": 20,
     "metadata": {},
     "output_type": "execute_result"
    }
   ],
   "source": [
    "initial_θ = randn(21)\n",
    "initial_ϵ = find_good_stepsize(hamiltonian, initial_θ)\n",
    "sampler = Sampler(initial_ϵ, 0.95)"
   ]
  },
  {
   "cell_type": "code",
   "execution_count": 23,
   "id": "4e6daaa5",
   "metadata": {},
   "outputs": [
    {
     "ename": "LoadError",
     "evalue": "error in method definition: function StatsBase.sample must be explicitly imported to be extended",
     "output_type": "error",
     "traceback": [
      "error in method definition: function StatsBase.sample must be explicitly imported to be extended",
      "",
      "Stacktrace:",
      " [1] top-level scope",
      "   @ none:0",
      " [2] top-level scope",
      "   @ In[23]:1"
     ]
    }
   ],
   "source": [
    "function StatsBase.sample(model::DynamicPPL.Model, sampler::Sampler, n_samples::Int, n_adapts::Int;\n",
    "                initial_θ=initial_θ, kwargs...)\n",
    "    ctxt = model.context\n",
    "    vi = DynamicPPL.VarInfo(model, ctxt)\n",
    "    \n",
    "    # We will need to implement this but it is going to be \n",
    "    # Interesting how to plug the transforms along the sampling\n",
    "    # processes\n",
    "    \n",
    "    #vi_t = Turing.link!!(vi, model)\n",
    "    \n",
    "    ℓ = LogDensityProblemsAD.ADgradient(DynamicPPL.LogDensityFunction(vi, model, ctxt))\n",
    "    ℓπ(x) = LogDensityProblems.logdensity(ℓ, x)\n",
    "    ∂lπ∂θ(x) = LogDensityProblems.logdensity_and_gradient(ℓ, x)\n",
    "    \n",
    "    metric = sampler.metric\n",
    "    integrator = sampler.integrator\n",
    "    adaptor = sampler.adaptor\n",
    "    proposal = sampler.proposal\n",
    "    hamiltonian = AdvancedHMC.Hamiltonian(metric, lπ, ∂lπ∂θ)\n",
    "    \n",
    "    return StatsBase.sample(hamiltonian, proposal, initial_θ, n_samples, adaptor, n_adapts; progress=true)\n",
    "end    "
   ]
  },
  {
   "cell_type": "code",
   "execution_count": 22,
   "id": "d155ffb6",
   "metadata": {},
   "outputs": [
    {
     "ename": "LoadError",
     "evalue": "MethodError: no method matching sample(::Model{typeof(funnel), (), (), (), Tuple{}, Tuple{}, ConditionContext{NamedTuple{(:x,), Tuple{Vector{Float64}}}, DefaultContext}}, ::Sampler, ::Int64, ::Int64; initial_θ::Vector{Float64})\n\nSome of the types have been truncated in the stacktrace for improved reading. To emit complete information\nin the stack trace, evaluate `TruncatedStacktraces.VERBOSE[] = true` and re-run the code.\n\n\n\u001b[0mClosest candidates are:\n\u001b[0m  sample(\u001b[91m::AbstractRNG\u001b[39m, ::Any, \u001b[91m::AbstractMCMC.AbstractSampler\u001b[39m, ::Any; kwargs...)\n\u001b[0m\u001b[90m   @\u001b[39m \u001b[35mAbstractMCMC\u001b[39m \u001b[90m~/.julia/packages/AbstractMCMC/F9Hbk/src/\u001b[39m\u001b[90m\u001b[4mlogdensityproblems.jl:43\u001b[24m\u001b[39m\n\u001b[0m  sample(::Any, \u001b[91m::AbstractMCMC.AbstractSampler\u001b[39m, \u001b[91m::AbstractMCMC.AbstractMCMCEnsemble\u001b[39m, ::Integer, \u001b[91m::Integer\u001b[39m; kwargs...)\n\u001b[0m\u001b[90m   @\u001b[39m \u001b[35mAbstractMCMC\u001b[39m \u001b[90m~/.julia/packages/AbstractMCMC/F9Hbk/src/\u001b[39m\u001b[90m\u001b[4msample.jl:54\u001b[24m\u001b[39m\n\u001b[0m  sample(::Any, \u001b[91m::AbstractMCMC.AbstractSampler\u001b[39m, ::Any; kwargs...)\n\u001b[0m\u001b[90m   @\u001b[39m \u001b[35mAbstractMCMC\u001b[39m \u001b[90m~/.julia/packages/AbstractMCMC/F9Hbk/src/\u001b[39m\u001b[90m\u001b[4msample.jl:15\u001b[24m\u001b[39m\n\u001b[0m  ...\n",
     "output_type": "error",
     "traceback": [
      "MethodError: no method matching sample(::Model{typeof(funnel), (), (), (), Tuple{}, Tuple{}, ConditionContext{NamedTuple{(:x,), Tuple{Vector{Float64}}}, DefaultContext}}, ::Sampler, ::Int64, ::Int64; initial_θ::Vector{Float64})\n\nSome of the types have been truncated in the stacktrace for improved reading. To emit complete information\nin the stack trace, evaluate `TruncatedStacktraces.VERBOSE[] = true` and re-run the code.\n\n\n\u001b[0mClosest candidates are:\n\u001b[0m  sample(\u001b[91m::AbstractRNG\u001b[39m, ::Any, \u001b[91m::AbstractMCMC.AbstractSampler\u001b[39m, ::Any; kwargs...)\n\u001b[0m\u001b[90m   @\u001b[39m \u001b[35mAbstractMCMC\u001b[39m \u001b[90m~/.julia/packages/AbstractMCMC/F9Hbk/src/\u001b[39m\u001b[90m\u001b[4mlogdensityproblems.jl:43\u001b[24m\u001b[39m\n\u001b[0m  sample(::Any, \u001b[91m::AbstractMCMC.AbstractSampler\u001b[39m, \u001b[91m::AbstractMCMC.AbstractMCMCEnsemble\u001b[39m, ::Integer, \u001b[91m::Integer\u001b[39m; kwargs...)\n\u001b[0m\u001b[90m   @\u001b[39m \u001b[35mAbstractMCMC\u001b[39m \u001b[90m~/.julia/packages/AbstractMCMC/F9Hbk/src/\u001b[39m\u001b[90m\u001b[4msample.jl:54\u001b[24m\u001b[39m\n\u001b[0m  sample(::Any, \u001b[91m::AbstractMCMC.AbstractSampler\u001b[39m, ::Any; kwargs...)\n\u001b[0m\u001b[90m   @\u001b[39m \u001b[35mAbstractMCMC\u001b[39m \u001b[90m~/.julia/packages/AbstractMCMC/F9Hbk/src/\u001b[39m\u001b[90m\u001b[4msample.jl:15\u001b[24m\u001b[39m\n\u001b[0m  ...\n",
      "",
      "Stacktrace:",
      " [1] top-level scope",
      "   @ In[22]:2"
     ]
    }
   ],
   "source": [
    "n_samples, n_adapts = 10_000, 1_000\n",
    "sample(funnel_model, sampler, n_samples, n_adapts; initial_θ=initial_θ)"
   ]
  },
  {
   "cell_type": "markdown",
   "id": "177aaeb0",
   "metadata": {},
   "source": [
    "## Sampling"
   ]
  },
  {
   "cell_type": "code",
   "execution_count": 13,
   "id": "9a554c93",
   "metadata": {},
   "outputs": [
    {
     "name": "stderr",
     "output_type": "stream",
     "text": [
      "\u001b[33m\u001b[1m┌ \u001b[22m\u001b[39m\u001b[33m\u001b[1mWarning: \u001b[22m\u001b[39mProgressMeter by default refresh meters with additional information in IJulia via `IJulia.clear_output`, which clears all outputs in the cell. \n",
      "\u001b[33m\u001b[1m│ \u001b[22m\u001b[39m - To prevent this behaviour, do `ProgressMeter.ijulia_behavior(:append)`. \n",
      "\u001b[33m\u001b[1m│ \u001b[22m\u001b[39m - To disable this warning message, do `ProgressMeter.ijulia_behavior(:clear)`.\n",
      "\u001b[33m\u001b[1m└ \u001b[22m\u001b[39m\u001b[90m@ ProgressMeter ~/.julia/packages/ProgressMeter/sN2xr/src/ProgressMeter.jl:618\u001b[39m\n",
      "\u001b[32mSampling 100%|███████████████████████████████| Time: 0:00:01\u001b[39m\n",
      "\u001b[34m  iterations:                                   10000\u001b[39m\n",
      "\u001b[34m  ratio_divergent_transitions:                  0.0\u001b[39m\n",
      "\u001b[34m  ratio_divergent_transitions_during_adaption:  0.0\u001b[39m\n",
      "\u001b[34m  n_steps:                                      15\u001b[39m\n",
      "\u001b[34m  is_accept:                                    true\u001b[39m\n",
      "\u001b[34m  acceptance_rate:                              0.9429472344154662\u001b[39m\n",
      "\u001b[34m  log_density:                                  -60.09829978233757\u001b[39m\n",
      "\u001b[34m  hamiltonian_energy:                           68.99870162156931\u001b[39m\n",
      "\u001b[34m  hamiltonian_energy_error:                     0.09210815757290902\u001b[39m\n",
      "\u001b[34m  max_hamiltonian_energy_error:                 0.128026123025748\u001b[39m\n",
      "\u001b[34m  tree_depth:                                   4\u001b[39m\n",
      "\u001b[34m  numerical_error:                              false\u001b[39m\n",
      "\u001b[34m  step_size:                                    0.3022038351736327\u001b[39m\n",
      "\u001b[34m  nom_step_size:                                0.3022038351736327\u001b[39m\n",
      "\u001b[34m  is_adapt:                                     false\u001b[39m\n",
      "\u001b[34m  mass_matrix:                                  DiagEuclideanMetric([0.40626103542505176, 0.488 ...])\u001b[39m\n",
      "\u001b[36m\u001b[1m┌ \u001b[22m\u001b[39m\u001b[36m\u001b[1mInfo: \u001b[22m\u001b[39mFinished 10000 sampling steps for 1 chains in 1.607604043 (s)\n",
      "\u001b[36m\u001b[1m│ \u001b[22m\u001b[39m  h = Hamiltonian(metric=DiagEuclideanMetric([0.40626103542505176, 0.488 ...]), kinetic=GaussianKinetic())\n",
      "\u001b[36m\u001b[1m│ \u001b[22m\u001b[39m  κ = HMCKernel{AdvancedHMC.FullMomentumRefreshment, Trajectory{MultinomialTS, Leapfrog{Float64}, GeneralisedNoUTurn{Float64}}}(AdvancedHMC.FullMomentumRefreshment(), Trajectory{MultinomialTS}(integrator=Leapfrog(ϵ=0.302), tc=GeneralisedNoUTurn{Float64}(10, 1000.0)))\n",
      "\u001b[36m\u001b[1m│ \u001b[22m\u001b[39m  EBFMI_est = 0.5282960862196817\n",
      "\u001b[36m\u001b[1m└ \u001b[22m\u001b[39m  average_acceptance_rate = 0.9356960325097549\n"
     ]
    }
   ],
   "source": [
    "# Set the number of samples to draw and warmup iterations\n",
    "n_samples, n_adapts = 10_000, 1_000\n",
    "initial_θ = randn(21)\n",
    "initial_ϵ = find_good_stepsize(hamiltonian, initial_θ)\n",
    "integrator = Leapfrog(initial_ϵ)\n",
    "\n",
    "# Define an HMC sampler, with the following components\n",
    "#   - multinomial sampling scheme,\n",
    "#   - generalised No-U-Turn criteria, and\n",
    "#   - windowed adaption for step-size and diagonal mass matrix\n",
    "proposal = AdvancedHMC.NUTS{MultinomialTS, GeneralisedNoUTurn}(integrator)\n",
    "adaptor = StanHMCAdaptor(MassMatrixAdaptor(metric), StepSizeAdaptor(0.95, integrator))\n",
    "\n",
    "# Run the sampler to draw samples from the specified Gaussian, where\n",
    "#   - `samples` will store the samples\n",
    "#   - `stats` will store diagnostic statistics for each sample\n",
    "samples, stats = sample(hamiltonian, proposal, initial_θ, n_samples, adaptor, n_adapts; progress=true);"
   ]
  },
  {
   "cell_type": "markdown",
   "id": "b823abef",
   "metadata": {},
   "source": [
    "## Plotting"
   ]
  },
  {
   "cell_type": "code",
   "execution_count": 14,
   "id": "2a803eb8",
   "metadata": {},
   "outputs": [],
   "source": [
    "theta_mchmc = [sample[1] for sample in samples]\n",
    "x10_mchmc = [sample[10+1] for sample in samples];"
   ]
  },
  {
   "cell_type": "code",
   "execution_count": 15,
   "id": "a499aa74",
   "metadata": {},
   "outputs": [
    {
     "data": {
      "image/png": "[encoded data removed]",
      "text/plain": [
       "Figure(PyObject <Figure size 800x800 with 3 Axes>)"
      ]
     },
     "metadata": {},
     "output_type": "display_data"
    }
   ],
   "source": [
    "fig, axis = plt.subplots(2, 2, figsize=(8,8))\n",
    "fig.suptitle(\"Neal's Funnel\", fontsize=16)\n",
    "\n",
    "fig.delaxes(axis[1,2])\n",
    "fig.subplots_adjust(hspace=0)\n",
    "fig.subplots_adjust(wspace=0)\n",
    "\n",
    "axis[1,1].hist(x10_mchmc, bins=100, range=[-6,2])\n",
    "axis[1,1].set_yticks([])\n",
    "\n",
    "axis[2,2].hist(theta_mchmc, bins=100, orientation=\"horizontal\", range=[-4, 2])\n",
    "axis[2,2].set_xticks([])\n",
    "axis[2,2].set_yticks([])\n",
    "\n",
    "axis[2,1].hist2d(x10_mchmc, theta_mchmc, bins=100, range=[[-6,2],[-4, 2]])\n",
    "axis[2,1].set_xlabel(\"x10\")\n",
    "axis[2,1].set_ylabel(\"theta\");"
   ]
  },
  {
   "cell_type": "code",
   "execution_count": null,
   "id": "db7f4a47",
   "metadata": {},
   "outputs": [],
   "source": []
  }
 ],
 "metadata": {
  "kernelspec": {
   "display_name": "Julia 1.9.0-rc1",
   "language": "julia",
   "name": "julia-1.9"
  },
  "language_info": {
   "file_extension": ".jl",
   "mimetype": "application/julia",
   "name": "julia",
   "version": "1.9.0"
  }
 },
 "nbformat": 4,
 "nbformat_minor": 5
}
